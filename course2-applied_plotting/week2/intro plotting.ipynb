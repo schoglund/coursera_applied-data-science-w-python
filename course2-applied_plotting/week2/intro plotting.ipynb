{
 "cells": [
  {
   "cell_type": "markdown",
   "id": "d909d818-5efa-49fd-8ab8-3bb7939b69e4",
   "metadata": {},
   "source": [
    "# Fundamentals of Matplotlib"
   ]
  },
  {
   "cell_type": "code",
   "execution_count": 1,
   "id": "a48bab2f-badb-4b8d-9ffa-5c8f875180d1",
   "metadata": {},
   "outputs": [
    {
     "data": {
      "text/plain": [
       "'module://matplotlib_inline.backend_inline'"
      ]
     },
     "execution_count": 1,
     "metadata": {},
     "output_type": "execute_result"
    }
   ],
   "source": [
    "import matplotlib as mpl\n",
    "mpl.get_backend()"
   ]
  },
  {
   "cell_type": "code",
   "execution_count": 2,
   "id": "49c6ecd1-0e45-444d-a1c6-a42508f53475",
   "metadata": {
    "scrolled": true,
    "tags": []
   },
   "outputs": [
    {
     "data": {
      "text/plain": [
       "\u001b[0;31mSignature:\u001b[0m \u001b[0mplt\u001b[0m\u001b[0;34m.\u001b[0m\u001b[0mplot\u001b[0m\u001b[0;34m(\u001b[0m\u001b[0;34m*\u001b[0m\u001b[0margs\u001b[0m\u001b[0;34m,\u001b[0m \u001b[0mscalex\u001b[0m\u001b[0;34m=\u001b[0m\u001b[0;32mTrue\u001b[0m\u001b[0;34m,\u001b[0m \u001b[0mscaley\u001b[0m\u001b[0;34m=\u001b[0m\u001b[0;32mTrue\u001b[0m\u001b[0;34m,\u001b[0m \u001b[0mdata\u001b[0m\u001b[0;34m=\u001b[0m\u001b[0;32mNone\u001b[0m\u001b[0;34m,\u001b[0m \u001b[0;34m**\u001b[0m\u001b[0mkwargs\u001b[0m\u001b[0;34m)\u001b[0m\u001b[0;34m\u001b[0m\u001b[0;34m\u001b[0m\u001b[0m\n",
       "\u001b[0;31mDocstring:\u001b[0m\n",
       "Plot y versus x as lines and/or markers.\n",
       "\n",
       "Call signatures::\n",
       "\n",
       "    plot([x], y, [fmt], *, data=None, **kwargs)\n",
       "    plot([x], y, [fmt], [x2], y2, [fmt2], ..., **kwargs)\n",
       "\n",
       "The coordinates of the points or line nodes are given by *x*, *y*.\n",
       "\n",
       "The optional parameter *fmt* is a convenient way for defining basic\n",
       "formatting like color, marker and linestyle. It's a shortcut string\n",
       "notation described in the *Notes* section below.\n",
       "\n",
       ">>> plot(x, y)        # plot x and y using default line style and color\n",
       ">>> plot(x, y, 'bo')  # plot x and y using blue circle markers\n",
       ">>> plot(y)           # plot y using x as index array 0..N-1\n",
       ">>> plot(y, 'r+')     # ditto, but with red plusses\n",
       "\n",
       "You can use `.Line2D` properties as keyword arguments for more\n",
       "control on the appearance. Line properties and *fmt* can be mixed.\n",
       "The following two calls yield identical results:\n",
       "\n",
       ">>> plot(x, y, 'go--', linewidth=2, markersize=12)\n",
       ">>> plot(x, y, color='green', marker='o', linestyle='dashed',\n",
       "...      linewidth=2, markersize=12)\n",
       "\n",
       "When conflicting with *fmt*, keyword arguments take precedence.\n",
       "\n",
       "\n",
       "**Plotting labelled data**\n",
       "\n",
       "There's a convenient way for plotting objects with labelled data (i.e.\n",
       "data that can be accessed by index ``obj['y']``). Instead of giving\n",
       "the data in *x* and *y*, you can provide the object in the *data*\n",
       "parameter and just give the labels for *x* and *y*::\n",
       "\n",
       ">>> plot('xlabel', 'ylabel', data=obj)\n",
       "\n",
       "All indexable objects are supported. This could e.g. be a `dict`, a\n",
       "`pandas.DataFrame` or a structured numpy array.\n",
       "\n",
       "\n",
       "**Plotting multiple sets of data**\n",
       "\n",
       "There are various ways to plot multiple sets of data.\n",
       "\n",
       "- The most straight forward way is just to call `plot` multiple times.\n",
       "  Example:\n",
       "\n",
       "  >>> plot(x1, y1, 'bo')\n",
       "  >>> plot(x2, y2, 'go')\n",
       "\n",
       "- If *x* and/or *y* are 2D arrays a separate data set will be drawn\n",
       "  for every column. If both *x* and *y* are 2D, they must have the\n",
       "  same shape. If only one of them is 2D with shape (N, m) the other\n",
       "  must have length N and will be used for every data set m.\n",
       "\n",
       "  Example:\n",
       "\n",
       "  >>> x = [1, 2, 3]\n",
       "  >>> y = np.array([[1, 2], [3, 4], [5, 6]])\n",
       "  >>> plot(x, y)\n",
       "\n",
       "  is equivalent to:\n",
       "\n",
       "  >>> for col in range(y.shape[1]):\n",
       "  ...     plot(x, y[:, col])\n",
       "\n",
       "- The third way is to specify multiple sets of *[x]*, *y*, *[fmt]*\n",
       "  groups::\n",
       "\n",
       "  >>> plot(x1, y1, 'g^', x2, y2, 'g-')\n",
       "\n",
       "  In this case, any additional keyword argument applies to all\n",
       "  datasets. Also this syntax cannot be combined with the *data*\n",
       "  parameter.\n",
       "\n",
       "By default, each line is assigned a different style specified by a\n",
       "'style cycle'. The *fmt* and line property parameters are only\n",
       "necessary if you want explicit deviations from these defaults.\n",
       "Alternatively, you can also change the style cycle using\n",
       ":rc:`axes.prop_cycle`.\n",
       "\n",
       "\n",
       "Parameters\n",
       "----------\n",
       "x, y : array-like or scalar\n",
       "    The horizontal / vertical coordinates of the data points.\n",
       "    *x* values are optional and default to ``range(len(y))``.\n",
       "\n",
       "    Commonly, these parameters are 1D arrays.\n",
       "\n",
       "    They can also be scalars, or two-dimensional (in that case, the\n",
       "    columns represent separate data sets).\n",
       "\n",
       "    These arguments cannot be passed as keywords.\n",
       "\n",
       "fmt : str, optional\n",
       "    A format string, e.g. 'ro' for red circles. See the *Notes*\n",
       "    section for a full description of the format strings.\n",
       "\n",
       "    Format strings are just an abbreviation for quickly setting\n",
       "    basic line properties. All of these and more can also be\n",
       "    controlled by keyword arguments.\n",
       "\n",
       "    This argument cannot be passed as keyword.\n",
       "\n",
       "data : indexable object, optional\n",
       "    An object with labelled data. If given, provide the label names to\n",
       "    plot in *x* and *y*.\n",
       "\n",
       "    .. note::\n",
       "        Technically there's a slight ambiguity in calls where the\n",
       "        second label is a valid *fmt*. ``plot('n', 'o', data=obj)``\n",
       "        could be ``plt(x, y)`` or ``plt(y, fmt)``. In such cases,\n",
       "        the former interpretation is chosen, but a warning is issued.\n",
       "        You may suppress the warning by adding an empty format string\n",
       "        ``plot('n', 'o', '', data=obj)``.\n",
       "\n",
       "Returns\n",
       "-------\n",
       "list of `.Line2D`\n",
       "    A list of lines representing the plotted data.\n",
       "\n",
       "Other Parameters\n",
       "----------------\n",
       "scalex, scaley : bool, default: True\n",
       "    These parameters determine if the view limits are adapted to the\n",
       "    data limits. The values are passed on to\n",
       "    `~.axes.Axes.autoscale_view`.\n",
       "\n",
       "**kwargs : `.Line2D` properties, optional\n",
       "    *kwargs* are used to specify properties like a line label (for\n",
       "    auto legends), linewidth, antialiasing, marker face color.\n",
       "    Example::\n",
       "\n",
       "    >>> plot([1, 2, 3], [1, 2, 3], 'go-', label='line 1', linewidth=2)\n",
       "    >>> plot([1, 2, 3], [1, 4, 9], 'rs', label='line 2')\n",
       "\n",
       "    If you specify multiple lines with one plot call, the kwargs apply\n",
       "    to all those lines. In case the label object is iterable, each\n",
       "    element is used as labels for each set of data.\n",
       "\n",
       "    Here is a list of available `.Line2D` properties:\n",
       "\n",
       "    Properties:\n",
       "    agg_filter: a filter function, which takes a (m, n, 3) float array and a dpi value, and returns a (m, n, 3) array and two offsets from the bottom left corner of the image\n",
       "    alpha: scalar or None\n",
       "    animated: bool\n",
       "    antialiased or aa: bool\n",
       "    clip_box: `.Bbox`\n",
       "    clip_on: bool\n",
       "    clip_path: Patch or (Path, Transform) or None\n",
       "    color or c: color\n",
       "    dash_capstyle: `.CapStyle` or {'butt', 'projecting', 'round'}\n",
       "    dash_joinstyle: `.JoinStyle` or {'miter', 'round', 'bevel'}\n",
       "    dashes: sequence of floats (on/off ink in points) or (None, None)\n",
       "    data: (2, N) array or two 1D arrays\n",
       "    drawstyle or ds: {'default', 'steps', 'steps-pre', 'steps-mid', 'steps-post'}, default: 'default'\n",
       "    figure: `.Figure`\n",
       "    fillstyle: {'full', 'left', 'right', 'bottom', 'top', 'none'}\n",
       "    gapcolor: color or None\n",
       "    gid: str\n",
       "    in_layout: bool\n",
       "    label: object\n",
       "    linestyle or ls: {'-', '--', '-.', ':', '', (offset, on-off-seq), ...}\n",
       "    linewidth or lw: float\n",
       "    marker: marker style string, `~.path.Path` or `~.markers.MarkerStyle`\n",
       "    markeredgecolor or mec: color\n",
       "    markeredgewidth or mew: float\n",
       "    markerfacecolor or mfc: color\n",
       "    markerfacecoloralt or mfcalt: color\n",
       "    markersize or ms: float\n",
       "    markevery: None or int or (int, int) or slice or list[int] or float or (float, float) or list[bool]\n",
       "    mouseover: bool\n",
       "    path_effects: `.AbstractPathEffect`\n",
       "    picker: float or callable[[Artist, Event], tuple[bool, dict]]\n",
       "    pickradius: unknown\n",
       "    rasterized: bool\n",
       "    sketch_params: (scale: float, length: float, randomness: float)\n",
       "    snap: bool or None\n",
       "    solid_capstyle: `.CapStyle` or {'butt', 'projecting', 'round'}\n",
       "    solid_joinstyle: `.JoinStyle` or {'miter', 'round', 'bevel'}\n",
       "    transform: unknown\n",
       "    url: str\n",
       "    visible: bool\n",
       "    xdata: 1D array\n",
       "    ydata: 1D array\n",
       "    zorder: float\n",
       "\n",
       "See Also\n",
       "--------\n",
       "scatter : XY scatter plot with markers of varying size and/or color (\n",
       "    sometimes also called bubble chart).\n",
       "\n",
       "Notes\n",
       "-----\n",
       "**Format Strings**\n",
       "\n",
       "A format string consists of a part for color, marker and line::\n",
       "\n",
       "    fmt = '[marker][line][color]'\n",
       "\n",
       "Each of them is optional. If not provided, the value from the style\n",
       "cycle is used. Exception: If ``line`` is given, but no ``marker``,\n",
       "the data will be a line without markers.\n",
       "\n",
       "Other combinations such as ``[color][marker][line]`` are also\n",
       "supported, but note that their parsing may be ambiguous.\n",
       "\n",
       "**Markers**\n",
       "\n",
       "=============   ===============================\n",
       "character       description\n",
       "=============   ===============================\n",
       "``'.'``         point marker\n",
       "``','``         pixel marker\n",
       "``'o'``         circle marker\n",
       "``'v'``         triangle_down marker\n",
       "``'^'``         triangle_up marker\n",
       "``'<'``         triangle_left marker\n",
       "``'>'``         triangle_right marker\n",
       "``'1'``         tri_down marker\n",
       "``'2'``         tri_up marker\n",
       "``'3'``         tri_left marker\n",
       "``'4'``         tri_right marker\n",
       "``'8'``         octagon marker\n",
       "``'s'``         square marker\n",
       "``'p'``         pentagon marker\n",
       "``'P'``         plus (filled) marker\n",
       "``'*'``         star marker\n",
       "``'h'``         hexagon1 marker\n",
       "``'H'``         hexagon2 marker\n",
       "``'+'``         plus marker\n",
       "``'x'``         x marker\n",
       "``'X'``         x (filled) marker\n",
       "``'D'``         diamond marker\n",
       "``'d'``         thin_diamond marker\n",
       "``'|'``         vline marker\n",
       "``'_'``         hline marker\n",
       "=============   ===============================\n",
       "\n",
       "**Line Styles**\n",
       "\n",
       "=============    ===============================\n",
       "character        description\n",
       "=============    ===============================\n",
       "``'-'``          solid line style\n",
       "``'--'``         dashed line style\n",
       "``'-.'``         dash-dot line style\n",
       "``':'``          dotted line style\n",
       "=============    ===============================\n",
       "\n",
       "Example format strings::\n",
       "\n",
       "    'b'    # blue markers with default shape\n",
       "    'or'   # red circles\n",
       "    '-g'   # green solid line\n",
       "    '--'   # dashed line with default color\n",
       "    '^k:'  # black triangle_up markers connected by a dotted line\n",
       "\n",
       "**Colors**\n",
       "\n",
       "The supported color abbreviations are the single letter codes\n",
       "\n",
       "=============    ===============================\n",
       "character        color\n",
       "=============    ===============================\n",
       "``'b'``          blue\n",
       "``'g'``          green\n",
       "``'r'``          red\n",
       "``'c'``          cyan\n",
       "``'m'``          magenta\n",
       "``'y'``          yellow\n",
       "``'k'``          black\n",
       "``'w'``          white\n",
       "=============    ===============================\n",
       "\n",
       "and the ``'CN'`` colors that index into the default property cycle.\n",
       "\n",
       "If the color is the only part of the format string, you can\n",
       "additionally use any  `matplotlib.colors` spec, e.g. full names\n",
       "(``'green'``) or hex strings (``'#008000'``).\n",
       "\u001b[0;31mFile:\u001b[0m      /opt/conda/lib/python3.8/site-packages/matplotlib/pyplot.py\n",
       "\u001b[0;31mType:\u001b[0m      function\n"
      ]
     },
     "metadata": {},
     "output_type": "display_data"
    }
   ],
   "source": [
    "import matplotlib.pyplot as plt\n",
    "plt.plot?"
   ]
  },
  {
   "cell_type": "markdown",
   "id": "0815a0e4-07c2-4c97-a518-edf3a2ece595",
   "metadata": {},
   "source": [
    "Nothing will actually print. `plot` just generates a graph with no points"
   ]
  },
  {
   "cell_type": "code",
   "execution_count": 3,
   "id": "67be811b-5a17-4535-a53d-ac9b6f43b698",
   "metadata": {},
   "outputs": [
    {
     "data": {
      "text/plain": [
       "[<matplotlib.lines.Line2D at 0x7f937c2e5f70>]"
      ]
     },
     "execution_count": 3,
     "metadata": {},
     "output_type": "execute_result"
    },
    {
     "data": {
      "image/png": "[encoded data removed]",
      "text/plain": [
       "<Figure size 432x288 with 1 Axes>"
      ]
     },
     "metadata": {
      "needs_background": "light"
     },
     "output_type": "display_data"
    }
   ],
   "source": [
    "plt.plot(3,2)"
   ]
  },
  {
   "cell_type": "markdown",
   "id": "6658a7ec-43f5-4cb5-be5c-94d160914574",
   "metadata": {},
   "source": [
    "Use the argument `'.'` to plot a dot at x=3, y=2"
   ]
  },
  {
   "cell_type": "code",
   "execution_count": 4,
   "id": "6d6a6512-9cb6-4af7-bf1d-dc124ceda5ca",
   "metadata": {},
   "outputs": [
    {
     "data": {
      "text/plain": [
       "[<matplotlib.lines.Line2D at 0x7f93741e9a00>]"
      ]
     },
     "execution_count": 4,
     "metadata": {},
     "output_type": "execute_result"
    },
    {
     "data": {
      "image/png": "[encoded data removed]",
      "text/plain": [
       "<Figure size 432x288 with 1 Axes>"
      ]
     },
     "metadata": {
      "needs_background": "light"
     },
     "output_type": "display_data"
    }
   ],
   "source": [
    "plt.plot(3,2, '.')"
   ]
  },
  {
   "cell_type": "code",
   "execution_count": 5,
   "id": "02b9c1b3-6d41-4027-ab38-62b53bc869dd",
   "metadata": {},
   "outputs": [],
   "source": [
    "from matplotlib.backends.backend_agg import FigureCanvasAgg\n",
    "from matplotlib.figure import Figure\n",
    "\n",
    "fig = Figure() # top-level object we'll be using, create new empty figure\n",
    "\n",
    "canvas = FigureCanvasAgg(fig) # associate figure with canvas backend \n",
    "\n",
    "ax = fig.add_subplot(111) # 111 means we want to add one plot; return object = Axes object which has methods for plotting\n",
    "\n",
    "ax.plot(3, 2, '.')\n",
    "\n",
    "# backend can't render plot within Jupyter, so have to save image to png file\n",
    "canvas.print_png('test.png')"
   ]
  },
  {
   "cell_type": "markdown",
   "id": "1a50f7f4-cfbb-4ee4-be89-15fee69ffa49",
   "metadata": {},
   "source": [
    "Use HTML to see rendered image:"
   ]
  },
  {
   "cell_type": "code",
   "execution_count": 6,
   "id": "77edcacd-c06d-44de-b7c2-3e30544a08a4",
   "metadata": {},
   "outputs": [
    {
     "name": "stderr",
     "output_type": "stream",
     "text": [
      "UsageError: unrecognized arguments: # tell Jupyter to render this block as HTML code\n"
     ]
    }
   ],
   "source": [
    "%%html # tell Jupyter to render this block as HTML code\n",
    "<img src='test.png' />"
   ]
  },
  {
   "cell_type": "markdown",
   "id": "c62fac6e-dc8e-44e1-a906-edc19dfe7f12",
   "metadata": {},
   "source": [
    "Make a new plot:"
   ]
  },
  {
   "cell_type": "code",
   "execution_count": null,
   "id": "1a23e596-3774-40e7-a4d7-3d469af9c1ef",
   "metadata": {},
   "outputs": [],
   "source": [
    "plt.figure()\n",
    "\n",
    "# plot the point (3,2) again using a circle marker\n",
    "plt.plot(3,2,'o')\n",
    "\n",
    "# get access to current axes of current figure\n",
    "ax = plt.gca()\n",
    "\n",
    "# set ranges of axes: min_x, max_x, min_y, max_y\n",
    "ax.axis([0,6,0,10]) \n"
   ]
  },
  {
   "cell_type": "markdown",
   "id": "9d8709fc-97aa-4515-b42f-7b7366d66606",
   "metadata": {},
   "source": [
    "Can add Artists to an Axes object any time. Pyplot does this for us when we call `figure()`. It determines what shape we want from the string, the location associated w that shape, and creating Patch object to add to axes."
   ]
  },
  {
   "cell_type": "code",
   "execution_count": null,
   "id": "f777f290-203e-4f98-9f93-091991e00f0f",
   "metadata": {},
   "outputs": [],
   "source": [
    "plt.figure()\n",
    "\n",
    "# add 3 points\n",
    "plt.plot(1.5,1.5,'o')\n",
    "plt.plot(2,2,'o')\n",
    "plt.plot(2.5,2.5,'o')"
   ]
  },
  {
   "cell_type": "markdown",
   "id": "16641f0e-ca63-40fb-8b06-d26a68728110",
   "metadata": {},
   "source": [
    "Get the child objects of `Axes` object:"
   ]
  },
  {
   "cell_type": "code",
   "execution_count": null,
   "id": "43b7d525-0b28-4bd3-8ae0-8bc54ce31e20",
   "metadata": {},
   "outputs": [],
   "source": [
    "ax = plt.gca() # new axis and figure being created because we're in a new cell\n",
    "\n",
    "plt.plot(1.5,1.5,'o')\n",
    "\n",
    "ax.get_children()"
   ]
  },
  {
   "cell_type": "markdown",
   "id": "047f4ce9-ec87-42bb-94af-f82b025edd09",
   "metadata": {},
   "source": [
    "Things to Remember:\n",
    "* `plot()` generates a series of points which get rendered against an axis object.\n",
    "* Pyplot retrieves the current figure with `plt.gcf()` and the current axis with `plt.gca()`.\n",
    "* Calling `plot()` against the pyplot module actually calls the axis plot functions underneath.\n",
    "* Pyplot is the scripting interface\n",
    "\n",
    "# Scatterplots\n",
    "2D plot that takes in x and y values"
   ]
  },
  {
   "cell_type": "code",
   "execution_count": null,
   "id": "514abad8-485a-4992-8d43-0b0ce9c7a743",
   "metadata": {},
   "outputs": [],
   "source": [
    "import matplotlib.pyplot as plt"
   ]
  },
  {
   "cell_type": "code",
   "execution_count": null,
   "id": "47be4785-018f-4845-879b-f1dc55be6472",
   "metadata": {},
   "outputs": [],
   "source": [
    "import numpy as np\n",
    "\n",
    "x = np.array([1,2,3,4,5,6,7,8])\n",
    "y = x\n",
    "\n",
    "plt.figure()\n",
    "plt.scatter(x,y) # produce scatterplot"
   ]
  },
  {
   "cell_type": "markdown",
   "id": "ea8c1ab9-cc20-4428-8816-393f9c497b99",
   "metadata": {},
   "source": [
    "`scatter` doesn't represent items as a series like `plot` did. We can pass in a list of colors corresponding to given points. Let's have all the points be green except the last one is red:"
   ]
  },
  {
   "cell_type": "code",
   "execution_count": null,
   "id": "8f6c8ab4-d299-45f1-9f9e-3abbe08ff007",
   "metadata": {},
   "outputs": [],
   "source": [
    "x = np.array([1,2,3,4,5,6,7,8])\n",
    "y = x\n",
    "\n",
    "# create list of colors\n",
    "colors = ['green']*(len(x)-1)\n",
    "colors.append('red')\n",
    "\n",
    "# create new figure\n",
    "plt.figure()\n",
    "\n",
    "# plot the points with marker size 100 and our colors list\n",
    "plt.scatter(x,y,s=100, c=colors)"
   ]
  },
  {
   "cell_type": "markdown",
   "id": "f91ba7d8-9b5b-42d7-bf6e-000eee3622aa",
   "metadata": {},
   "source": [
    "Separation of data into lists is common. Why list comprehension and lambdas are so important.\n",
    "\n",
    "But you can also store data pairs as tuples:\n",
    "\n",
    "`zip(x,y)`: creates pairwise tuples from x and y; `[(x1,y1), (x2,y2), ...]`; need to use `list()` to see results of iterating over a `zip` called 'realizing' since `zip` returns a generator OR `*` to unpack a collection inton positionanl arguments"
   ]
  },
  {
   "cell_type": "code",
   "execution_count": null,
   "id": "82b0ee7d-4794-4a1f-b06f-c191feadb4db",
   "metadata": {},
   "outputs": [],
   "source": [
    "# convert two lists into a list of pairwise tuples\n",
    "## Method 1\n",
    "zip_generator = zip([1,2,3,4,5], [6,7,7,8,9,10])\n",
    "\n",
    "print(list(zip_generator))\n",
    "\n",
    "## Method 2\n",
    "zip_generator = zip([1,2,3,4,5], [6,7,7,8,9,10])\n",
    "\n",
    "print(*zip_generator)"
   ]
  },
  {
   "cell_type": "markdown",
   "id": "c4cf61e9-219e-45f6-b0bd-e83241116977",
   "metadata": {},
   "source": [
    "If you want to turn data back into two lists (one with x-component and one with y), we can use `*` with `zip`. When you pass the list or an iterable to a function and prepend with an `*`, each item is actually taken out of the iterable and passed as a separate argument.\n",
    "\n",
    "## Example using Data Slices\n",
    "Color code each series, change transparency level, add descriptive labels"
   ]
  },
  {
   "cell_type": "code",
   "execution_count": null,
   "id": "67be338e-a9c4-45b7-8634-012c015f5397",
   "metadata": {},
   "outputs": [],
   "source": [
    "plt.figure()\n",
    "\n",
    "plt.scatter(x[:2], y[:2], s=100, c='red', label='Tall students') # first two elements of x and y\n",
    "plt.scatter(x[2:], y[2:], s=100, c='blue', label='Short students') # last three elements of x and y"
   ]
  },
  {
   "cell_type": "markdown",
   "id": "71bc60ef-add9-4f5b-ac7f-6f3cb03361b7",
   "metadata": {},
   "source": [
    "Label didn't show because currently held internally for each series.\n",
    "\n",
    "Properties of Axis:\n",
    "* have labels to explain what they are and their units\n",
    "* add chart titles\n",
    "\n",
    "`plot` is calling GCA which calls the set `xlabel` and `ylabel`"
   ]
  },
  {
   "cell_type": "code",
   "execution_count": null,
   "id": "69fca78c-3a1a-4786-90ff-eab25640120b",
   "metadata": {},
   "outputs": [],
   "source": [
    "plt.figure()\n",
    "\n",
    "plt.scatter(x[:2], y[:2], s=100, c='red', label='Tall students') # first two elements of x and y\n",
    "plt.scatter(x[2:], y[2:], s=100, c='blue', label='Short students') # last three elements of x and y\n",
    "\n",
    "# add axis labels\n",
    "plt.xlabel('The number of times the child kicked a ball')\n",
    "plt.ylabel('The grade of the student')\n",
    "plt.title('Relationship between ball kicking and grades')"
   ]
  },
  {
   "cell_type": "markdown",
   "id": "aac34af3-ea18-442e-a409-ab9a04e94100",
   "metadata": {},
   "source": [
    "Add legend, which uses the labels in the data underneath"
   ]
  },
  {
   "cell_type": "code",
   "execution_count": null,
   "id": "d0566a0f-a0b1-47d1-9087-91b6006e793c",
   "metadata": {},
   "outputs": [],
   "source": [
    "plt.figure()\n",
    "\n",
    "plt.scatter(x[:2], y[:2], s=100, c='red', label='Tall students') # first two elements of x and y\n",
    "plt.scatter(x[2:], y[2:], s=100, c='blue', label='Short students') # last three elements of x and y\n",
    "\n",
    "# add axis labels\n",
    "plt.xlabel('The number of times the child kicked a ball')\n",
    "plt.ylabel('The grade of the student')\n",
    "plt.title('Relationship between ball kicking and grades')\n",
    "\n",
    "# add legend\n",
    "plt.legend()"
   ]
  },
  {
   "cell_type": "markdown",
   "id": "2b5c43f1-09c9-4e40-9ce0-1e9311386704",
   "metadata": {},
   "source": [
    "Can add a little razzle dazzle to the legend as well by passing in parameters:"
   ]
  },
  {
   "cell_type": "code",
   "execution_count": null,
   "id": "8cd99f63-2bce-4c7f-badb-ba35a6ae9f84",
   "metadata": {},
   "outputs": [],
   "source": [
    "f=plt.figure()\n",
    "\n",
    "plt.scatter(x[:2], y[:2], s=100, c='red', label='Tall students') # first two elements of x and y\n",
    "plt.scatter(x[2:], y[2:], s=100, c='blue', label='Short students') # last three elements of x and y\n",
    "\n",
    "# add axis labels\n",
    "plt.xlabel('The number of times the child kicked a ball')\n",
    "plt.ylabel('The grade of the student')\n",
    "plt.title('Relationship between ball kicking and grades')\n",
    "\n",
    "# add legend to lower right-hand corner, gets rid of frame, and adds title\n",
    "plt.legend(loc=4, frameon=False, title='Legend');"
   ]
  },
  {
   "cell_type": "markdown",
   "id": "5f7da198-2b53-415e-8fa2-7129eb77bd66",
   "metadata": {},
   "source": [
    "All these objects are renderable objects associated with the axes. \n",
    "\n",
    "The legend is an Artist which means it contains children. Create a function to recursively go through the list of children in an Artist:"
   ]
  },
  {
   "cell_type": "code",
   "execution_count": null,
   "id": "98259c6d-b95d-43fc-ae76-9b5c2cfcf7e8",
   "metadata": {},
   "outputs": [],
   "source": [
    "from matplotlib.artist import Artist\n",
    "\n",
    "def rec_gc(art, depth=0):\n",
    "    # check if object is an Artist and if so, print out its string name\n",
    "    if isinstance(art, Artist):\n",
    "        # do pretty printing by indenting by object's depth\n",
    "        print(\" \" * depth + str(art))\n",
    "    \n",
    "        for child in art.get_children():\n",
    "            rec_gc(child, depth+2)\n",
    "            \n",
    "            \n",
    "# call this function on legend artist to see what the legend is made up of\n",
    "rec_gc(f.legend())"
   ]
  },
  {
   "cell_type": "markdown",
   "id": "d92ac3d8-7374-467a-9535-4b2448bd3284",
   "metadata": {},
   "source": [
    "# Line Plots\n",
    "Connects data points with a line, so technically the first plot we made was a line plot, but it just had one point. Will automatically color-code when receiving more than one series of data.\n",
    "\n",
    "`plot()` will plot your values on the y-axis and the indices of your values on the x-axis.\n",
    "\n",
    "Use *mini formatting language* to describe rendering of markers and lines. \"-o\" means to use a solid line with circle markers."
   ]
  },
  {
   "cell_type": "code",
   "execution_count": null,
   "id": "76aad08a-6c4a-461c-bd4b-8a000f93ba22",
   "metadata": {},
   "outputs": [],
   "source": [
    "import matplotlib.pyplot as plt\n",
    "import numpy as np\n",
    "\n",
    "# use numpy to create a linear series of data points one through eight\n",
    "linear_data = np.arange(8) + 1\n",
    "exponential_data = linear_data ** 2\n",
    "\n",
    "# make plot\n",
    "plt.figure()\n",
    "plt.plot(linear_data, '-o', exponential_data, '-o')"
   ]
  },
  {
   "cell_type": "markdown",
   "id": "a47bd5a0-0dd9-4487-bbff-632eafb70005",
   "metadata": {},
   "source": [
    "Can add an arbitrary line (e.g. trendline) using \"--r\" which says to plot a dashed line in red:"
   ]
  },
  {
   "cell_type": "code",
   "execution_count": null,
   "id": "4998a90c-2f3d-41d5-8f88-e14f41bcba59",
   "metadata": {},
   "outputs": [],
   "source": [
    "plt.plot(linear_data, '-o', exponential_data, '-o')\n",
    "plt.plot([22,44,55], '--r')"
   ]
  },
  {
   "cell_type": "markdown",
   "id": "a25c9ce3-9e4f-4e43-a01b-99bf22697c1b",
   "metadata": {},
   "source": [
    "Didn't need to call `plt.figure()` because by default pyplot scripting interface will call `plot.gcf` (an existing figure in the kernel) when you try and do something. If there's no figure, then pyplot will create one for us. Therefore, with the way this Jupyter notebook is setup by default, it will close a figure after each cell is executed and so pyplot will create a figure for us --> never have to use `plt.figure()` again :)\n",
    "\n",
    "Now add labels and legend. It doesn't matter what order you do things because it all gets rendered at the end."
   ]
  },
  {
   "cell_type": "code",
   "execution_count": null,
   "id": "e1aa3727-282f-4ee1-9191-4de17b040c84",
   "metadata": {},
   "outputs": [],
   "source": [
    "plt.xlabel('Some data')\n",
    "plt.ylabel('Some other data')\n",
    "plt.title('A Title')\n",
    "\n",
    "# add legend with entries (b/c we didn't have labels when we plotted the data series)\n",
    "plt.legend(['Baseline','Competition','Us'])\n",
    "plt.plot(linear_data, '-o', exponential_data, '-o')\n",
    "plt.plot([22,44,55], '--r')"
   ]
  },
  {
   "cell_type": "markdown",
   "id": "ff11781d-4505-47f8-9b43-d873b8582a46",
   "metadata": {},
   "source": [
    "## Fill Between\n",
    "* Commonly used with line plots, but can be done with other plots, to highlight differences between series.\n",
    "* `fill_between()` needs to be called on current axes object `plt.gca()`"
   ]
  },
  {
   "cell_type": "code",
   "execution_count": null,
   "id": "0b1a17e3-57be-4d4b-83b1-f7fcfd142772",
   "metadata": {},
   "outputs": [],
   "source": [
    "plt.xlabel('Some data')\n",
    "plt.ylabel('Some other data')\n",
    "plt.title('A Title')\n",
    "plt.legend(['Baseline','Competition','Us'])\n",
    "plt.plot(linear_data, '-o', exponential_data, '-o')\n",
    "\n",
    "# *remember, by default, plot will use indicies of series as the x-axis*\n",
    "\n",
    "plt.gca().fill_between(range(len(linear_data)), # range you want to apply the coloring \n",
    "                       linear_data, exponential_data, # lower and upper bounds for coloring\n",
    "                       facecolor = 'blue',\n",
    "                       alpha=0.25) # transparency value, for fun"
   ]
  },
  {
   "cell_type": "markdown",
   "id": "28d9e08e-0789-4acf-bc1b-6ac4c6da438a",
   "metadata": {},
   "source": [
    "## Working with Dates\n",
    "Dates on the x-axis:"
   ]
  },
  {
   "cell_type": "code",
   "execution_count": null,
   "id": "2fd59d4b-97f9-4e07-86ae-31af2ef0827c",
   "metadata": {},
   "outputs": [],
   "source": [
    "# a way to use Numpy's arange() to generate dates at the daily interval between given start and end dates\n",
    "observation_dates = np.arange('2017-01-01', '2017-01-09', dtype = 'datetime64[D]')\n",
    "\n",
    "plt.plot(observation_dates, linear_data, '-o', observation_dates, exponential_data, '-o')"
   ]
  },
  {
   "cell_type": "markdown",
   "id": "75a85914-e3ec-4f3c-b4ec-e68724dc869e",
   "metadata": {},
   "source": [
    "Change x-axis so dates aren't overlapping --> play with the ticks Artist object and its text"
   ]
  },
  {
   "cell_type": "code",
   "execution_count": null,
   "id": "bcc130f8-eac5-44b7-bef7-a8bdd1633523",
   "metadata": {},
   "outputs": [],
   "source": [
    "observation_dates = np.arange('2017-01-01', '2017-01-09', dtype = 'datetime64[D]')\n",
    "plt.plot(observation_dates, linear_data, '-o', observation_dates, exponential_data, '-o')\n",
    "\n",
    "# set a variable that points to x axis\n",
    "x = plt.gca().xaxis\n",
    "\n",
    "# iterate through each tick on x axis and rotate its label\n",
    "for item in x.get_ticklabels():\n",
    "    item.set_rotation(45)"
   ]
  },
  {
   "cell_type": "markdown",
   "id": "c9062814-bdeb-4793-b562-5173bce7e231",
   "metadata": {},
   "source": [
    "Add back in headings:"
   ]
  },
  {
   "cell_type": "code",
   "execution_count": null,
   "id": "d6b6ddbd-b779-4fde-97ed-2395b8b9eb37",
   "metadata": {},
   "outputs": [],
   "source": [
    "observation_dates = np.arange('2017-01-01', '2017-01-09', dtype = 'datetime64[D]')\n",
    "plt.plot(observation_dates, linear_data, '-o', observation_dates, exponential_data, '-o')\n",
    "\n",
    "# set a variable that points to x axis\n",
    "x = plt.gca().xaxis\n",
    "\n",
    "# iterate through each tick on x axis and rotate its label\n",
    "for item in x.get_ticklabels():\n",
    "    item.set_rotation(45)\n",
    "    \n",
    "    \n",
    "# change labels\n",
    "ax = plt.gca()\n",
    "ax.set_xlabel('Date')\n",
    "ax.set_ylabel('Units')\n",
    "ax.set_title('Exponential vs. Linear Performance')"
   ]
  },
  {
   "cell_type": "markdown",
   "id": "ff9eaadc-3535-45e6-9734-99943b149a76",
   "metadata": {},
   "source": [
    "## LaTeX with matplotlib\n",
    "* Do not need LaTeX installed\n",
    "* Escape LaTeX math mode with dollar signs\n",
    "\n",
    "## Changing Figure Size\n",
    "* specify size when you make the figure initially with `figsize` parameter"
   ]
  },
  {
   "cell_type": "code",
   "execution_count": null,
   "id": "aaa98feb-b330-4a99-a58b-ac52f46c835d",
   "metadata": {},
   "outputs": [],
   "source": [
    "# create new figure that's 8\"x6\" at 300 DPI\n",
    "plt.figure(figsize=(8,6))\n",
    "\n",
    "# bring in previous plotting details\n",
    "observation_dates = np.arange('2017-01-01', '2017-01-09', dtype = 'datetime64[D]')\n",
    "plt.plot(observation_dates, linear_data, '-o', observation_dates, exponential_data, '-o')\n",
    "\n",
    "# rotate tick labels for x axis\n",
    "x = plt.gca().xaxis\n",
    "for item in x.get_ticklabels():\n",
    "    item.set_rotation(45)\n",
    "    \n",
    "    \n",
    "# change labels\n",
    "ax = plt.gca()\n",
    "ax.set_xlabel('Date')\n",
    "ax.set_ylabel('Units')\n",
    "ax.set_title('Exponential ($x^2$) vs. Linear ($x$) Performance')"
   ]
  },
  {
   "cell_type": "markdown",
   "id": "e94e47fc-d9b3-4685-be82-b5ce96539a1b",
   "metadata": {},
   "source": [
    "# Bar Charts\n",
    "Pass in X component and parameter for the height of the bars (Y)"
   ]
  },
  {
   "cell_type": "code",
   "execution_count": 1,
   "id": "f98ece09-56e5-4b3f-8e7e-1a22297ebbbe",
   "metadata": {},
   "outputs": [
    {
     "data": {
      "text/plain": [
       "<BarContainer object of 8 artists>"
      ]
     },
     "execution_count": 1,
     "metadata": {},
     "output_type": "execute_result"
    },
    {
     "data": {
      "image/png": "[encoded data removed]",
      "text/plain": [
       "<Figure size 432x288 with 1 Axes>"
      ]
     },
     "metadata": {
      "needs_background": "light"
     },
     "output_type": "display_data"
    }
   ],
   "source": [
    "import matplotlib.pyplot as plt\n",
    "import numpy as np\n",
    "\n",
    "linear_data = np.arange(8) + 1\n",
    "\n",
    "# generate list of X labels\n",
    "xvals = range(len(linear_data))\n",
    "\n",
    "plt.bar(xvals, linear_data, width = 0.3)"
   ]
  },
  {
   "cell_type": "markdown",
   "id": "ad440927-c07a-4bda-a48f-4ce821b26416",
   "metadata": {},
   "source": [
    "Add second bar by calling `plt.bar` again."
   ]
  },
  {
   "cell_type": "code",
   "execution_count": 2,
   "id": "f73d0ad7-9823-4175-a7e0-3c8b1c272dca",
   "metadata": {},
   "outputs": [
    {
     "data": {
      "text/plain": [
       "<BarContainer object of 8 artists>"
      ]
     },
     "execution_count": 2,
     "metadata": {},
     "output_type": "execute_result"
    },
    {
     "data": {
      "image/png": "[encoded data removed]",
      "text/plain": [
       "<Figure size 432x288 with 1 Axes>"
      ]
     },
     "metadata": {
      "needs_background": "light"
     },
     "output_type": "display_data"
    }
   ],
   "source": [
    "new_xvals = []\n",
    "exponential_data = linear_data**2\n",
    "\n",
    "# adjust x axis values to make up for the first set of bars plotted\n",
    "for item in xvals:\n",
    "    new_xvals.append(item+0.3)\n",
    "    \n",
    "# plot both\n",
    "plt.bar(xvals, linear_data, width=0.3)\n",
    "plt.bar(new_xvals, exponential_data, width=0.3, color='red')"
   ]
  },
  {
   "cell_type": "markdown",
   "id": "7caa8dc6-d4eb-4b13-ac21-a892379d0830",
   "metadata": {},
   "source": [
    "x labels are not centered with bars\n",
    "pain to add data manually\n",
    "not easy when you add more bars because you have to calculate where to left-position labels\n",
    "\n",
    "## Error Bars"
   ]
  },
  {
   "cell_type": "code",
   "execution_count": null,
   "id": "096152f4-1322-4ab0-b072-7bb63117c0c1",
   "metadata": {},
   "outputs": [],
   "source": [
    "from random import randint\n",
    "linear_err = [randint(1,4) for x in range(len(linear_data))]\n",
    "linear_err\n",
    "\n",
    "plt.bar(xvals, linear_data, width=0.3, yerr=linear_err)"
   ]
  },
  {
   "cell_type": "markdown",
   "id": "a5002d30-85c9-4ad1-a1c4-d0a93310715c",
   "metadata": {},
   "source": [
    "## Stacked Bars\n",
    "Don't have to deal with PGD/positional arguments\n",
    "\n",
    "Stack by plotting the first series of bars and then the second by setting the `bottom` parameter to equal the height of the previous series's height so `plot.bar` knows where to stack the second series. X values are the same between series."
   ]
  },
  {
   "cell_type": "code",
   "execution_count": null,
   "id": "16f853bb-10cf-488d-ae43-8f22c8075aa4",
   "metadata": {},
   "outputs": [],
   "source": [
    "xvals = range(len(linear_data))\n",
    "plt.bar(xvals, linear_data, width = 0.3, color='b')\n",
    "plt.bar(xvals, exponential_data, width=0.3, bottom=linear_data, color='r')"
   ]
  },
  {
   "cell_type": "markdown",
   "id": "7732eb76-4c2b-4167-9e40-9f2c3c1af4d7",
   "metadata": {},
   "source": [
    "## Horizontal Bar Charts with `plt.barh()`\n",
    "Pivotting a regular bar chart: change `bottom` to `left` and `width` to `height`"
   ]
  },
  {
   "cell_type": "code",
   "execution_count": null,
   "id": "9433de15-48ab-4f8b-826e-2098cd78d5e2",
   "metadata": {},
   "outputs": [],
   "source": [
    "xvals = range(len(linear_data))\n",
    "plt.barh(xvals, linear_data, height=0.3, color='b')\n",
    "plt.barh(xvals, exponential_data, height=0.3, left=linear_data, color='r')"
   ]
  },
  {
   "cell_type": "markdown",
   "id": "7f13051e-ecce-4152-b62b-c452b557c52f",
   "metadata": {},
   "source": [
    "# Dejunkifying Plots\n",
    "Example: plot the popularity of five programming languages in 2016 according to Stack Overflow"
   ]
  },
  {
   "cell_type": "code",
   "execution_count": 15,
   "id": "90dd80b9-c86d-4ccd-af1d-2db61c2569dd",
   "metadata": {},
   "outputs": [],
   "source": [
    "import matplotlib.pyplot as plt\n",
    "import numpy as np\n",
    "\n",
    "languages = ['Python', 'SQL', 'Java', 'C++', 'JavaScript']\n",
    "pos = np.arange(len(languages)) # x position arrangement\n",
    "popularity = [56, 39, 34, 34, 29]"
   ]
  },
  {
   "cell_type": "code",
   "execution_count": 16,
   "id": "dcc26676-5807-42e2-8da1-e9d1d6d24e42",
   "metadata": {},
   "outputs": [
    {
     "data": {
      "text/plain": [
       "Text(0.5, 1.0, 'Top 5 Languages for Math & Data \\nby % Popularity on Stack Overflow')"
      ]
     },
     "execution_count": 16,
     "metadata": {},
     "output_type": "execute_result"
    },
    {
     "data": {
      "image/png": "[encoded data removed]",
      "text/plain": [
       "<Figure size 720x576 with 1 Axes>"
      ]
     },
     "metadata": {
      "needs_background": "light"
     },
     "output_type": "display_data"
    }
   ],
   "source": [
    "# create bar chart based on rank and popularity\n",
    "plt.figure(figsize=(10,8))\n",
    "plt.bar(pos, popularity, align='center')\n",
    "plt.xticks(pos, languages)\n",
    "plt.ylabel('% Popularity')\n",
    "plt.title('Top 5 Languages for Math & Data \\nby % Popularity on Stack Overflow')"
   ]
  },
  {
   "cell_type": "markdown",
   "id": "acbcaef4-7bc5-46b9-82c7-1055985ab85a",
   "metadata": {},
   "source": [
    "## 1. Eliminate frame\n",
    "Get the current axis and iterate through all the splines and set their visibilities to `False`. You could also make them transparent."
   ]
  },
  {
   "cell_type": "code",
   "execution_count": 17,
   "id": "41154839-24b8-44ee-a83e-137faceffbdf",
   "metadata": {},
   "outputs": [
    {
     "data": {
      "image/png": "[encoded data removed]",
      "text/plain": [
       "<Figure size 720x576 with 1 Axes>"
      ]
     },
     "metadata": {
      "needs_background": "light"
     },
     "output_type": "display_data"
    }
   ],
   "source": [
    "# create bar chart based on rank and popularity\n",
    "plt.figure(figsize=(10,8))\n",
    "plt.bar(pos, popularity, align='center')\n",
    "plt.xticks(pos, languages)\n",
    "plt.ylabel('% Popularity')\n",
    "plt.title('Top 5 Languages for Math & Data \\nby % Popularity on Stack Overflow')\n",
    "\n",
    "# remove chart frame\n",
    "for spine in plt.gca().spines.values(): # gca is plural for axes so gets x and y axes\n",
    "    spine.set_visible(False)\n",
    "    "
   ]
  },
  {
   "cell_type": "markdown",
   "id": "ad4c9660-19bf-4595-9ae5-30a466aa17e1",
   "metadata": {},
   "source": [
    "## 2. Change color\n",
    "Highlight Python"
   ]
  },
  {
   "cell_type": "code",
   "execution_count": 18,
   "id": "919ba595-0c4a-4e9f-a899-0d721fca5aea",
   "metadata": {},
   "outputs": [
    {
     "data": {
      "text/plain": [
       "([<matplotlib.axis.XTick at 0x7f9373102b80>,\n",
       "  <matplotlib.axis.XTick at 0x7f9373102b50>,\n",
       "  <matplotlib.axis.XTick at 0x7f93730f67f0>,\n",
       "  <matplotlib.axis.XTick at 0x7f93730bc640>,\n",
       "  <matplotlib.axis.XTick at 0x7f93730bceb0>],\n",
       " [Text(0, 0, 'Python'),\n",
       "  Text(1, 0, 'SQL'),\n",
       "  Text(2, 0, 'Java'),\n",
       "  Text(3, 0, 'C++'),\n",
       "  Text(4, 0, 'JavaScript')])"
      ]
     },
     "execution_count": 18,
     "metadata": {},
     "output_type": "execute_result"
    },
    {
     "data": {
      "image/png": "[encoded data removed]",
      "text/plain": [
       "<Figure size 720x576 with 1 Axes>"
      ]
     },
     "metadata": {
      "needs_background": "light"
     },
     "output_type": "display_data"
    }
   ],
   "source": [
    "# create bar chart based on rank and popularity\n",
    "plt.figure(figsize=(10,8))\n",
    "plt.bar(pos, popularity, align='center')\n",
    "plt.xticks(pos, languages)\n",
    "plt.ylabel('% Popularity')\n",
    "plt.title('Top 5 Languages for Math & Data \\nby % Popularity on Stack Overflow')\n",
    "\n",
    "# remove chart frame\n",
    "for spine in plt.gca().spines.values(): # gca is plural for axes so gets x and y axes\n",
    "    spine.set_visible(False)\n",
    "    \n",
    "# change the bar color to be less bright blue\n",
    "bars = plt.bar(pos, popularity, align='center', linewidth=0, color='lightslategrey')\n",
    "\n",
    "# change python bar to a contrasting color\n",
    "bars[0].set_color('#1F77B4')\n",
    "\n",
    "# soften labels by turning to grey\n",
    "plt.xticks(pos, languages, alpha=0.8)"
   ]
  },
  {
   "cell_type": "markdown",
   "id": "476b0d2a-8b21-411d-9df8-ef5b741d9e03",
   "metadata": {},
   "source": [
    "## 3. Remove y axis and directly label individual bars\n",
    "the y axis doesn't give us any additional info"
   ]
  },
  {
   "cell_type": "code",
   "execution_count": 19,
   "id": "8c7d8842-dcf2-4f50-9907-4b034d8cf9e2",
   "metadata": {},
   "outputs": [
    {
     "data": {
      "image/png": "[encoded data removed]",
      "text/plain": [
       "<Figure size 720x576 with 1 Axes>"
      ]
     },
     "metadata": {
      "needs_background": "light"
     },
     "output_type": "display_data"
    }
   ],
   "source": [
    "# create bar chart based on rank and popularity\n",
    "plt.figure(figsize=(10,8))\n",
    "#plt.bar(pos, popularity, align='center')\n",
    "#plt.xticks(pos, languages) # done below\n",
    "#plt.ylabel('% Popularity')\n",
    "plt.title('Top 5 Languages for Math & Data \\nby % Popularity on Stack Overflow', alpha=0.8)\n",
    "\n",
    "# remove chart frame\n",
    "for spine in plt.gca().spines.values(): # gca is plural for axes so gets x and y axes\n",
    "    spine.set_visible(False)\n",
    "    \n",
    "# change the bar color to be less bright blue\n",
    "bars = plt.bar(pos, popularity, align='center', linewidth=0, color='lightslategrey')\n",
    "\n",
    "# change python bar to a contrasting color\n",
    "bars[0].set_color('#1F77B4')\n",
    "\n",
    "# soften labels by turning to grey\n",
    "plt.xticks(pos, languages, alpha=0.8)\n",
    "\n",
    "# remove y label\n",
    "plt.yticks([])\n",
    "\n",
    "# add data labels\n",
    "for bar in bars:\n",
    "    height = bar.get_height()\n",
    "    plt.gca().text(bar.get_x() + bar.get_width()/2, height - 5, str(int(height)) + '%',\n",
    "                   ha='center', color='w', fontsize=11)"
   ]
  }
 ],
 "metadata": {
  "kernelspec": {
   "display_name": "Python 3 (ipykernel)",
   "language": "python",
   "name": "python3"
  },
  "language_info": {
   "codemirror_mode": {
    "name": "ipython",
    "version": 3
   },
   "file_extension": ".py",
   "mimetype": "text/x-python",
   "name": "python",
   "nbconvert_exporter": "python",
   "pygments_lexer": "ipython3",
   "version": "3.8.10"
  }
 },
 "nbformat": 4,
 "nbformat_minor": 5
}
