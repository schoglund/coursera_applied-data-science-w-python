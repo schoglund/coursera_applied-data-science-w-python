{
 "cells": [
  {
   "cell_type": "markdown",
   "id": "eb9783eb-a902-4d78-ba61-d29ad0b4ba11",
   "metadata": {},
   "source": [
    "# Charting Fundamentals\n",
    "## Subplots\n",
    "to show plots side-by-side in one plot"
   ]
  },
  {
   "cell_type": "code",
   "execution_count": 1,
   "id": "a8abf4bb-51ba-43d1-a032-d07dffba2d72",
   "metadata": {
    "scrolled": true,
    "tags": []
   },
   "outputs": [
    {
     "data": {
      "text/plain": [
       "\u001b[0;31mSignature:\u001b[0m \u001b[0mplt\u001b[0m\u001b[0;34m.\u001b[0m\u001b[0msubplot\u001b[0m\u001b[0;34m(\u001b[0m\u001b[0;34m*\u001b[0m\u001b[0margs\u001b[0m\u001b[0;34m,\u001b[0m \u001b[0;34m**\u001b[0m\u001b[0mkwargs\u001b[0m\u001b[0;34m)\u001b[0m\u001b[0;34m\u001b[0m\u001b[0;34m\u001b[0m\u001b[0m\n",
       "\u001b[0;31mDocstring:\u001b[0m\n",
       "Add an Axes to the current figure or retrieve an existing Axes.\n",
       "\n",
       "This is a wrapper of `.Figure.add_subplot` which provides additional\n",
       "behavior when working with the implicit API (see the notes section).\n",
       "\n",
       "Call signatures::\n",
       "\n",
       "   subplot(nrows, ncols, index, **kwargs)\n",
       "   subplot(pos, **kwargs)\n",
       "   subplot(**kwargs)\n",
       "   subplot(ax)\n",
       "\n",
       "Parameters\n",
       "----------\n",
       "*args : int, (int, int, *index*), or `.SubplotSpec`, default: (1, 1, 1)\n",
       "    The position of the subplot described by one of\n",
       "\n",
       "    - Three integers (*nrows*, *ncols*, *index*). The subplot will take the\n",
       "      *index* position on a grid with *nrows* rows and *ncols* columns.\n",
       "      *index* starts at 1 in the upper left corner and increases to the\n",
       "      right. *index* can also be a two-tuple specifying the (*first*,\n",
       "      *last*) indices (1-based, and including *last*) of the subplot, e.g.,\n",
       "      ``fig.add_subplot(3, 1, (1, 2))`` makes a subplot that spans the\n",
       "      upper 2/3 of the figure.\n",
       "    - A 3-digit integer. The digits are interpreted as if given separately\n",
       "      as three single-digit integers, i.e. ``fig.add_subplot(235)`` is the\n",
       "      same as ``fig.add_subplot(2, 3, 5)``. Note that this can only be used\n",
       "      if there are no more than 9 subplots.\n",
       "    - A `.SubplotSpec`.\n",
       "\n",
       "projection : {None, 'aitoff', 'hammer', 'lambert', 'mollweide', 'polar', 'rectilinear', str}, optional\n",
       "    The projection type of the subplot (`~.axes.Axes`). *str* is the name\n",
       "    of a custom projection, see `~matplotlib.projections`. The default\n",
       "    None results in a 'rectilinear' projection.\n",
       "\n",
       "polar : bool, default: False\n",
       "    If True, equivalent to projection='polar'.\n",
       "\n",
       "sharex, sharey : `~.axes.Axes`, optional\n",
       "    Share the x or y `~matplotlib.axis` with sharex and/or sharey. The\n",
       "    axis will have the same limits, ticks, and scale as the axis of the\n",
       "    shared axes.\n",
       "\n",
       "label : str\n",
       "    A label for the returned axes.\n",
       "\n",
       "Returns\n",
       "-------\n",
       "`.axes.SubplotBase`, or another subclass of `~.axes.Axes`\n",
       "\n",
       "    The axes of the subplot. The returned axes base class depends on\n",
       "    the projection used. It is `~.axes.Axes` if rectilinear projection\n",
       "    is used and `.projections.polar.PolarAxes` if polar projection\n",
       "    is used. The returned axes is then a subplot subclass of the\n",
       "    base class.\n",
       "\n",
       "Other Parameters\n",
       "----------------\n",
       "**kwargs\n",
       "    This method also takes the keyword arguments for the returned axes\n",
       "    base class; except for the *figure* argument. The keyword arguments\n",
       "    for the rectilinear base class `~.axes.Axes` can be found in\n",
       "    the following table but there might also be other keyword\n",
       "    arguments if another projection is used.\n",
       "\n",
       "    Properties:\n",
       "    adjustable: {'box', 'datalim'}\n",
       "    agg_filter: a filter function, which takes a (m, n, 3) float array and a dpi value, and returns a (m, n, 3) array and two offsets from the bottom left corner of the image\n",
       "    alpha: scalar or None\n",
       "    anchor: (float, float) or {'C', 'SW', 'S', 'SE', 'E', 'NE', ...}\n",
       "    animated: bool\n",
       "    aspect: {'auto', 'equal'} or float\n",
       "    autoscale_on: bool\n",
       "    autoscalex_on: unknown\n",
       "    autoscaley_on: unknown\n",
       "    axes_locator: Callable[[Axes, Renderer], Bbox]\n",
       "    axisbelow: bool or 'line'\n",
       "    box_aspect: float or None\n",
       "    clip_box: `.Bbox`\n",
       "    clip_on: bool\n",
       "    clip_path: Patch or (Path, Transform) or None\n",
       "    facecolor or fc: color\n",
       "    figure: `.Figure`\n",
       "    frame_on: bool\n",
       "    gid: str\n",
       "    in_layout: bool\n",
       "    label: object\n",
       "    mouseover: bool\n",
       "    navigate: bool\n",
       "    navigate_mode: unknown\n",
       "    path_effects: `.AbstractPathEffect`\n",
       "    picker: None or bool or float or callable\n",
       "    position: [left, bottom, width, height] or `~matplotlib.transforms.Bbox`\n",
       "    prop_cycle: unknown\n",
       "    rasterization_zorder: float or None\n",
       "    rasterized: bool\n",
       "    sketch_params: (scale: float, length: float, randomness: float)\n",
       "    snap: bool or None\n",
       "    title: str\n",
       "    transform: `.Transform`\n",
       "    url: str\n",
       "    visible: bool\n",
       "    xbound: unknown\n",
       "    xlabel: str\n",
       "    xlim: (bottom: float, top: float)\n",
       "    xmargin: float greater than -0.5\n",
       "    xscale: unknown\n",
       "    xticklabels: unknown\n",
       "    xticks: unknown\n",
       "    ybound: unknown\n",
       "    ylabel: str\n",
       "    ylim: (bottom: float, top: float)\n",
       "    ymargin: float greater than -0.5\n",
       "    yscale: unknown\n",
       "    yticklabels: unknown\n",
       "    yticks: unknown\n",
       "    zorder: float\n",
       "\n",
       "Notes\n",
       "-----\n",
       "Creating a new Axes will delete any preexisting Axes that\n",
       "overlaps with it beyond sharing a boundary::\n",
       "\n",
       "    import matplotlib.pyplot as plt\n",
       "    # plot a line, implicitly creating a subplot(111)\n",
       "    plt.plot([1, 2, 3])\n",
       "    # now create a subplot which represents the top plot of a grid\n",
       "    # with 2 rows and 1 column. Since this subplot will overlap the\n",
       "    # first, the plot (and its axes) previously created, will be removed\n",
       "    plt.subplot(211)\n",
       "\n",
       "If you do not want this behavior, use the `.Figure.add_subplot` method\n",
       "or the `.pyplot.axes` function instead.\n",
       "\n",
       "If no *kwargs* are passed and there exists an Axes in the location\n",
       "specified by *args* then that Axes will be returned rather than a new\n",
       "Axes being created.\n",
       "\n",
       "If *kwargs* are passed and there exists an Axes in the location\n",
       "specified by *args*, the projection type is the same, and the\n",
       "*kwargs* match with the existing Axes, then the existing Axes is\n",
       "returned.  Otherwise a new Axes is created with the specified\n",
       "parameters.  We save a reference to the *kwargs* which we use\n",
       "for this comparison.  If any of the values in *kwargs* are\n",
       "mutable we will not detect the case where they are mutated.\n",
       "In these cases we suggest using `.Figure.add_subplot` and the\n",
       "explicit Axes API rather than the implicit pyplot API.\n",
       "\n",
       "See Also\n",
       "--------\n",
       ".Figure.add_subplot\n",
       ".pyplot.subplots\n",
       ".pyplot.axes\n",
       ".Figure.subplots\n",
       "\n",
       "Examples\n",
       "--------\n",
       "::\n",
       "\n",
       "    plt.subplot(221)\n",
       "\n",
       "    # equivalent but more general\n",
       "    ax1 = plt.subplot(2, 2, 1)\n",
       "\n",
       "    # add a subplot with no frame\n",
       "    ax2 = plt.subplot(222, frameon=False)\n",
       "\n",
       "    # add a polar subplot\n",
       "    plt.subplot(223, projection='polar')\n",
       "\n",
       "    # add a red subplot that shares the x-axis with ax1\n",
       "    plt.subplot(224, sharex=ax1, facecolor='red')\n",
       "\n",
       "    # delete ax2 from the figure\n",
       "    plt.delaxes(ax2)\n",
       "\n",
       "    # add ax2 to the figure again\n",
       "    plt.subplot(ax2)\n",
       "\n",
       "    # make the first axes \"current\" again\n",
       "    plt.subplot(221)\n",
       "\u001b[0;31mFile:\u001b[0m      /opt/conda/lib/python3.8/site-packages/matplotlib/pyplot.py\n",
       "\u001b[0;31mType:\u001b[0m      function\n"
      ]
     },
     "metadata": {},
     "output_type": "display_data"
    }
   ],
   "source": [
    "import matplotlib.pyplot as plt\n",
    "import numpy as np\n",
    "\n",
    "plt.subplot?"
   ]
  },
  {
   "cell_type": "markdown",
   "id": "e97b66f3-8a20-4607-9919-3b8f09d2d1e2",
   "metadata": {},
   "source": [
    "Create a 1x2 plot and set the current axis as the 1st subplot axis:"
   ]
  },
  {
   "cell_type": "code",
   "execution_count": 2,
   "id": "656090f9-2e0e-41ef-8e8a-565314d362ac",
   "metadata": {},
   "outputs": [
    {
     "data": {
      "text/plain": [
       "[<matplotlib.lines.Line2D at 0x7fb76696dee0>]"
      ]
     },
     "execution_count": 2,
     "metadata": {},
     "output_type": "execute_result"
    },
    {
     "data": {
      "image/png": "[encoded data removed]",
      "text/plain": [
       "<Figure size 432x288 with 1 Axes>"
      ]
     },
     "metadata": {
      "needs_background": "light"
     },
     "output_type": "display_data"
    }
   ],
   "source": [
    "plt.figure()\n",
    "\n",
    "plt.subplot(1,2,1)\n",
    "\n",
    "# matplotlib uses NumPy arrays for almost all of the data, NOT lists of data\n",
    "linear_data = np.array([1,2,3,4,5,6,7,8])\n",
    "plt.plot(linear_data, '-o')"
   ]
  },
  {
   "cell_type": "markdown",
   "id": "392822e7-0456-491d-a9c2-faa49f6b7e4c",
   "metadata": {},
   "source": [
    "Now add a second plot next to this one with exponential data:"
   ]
  },
  {
   "cell_type": "code",
   "execution_count": 3,
   "id": "48840e20-4d20-4f45-b153-f928a3fc647a",
   "metadata": {},
   "outputs": [
    {
     "data": {
      "text/plain": [
       "[<matplotlib.lines.Line2D at 0x7fb75e82c280>]"
      ]
     },
     "execution_count": 3,
     "metadata": {},
     "output_type": "execute_result"
    },
    {
     "data": {
      "image/png": "[encoded data removed]",
      "text/plain": [
       "<Figure size 432x288 with 2 Axes>"
      ]
     },
     "metadata": {
      "needs_background": "light"
     },
     "output_type": "display_data"
    }
   ],
   "source": [
    "# our previous plot because our figure closes after each code cell\n",
    "plt.subplot(1,2,1)\n",
    "linear_data = np.array([1,2,3,4,5,6,7,8])\n",
    "plt.plot(linear_data, '-o')\n",
    "\n",
    "# second subplot\n",
    "plt.subplot(1,2,2)\n",
    "exponential_data = linear_data**2\n",
    "plt.plot(exponential_data, '-o')"
   ]
  },
  {
   "cell_type": "markdown",
   "id": "1efce15c-f373-4675-941e-c75bca0d4bba",
   "metadata": {},
   "source": [
    "Usually, you store the axis object you get back from the subplot. You can move back and forth between axis objects in scripts. You don't have to do everything with one axis, then everything with the next, the third, etc.\n",
    "\n",
    "The two images have different y-axis values >> misleading. When you create a subplot, you can specify that you want your subplots to share the same y-axis:"
   ]
  },
  {
   "cell_type": "code",
   "execution_count": 4,
   "id": "0e445f6f-3ba2-4431-9f0c-8df22b876860",
   "metadata": {},
   "outputs": [
    {
     "data": {
      "text/plain": [
       "[<matplotlib.lines.Line2D at 0x7fb75e7847c0>]"
      ]
     },
     "execution_count": 4,
     "metadata": {},
     "output_type": "execute_result"
    },
    {
     "data": {
      "image/png": "[encoded data removed]",
      "text/plain": [
       "<Figure size 432x288 with 2 Axes>"
      ]
     },
     "metadata": {
      "needs_background": "light"
     },
     "output_type": "display_data"
    }
   ],
   "source": [
    "# plot the first figure again and get a reference to its axis\n",
    "ax1 = plt.subplot(1,2,1)\n",
    "plt.plot(linear_data, '-o')\n",
    "\n",
    "# plot the second figure and share the y-axis as figure one\n",
    "ax2 = plt.subplot(122, sharey=ax1) # don't need to create ax2 variable\n",
    "plt.plot(exponential_data, '-x')"
   ]
  },
  {
   "cell_type": "markdown",
   "id": "4851576c-d3e7-47a8-8949-494315a13b97",
   "metadata": {},
   "source": [
    "passed in one parameter for ax2: matplotlib developers let you combine the first 3 parameters into one number >> weird syntax and it limits you to a single digit for the three parameters\n",
    "\n",
    "plot location in the matrix of items is indexed starting at 1, not 0 like NumPy. `subplots` lets you get multiple subplots at once:"
   ]
  },
  {
   "cell_type": "code",
   "execution_count": 7,
   "id": "6f51e9fc-3c95-4b8a-a7b3-c76d34cc3a92",
   "metadata": {},
   "outputs": [
    {
     "data": {
      "text/plain": [
       "[<matplotlib.lines.Line2D at 0x7fb75df85100>]"
      ]
     },
     "execution_count": 7,
     "metadata": {},
     "output_type": "execute_result"
    },
    {
     "data": {
      "image/png": "[encoded data removed]",
      "text/plain": [
       "<Figure size 432x288 with 9 Axes>"
      ]
     },
     "metadata": {
      "needs_background": "light"
     },
     "output_type": "display_data"
    }
   ],
   "source": [
    "# create a 3x3 grid of subplots, using tuple unpacking\n",
    "fig, ((ax1,ax2,ax3), (ax4,ax5,ax6), (ax7,ax8,ax9)) = plt.subplots(3,3,sharex=True, sharey=True)\n",
    "\n",
    "# plot in the middle of the grid (5th position)\n",
    "ax5.plot(linear_data, '-')"
   ]
  },
  {
   "cell_type": "markdown",
   "id": "cd6de313-fd8b-43c4-ba6e-ced21579034f",
   "metadata": {},
   "source": [
    "If a figure doesn't exist, `plt.gcf()` will create one for us.\n",
    "\n",
    "Instead of tuple unpacking, we could also iterate through a list and plot one at a time so we don't have to store references to each axes:"
   ]
  },
  {
   "cell_type": "code",
   "execution_count": 9,
   "id": "c2d3dd0f-6feb-4abe-a6e4-7d6a94d433d1",
   "metadata": {},
   "outputs": [
    {
     "data": {
      "image/png": "[encoded data removed]",
      "text/plain": [
       "<Figure size 432x288 with 4 Axes>"
      ]
     },
     "metadata": {
      "needs_background": "light"
     },
     "output_type": "display_data"
    }
   ],
   "source": [
    "fig = plt.gcf()\n",
    "\n",
    "# create a plot with 2 rows and 3 columns\n",
    "for i in range(1,7):\n",
    "    if i != 5 and i != 3:\n",
    "        ax = fig.add_subplot(2,3,i) # the structure of the grid is stable at 2x3, so that's why 2 and 3 are hard-coded\n",
    "        ax.text(0.5, 0.2, str((i)), fontsize=18, ha='center')"
   ]
  },
  {
   "cell_type": "markdown",
   "id": "45c896b4-e2ee-4dc2-8c89-c62d0be20c45",
   "metadata": {},
   "source": [
    "### SPLOM (Scatter PLot Matrices)\n",
    "A common data science visual exploration technique: a quick way to see the relationship between a number of different variables "
   ]
  },
  {
   "cell_type": "code",
   "execution_count": 11,
   "id": "f0bbe51c-4fe6-4b4f-8ff3-e6a96886415d",
   "metadata": {},
   "outputs": [
    {
     "data": {
      "image/png": "[encoded data removed]",
      "text/plain": [
       "<Figure size 720x720 with 16 Axes>"
      ]
     },
     "metadata": {
      "needs_background": "light"
     },
     "output_type": "display_data"
    }
   ],
   "source": [
    "import pandas as pd\n",
    "df = pd.read_csv(\"../assets/iris.csv\")\n",
    "cols = ['SepalLength', 'SepalWidth', 'PetalLength', 'PetalWidth']\n",
    "\n",
    "# create a grid of subplots of size width and height equal to the number of different variables\n",
    "fig, axs = plt.subplots(len(cols), len(cols), figsize=(10,10))\n",
    "\n",
    "# iterate across each columns in dataframe and compare to each other column in df\n",
    "for i in range(len(cols)):\n",
    "    for j in range(len(cols)):\n",
    "        # make scatterplots for each combo of variables with a dot size of 5\n",
    "        ## same column should make a diagonal line\n",
    "        axs[i,j].scatter(df[cols[j]], df[cols[i]], s=5)\n",
    "        \n",
    "        # turn off axis tickmarks to keep it clean...\n",
    "        axs[i,j].get_xaxis().set_visible(False)\n",
    "        axs[i,j].get_yaxis().set_visible(False)        \n",
    "        \n",
    "        # ...but turn them on for the last row\n",
    "        if i == len(cols) - 1:\n",
    "            axs[i,j].get_xaxis().set_visible(True)\n",
    "            axs[i,j].set_xlabel(cols[j])\n",
    "            \n",
    "        # ...and for the first column\n",
    "        if j == 0:\n",
    "            axs[i,j].get_yaxis().set_visible(True)\n",
    "            axs[i,j].set_ylabel(cols[i])"
   ]
  },
  {
   "cell_type": "markdown",
   "id": "4f9fc327-58de-4248-b69c-228431d65ba3",
   "metadata": {},
   "source": [
    "There seems to be a linear relationship between PetalLength and PetalWidth\n",
    "\n",
    "## Histograms\n",
    "probability density function >> normal distribution has x-axis as the number of standard deviations\n",
    "\n",
    "a bar chart where the x axis is a given observation and y is the frequency of that observation\n",
    "\n",
    "Example: look at normal distribution"
   ]
  },
  {
   "cell_type": "code",
   "execution_count": 12,
   "id": "ccf62f35-49a3-4ae0-9d27-36403c3b8e4e",
   "metadata": {},
   "outputs": [
    {
     "data": {
      "image/png": "[encoded data removed]",
      "text/plain": [
       "<Figure size 432x288 with 4 Axes>"
      ]
     },
     "metadata": {
      "needs_background": "light"
     },
     "output_type": "display_data"
    }
   ],
   "source": [
    "import matplotlib.pyplot as plt\n",
    "import numpy as np\n",
    "\n",
    "# want to look at four different histograms\n",
    "## don't want to share the y-axis because the histograms could have different frequencies for the values\n",
    "fig, ((ax1,ax2), (ax3,ax4)) = plt.subplots(2,2,sharex=True)\n",
    "axs = [ax1,ax2,ax3,ax4]\n",
    "\n",
    "# we're interested in how uniform the distribution looks\n",
    "## iterate through each axis\n",
    "for n in range(0, len(axs)):\n",
    "    sample_size = 10**(n+1) # will create sample sizes of 10, 100, 1000, 10000\n",
    "    sample = np.random.normal(loc=0.0, scale=1.0, size=sample_size)\n",
    "    \n",
    "    # plot that sample\n",
    "    axs[n].hist(sample)\n",
    "    axs[n].set_title(f'n={sample_size}')"
   ]
  },
  {
   "cell_type": "markdown",
   "id": "b35a3471-d0da-4f31-af88-a18a87d89f2f",
   "metadata": {},
   "source": [
    "Currently, bin width = 10 >> let's change to 100 to get a finer cut of the data:"
   ]
  },
  {
   "cell_type": "code",
   "execution_count": 13,
   "id": "67ade494-02cf-4e91-8583-d4423e1d2edf",
   "metadata": {},
   "outputs": [
    {
     "data": {
      "image/png": "[encoded data removed]",
      "text/plain": [
       "<Figure size 432x288 with 4 Axes>"
      ]
     },
     "metadata": {
      "needs_background": "light"
     },
     "output_type": "display_data"
    }
   ],
   "source": [
    "fig, ((ax1,ax2), (ax3,ax4)) = plt.subplots(2,2,sharex=True)\n",
    "axs = [ax1,ax2,ax3,ax4]\n",
    "\n",
    "# we're interested in how uniform the distribution looks\n",
    "## iterate through each axis\n",
    "for n in range(0, len(axs)):\n",
    "    sample_size = 10**(n+1) # will create sample sizes of 10, 100, 1000, 10000\n",
    "    sample = np.random.normal(loc=0.0, scale=1.0, size=sample_size)\n",
    "    \n",
    "    # plot that sample\n",
    "    axs[n].hist(sample, bins=100)\n",
    "    axs[n].set_title(f'n={sample_size}')"
   ]
  },
  {
   "cell_type": "markdown",
   "id": "9d2baae4-0d64-414e-9bfd-bb1a34e31b54",
   "metadata": {},
   "source": [
    "For the n=10 subplot, each sample basically has its own bin \n",
    "\n",
    "...so how many bins should you specify? Depends on the size of your data, but don't want something that will finely or coarsely cut the data.\n",
    "\n",
    "### GridSpec\n",
    "a flexible layout for subplots\n",
    "\n",
    "Example: y-axis will have a normal distribution and x-axis will have a random distribution"
   ]
  },
  {
   "cell_type": "code",
   "execution_count": 14,
   "id": "b8247b09-e300-440b-8956-d88119f00eed",
   "metadata": {},
   "outputs": [
    {
     "data": {
      "text/plain": [
       "<matplotlib.collections.PathCollection at 0x7fb759ad3f70>"
      ]
     },
     "execution_count": 14,
     "metadata": {},
     "output_type": "execute_result"
    },
    {
     "data": {
      "image/png": "[encoded data removed]",
      "text/plain": [
       "<Figure size 432x288 with 1 Axes>"
      ]
     },
     "metadata": {
      "needs_background": "light"
     },
     "output_type": "display_data"
    }
   ],
   "source": [
    "Y = np.random.normal(loc=0.0, scale=1.0, size=10000)\n",
    "X = np.random.random(size=10000)\n",
    "plt.scatter(X,Y)"
   ]
  },
  {
   "cell_type": "markdown",
   "id": "d903d692-3159-40a6-a5bd-64d3de40379f",
   "metadata": {},
   "source": [
    "It's not clear what the distributions are for each axis. Can make two smaller plots of histograms to see:\n",
    "\n",
    "important to note that `GridSpec` uses the elements of a list, indexing starts at zero and slicing is key to get the beginning and end of a list"
   ]
  },
  {
   "cell_type": "code",
   "execution_count": null,
   "id": "d83721e2-ec0d-42c3-8391-8f9f4dd4008c",
   "metadata": {},
   "outputs": [
    {
     "data": {
      "image/png": "[encoded data removed]",
      "text/plain": [
       "<Figure size 720x720 with 3 Axes>"
      ]
     },
     "metadata": {
      "needs_background": "light"
     },
     "output_type": "display_data"
    }
   ],
   "source": [
    "import matplotlib.gridspec as gridspec\n",
    "plt.figure(figsize=(10,10))\n",
    "gspec = gridspec.GridSpec(3,3)\n",
    "\n",
    "top_histogram = plt.subplot(gspec[0, 1:]) # starts in row 0, covering off the first element, the middle position, and to the end of the row\n",
    "\n",
    "side_histogram = plt.subplot(gspec[1:, 0]) # starts in row 1 and down to the bottom, but only in column 0\n",
    "\n",
    "lower_right = plt.subplot(gspec[1:, 1:]) # where the scatterplot will go"
   ]
  },
  {
   "cell_type": "markdown",
   "id": "508ceda1-03d6-4db6-9b4a-70a96d55a196",
   "metadata": {},
   "source": [
    "Now fill in the plots with data:"
   ]
  },
  {
   "cell_type": "code",
   "execution_count": 16,
   "id": "9ed5e440-ec6c-4375-b2e6-27d39a5e706f",
   "metadata": {},
   "outputs": [],
   "source": [
    "# fake data\n",
    "Y = np.random.normal(loc=0.0, scale=1.0, size=10000)\n",
    "X = np.random.random(size=10000)"
   ]
  },
  {
   "cell_type": "code",
   "execution_count": 19,
   "id": "93ba5889-ceba-42b0-ac4e-d45976b07534",
   "metadata": {},
   "outputs": [
    {
     "data": {
      "text/plain": [
       "(array([  1.,   0.,   0.,   0.,   0.,   0.,   0.,   0.,   0.,   0.,   0.,\n",
       "          0.,   0.,   2.,   3.,   1.,   1.,   5.,   0.,   0.,   8.,   5.,\n",
       "         13.,  10.,  13.,  20.,  20.,   8.,  26.,  31.,  49.,  41.,  43.,\n",
       "         69.,  63.,  81.,  89.,  94., 125., 141., 134., 150., 147., 186.,\n",
       "        180., 225., 227., 242., 248., 271., 262., 254., 290., 310., 307.,\n",
       "        326., 349., 313., 314., 312., 306., 305., 289., 311., 264., 235.,\n",
       "        221., 205., 198., 185., 163., 152., 144., 140., 128.,  97.,  92.,\n",
       "         81.,  67.,  67.,  61.,  42.,  53.,  32.,  31.,  21.,  24.,  13.,\n",
       "         15.,  13.,   9.,   6.,   7.,   3.,   1.,   3.,   1.,   2.,   2.,\n",
       "          2.]),\n",
       " array([-4.46436054, -4.38574442, -4.30712829, -4.22851216, -4.14989604,\n",
       "        -4.07127991, -3.99266378, -3.91404765, -3.83543153, -3.7568154 ,\n",
       "        -3.67819927, -3.59958315, -3.52096702, -3.44235089, -3.36373477,\n",
       "        -3.28511864, -3.20650251, -3.12788638, -3.04927026, -2.97065413,\n",
       "        -2.892038  , -2.81342188, -2.73480575, -2.65618962, -2.57757349,\n",
       "        -2.49895737, -2.42034124, -2.34172511, -2.26310899, -2.18449286,\n",
       "        -2.10587673, -2.02726061, -1.94864448, -1.87002835, -1.79141222,\n",
       "        -1.7127961 , -1.63417997, -1.55556384, -1.47694772, -1.39833159,\n",
       "        -1.31971546, -1.24109933, -1.16248321, -1.08386708, -1.00525095,\n",
       "        -0.92663483, -0.8480187 , -0.76940257, -0.69078645, -0.61217032,\n",
       "        -0.53355419, -0.45493806, -0.37632194, -0.29770581, -0.21908968,\n",
       "        -0.14047356, -0.06185743,  0.0167587 ,  0.09537483,  0.17399095,\n",
       "         0.25260708,  0.33122321,  0.40983933,  0.48845546,  0.56707159,\n",
       "         0.64568772,  0.72430384,  0.80291997,  0.8815361 ,  0.96015222,\n",
       "         1.03876835,  1.11738448,  1.1960006 ,  1.27461673,  1.35323286,\n",
       "         1.43184899,  1.51046511,  1.58908124,  1.66769737,  1.74631349,\n",
       "         1.82492962,  1.90354575,  1.98216188,  2.060778  ,  2.13939413,\n",
       "         2.21801026,  2.29662638,  2.37524251,  2.45385864,  2.53247476,\n",
       "         2.61109089,  2.68970702,  2.76832315,  2.84693927,  2.9255554 ,\n",
       "         3.00417153,  3.08278765,  3.16140378,  3.24001991,  3.31863604,\n",
       "         3.39725216]),\n",
       " <BarContainer object of 100 artists>)"
      ]
     },
     "execution_count": 19,
     "metadata": {},
     "output_type": "execute_result"
    },
    {
     "data": {
      "image/png": "[encoded data removed]",
      "text/plain": [
       "<Figure size 720x720 with 3 Axes>"
      ]
     },
     "metadata": {
      "needs_background": "light"
     },
     "output_type": "display_data"
    }
   ],
   "source": [
    "plt.figure(figsize=(10,10))\n",
    "gspec = gridspec.GridSpec(3,3)\n",
    "\n",
    "top_histogram = plt.subplot(gspec[0, 1:])\n",
    "side_histogram = plt.subplot(gspec[1:, 0])\n",
    "lower_right = plt.subplot(gspec[1:, 1:])\n",
    "\n",
    "lower_right.scatter(X,Y)\n",
    "top_histogram.hist(X, bins=100)\n",
    "side_histogram.hist(Y, bins=100, orientation='horizontal')"
   ]
  },
  {
   "cell_type": "markdown",
   "id": "ebdf3b7b-f9d1-42eb-8bcf-46ec2f9099f5",
   "metadata": {},
   "source": [
    "We don't actually care about the histogram frequencies (i.e. the y axis for the top_histogram and y axis for the side_histogram) and more so of the ratios of the frequencies.\n",
    "\n",
    "Build up the figures again:"
   ]
  },
  {
   "cell_type": "code",
   "execution_count": 20,
   "id": "4ff36a1b-90bc-4f9f-9cab-3bd66bc0163d",
   "metadata": {},
   "outputs": [
    {
     "data": {
      "image/png": "[encoded data removed]",
      "text/plain": [
       "<Figure size 720x720 with 3 Axes>"
      ]
     },
     "metadata": {
      "needs_background": "light"
     },
     "output_type": "display_data"
    }
   ],
   "source": [
    "plt.figure(figsize=(10,10))\n",
    "gspec = gridspec.GridSpec(3,3)\n",
    "\n",
    "top_histogram = plt.subplot(gspec[0, 1:])\n",
    "side_histogram = plt.subplot(gspec[1:, 0])\n",
    "lower_right = plt.subplot(gspec[1:, 1:])\n",
    "\n",
    "lower_right.scatter(X,Y)\n",
    "\n",
    "# make it clear this is a density function\n",
    "top_histogram.hist(X, bins=100, density=True)\n",
    "side_histogram.hist(Y, bins=100, orientation='horizontal', density=True)\n",
    "\n",
    "# flip the side histogram's x axis (aka rotate plot 180 degrees)\n",
    "side_histogram.invert_xaxis()\n",
    "\n",
    "# change axes limits to get rid of whitespace\n",
    "for ax in [top_histogram, lower_right]:\n",
    "    ax.set_xlim(0,1)\n",
    "    \n",
    "for ax in [side_histogram, lower_right]:\n",
    "    ax.set_ylim(-5,5)"
   ]
  },
  {
   "cell_type": "markdown",
   "id": "1bb3bdfd-a4e2-4f25-a547-74008f94fc6b",
   "metadata": {},
   "source": [
    "**exercise:** recreate the Harvard plot on MOOC engagement and grades from Module 1\n",
    "\n",
    "## Boxplots\n",
    "* can get a sense of the weighting of the data\n",
    "* see the min and max values, the center/median, Q1, and Q3\n",
    "* the values between Q1 and Q3 shows you the middle 50% of your data"
   ]
  },
  {
   "cell_type": "code",
   "execution_count": 1,
   "id": "bfa38c06-ffc9-47fe-9a66-ad649a8a3de9",
   "metadata": {},
   "outputs": [],
   "source": [
    "import pandas as pd\n",
    "import matplotlib.pyplot as plt\n",
    "import numpy as np"
   ]
  },
  {
   "cell_type": "code",
   "execution_count": 2,
   "id": "8884562f-5aab-4ff1-8b1e-38f8addd3fd6",
   "metadata": {},
   "outputs": [
    {
     "data": {
      "text/html": [
       "<div>\n",
       "<style scoped>\n",
       "    .dataframe tbody tr th:only-of-type {\n",
       "        vertical-align: middle;\n",
       "    }\n",
       "\n",
       "    .dataframe tbody tr th {\n",
       "        vertical-align: top;\n",
       "    }\n",
       "\n",
       "    .dataframe thead th {\n",
       "        text-align: right;\n",
       "    }\n",
       "</style>\n",
       "<table border=\"1\" class=\"dataframe\">\n",
       "  <thead>\n",
       "    <tr style=\"text-align: right;\">\n",
       "      <th></th>\n",
       "      <th>normal</th>\n",
       "      <th>random</th>\n",
       "      <th>gamma</th>\n",
       "    </tr>\n",
       "  </thead>\n",
       "  <tbody>\n",
       "    <tr>\n",
       "      <th>0</th>\n",
       "      <td>0.001622</td>\n",
       "      <td>0.314787</td>\n",
       "      <td>4.342402</td>\n",
       "    </tr>\n",
       "    <tr>\n",
       "      <th>1</th>\n",
       "      <td>-1.189813</td>\n",
       "      <td>0.629996</td>\n",
       "      <td>3.602290</td>\n",
       "    </tr>\n",
       "    <tr>\n",
       "      <th>2</th>\n",
       "      <td>-0.954512</td>\n",
       "      <td>0.430032</td>\n",
       "      <td>1.279854</td>\n",
       "    </tr>\n",
       "    <tr>\n",
       "      <th>3</th>\n",
       "      <td>0.269808</td>\n",
       "      <td>0.959273</td>\n",
       "      <td>0.785138</td>\n",
       "    </tr>\n",
       "    <tr>\n",
       "      <th>4</th>\n",
       "      <td>-1.232104</td>\n",
       "      <td>0.486143</td>\n",
       "      <td>1.241887</td>\n",
       "    </tr>\n",
       "    <tr>\n",
       "      <th>...</th>\n",
       "      <td>...</td>\n",
       "      <td>...</td>\n",
       "      <td>...</td>\n",
       "    </tr>\n",
       "    <tr>\n",
       "      <th>9995</th>\n",
       "      <td>-0.393453</td>\n",
       "      <td>0.835872</td>\n",
       "      <td>1.186277</td>\n",
       "    </tr>\n",
       "    <tr>\n",
       "      <th>9996</th>\n",
       "      <td>2.123736</td>\n",
       "      <td>0.881894</td>\n",
       "      <td>0.858599</td>\n",
       "    </tr>\n",
       "    <tr>\n",
       "      <th>9997</th>\n",
       "      <td>-0.962888</td>\n",
       "      <td>0.022754</td>\n",
       "      <td>1.174094</td>\n",
       "    </tr>\n",
       "    <tr>\n",
       "      <th>9998</th>\n",
       "      <td>-0.278294</td>\n",
       "      <td>0.578399</td>\n",
       "      <td>0.579704</td>\n",
       "    </tr>\n",
       "    <tr>\n",
       "      <th>9999</th>\n",
       "      <td>0.265576</td>\n",
       "      <td>0.273610</td>\n",
       "      <td>0.626711</td>\n",
       "    </tr>\n",
       "  </tbody>\n",
       "</table>\n",
       "<p>10000 rows × 3 columns</p>\n",
       "</div>"
      ],
      "text/plain": [
       "        normal    random     gamma\n",
       "0     0.001622  0.314787  4.342402\n",
       "1    -1.189813  0.629996  3.602290\n",
       "2    -0.954512  0.430032  1.279854\n",
       "3     0.269808  0.959273  0.785138\n",
       "4    -1.232104  0.486143  1.241887\n",
       "...        ...       ...       ...\n",
       "9995 -0.393453  0.835872  1.186277\n",
       "9996  2.123736  0.881894  0.858599\n",
       "9997 -0.962888  0.022754  1.174094\n",
       "9998 -0.278294  0.578399  0.579704\n",
       "9999  0.265576  0.273610  0.626711\n",
       "\n",
       "[10000 rows x 3 columns]"
      ]
     },
     "execution_count": 2,
     "metadata": {},
     "output_type": "execute_result"
    }
   ],
   "source": [
    "normal_sample = np.random.normal(loc=0.0, scale=1.0, size=10000)\n",
    "random_sample = np.random.random(size=10000)\n",
    "gamma_sample = np.random.gamma(2, size=10000)\n",
    "\n",
    "df = pd.DataFrame({'normal': normal_sample,\n",
    "                   'random': random_sample, \n",
    "                   'gamma': gamma_sample})\n",
    "df"
   ]
  },
  {
   "cell_type": "code",
   "execution_count": 3,
   "id": "5b07f7ff-3153-4907-9b4d-94be0eba34e7",
   "metadata": {},
   "outputs": [
    {
     "data": {
      "text/html": [
       "<div>\n",
       "<style scoped>\n",
       "    .dataframe tbody tr th:only-of-type {\n",
       "        vertical-align: middle;\n",
       "    }\n",
       "\n",
       "    .dataframe tbody tr th {\n",
       "        vertical-align: top;\n",
       "    }\n",
       "\n",
       "    .dataframe thead th {\n",
       "        text-align: right;\n",
       "    }\n",
       "</style>\n",
       "<table border=\"1\" class=\"dataframe\">\n",
       "  <thead>\n",
       "    <tr style=\"text-align: right;\">\n",
       "      <th></th>\n",
       "      <th>normal</th>\n",
       "      <th>random</th>\n",
       "      <th>gamma</th>\n",
       "    </tr>\n",
       "  </thead>\n",
       "  <tbody>\n",
       "    <tr>\n",
       "      <th>count</th>\n",
       "      <td>10000.000000</td>\n",
       "      <td>10000.000000</td>\n",
       "      <td>10000.000000</td>\n",
       "    </tr>\n",
       "    <tr>\n",
       "      <th>mean</th>\n",
       "      <td>-0.004887</td>\n",
       "      <td>0.499047</td>\n",
       "      <td>1.991025</td>\n",
       "    </tr>\n",
       "    <tr>\n",
       "      <th>std</th>\n",
       "      <td>0.997559</td>\n",
       "      <td>0.287444</td>\n",
       "      <td>1.398103</td>\n",
       "    </tr>\n",
       "    <tr>\n",
       "      <th>min</th>\n",
       "      <td>-3.752732</td>\n",
       "      <td>0.000093</td>\n",
       "      <td>0.010613</td>\n",
       "    </tr>\n",
       "    <tr>\n",
       "      <th>25%</th>\n",
       "      <td>-0.675903</td>\n",
       "      <td>0.248397</td>\n",
       "      <td>0.956206</td>\n",
       "    </tr>\n",
       "    <tr>\n",
       "      <th>50%</th>\n",
       "      <td>-0.013630</td>\n",
       "      <td>0.499778</td>\n",
       "      <td>1.670774</td>\n",
       "    </tr>\n",
       "    <tr>\n",
       "      <th>75%</th>\n",
       "      <td>0.675465</td>\n",
       "      <td>0.747428</td>\n",
       "      <td>2.666736</td>\n",
       "    </tr>\n",
       "    <tr>\n",
       "      <th>max</th>\n",
       "      <td>3.378873</td>\n",
       "      <td>0.999880</td>\n",
       "      <td>11.883075</td>\n",
       "    </tr>\n",
       "  </tbody>\n",
       "</table>\n",
       "</div>"
      ],
      "text/plain": [
       "             normal        random         gamma\n",
       "count  10000.000000  10000.000000  10000.000000\n",
       "mean      -0.004887      0.499047      1.991025\n",
       "std        0.997559      0.287444      1.398103\n",
       "min       -3.752732      0.000093      0.010613\n",
       "25%       -0.675903      0.248397      0.956206\n",
       "50%       -0.013630      0.499778      1.670774\n",
       "75%        0.675465      0.747428      2.666736\n",
       "max        3.378873      0.999880     11.883075"
      ]
     },
     "execution_count": 3,
     "metadata": {},
     "output_type": "execute_result"
    }
   ],
   "source": [
    "df.describe() # see summary statistics"
   ]
  },
  {
   "cell_type": "markdown",
   "id": "11ae6d82-c151-4494-b142-15dee9c42955",
   "metadata": {},
   "source": [
    "Like standard deviation, interquartile range is a measure of the variability of the data, which you can plot with a boxplot:\n",
    "\n",
    "we know matplotlib uses NumPy arrays for data, but since pandas is built on top of NumPy it still works. A Pandas column is actually a NumPy array underneath.\n",
    "\n",
    "*to suppress output of Artist info, use `;` at the end of statement (a Jupyter notebook trick, not standard Python)*"
   ]
  },
  {
   "cell_type": "code",
   "execution_count": 5,
   "id": "b5e3624b-1886-4f8e-82e8-48c232b5dd37",
   "metadata": {},
   "outputs": [
    {
     "data": {
      "image/png": "[encoded data removed]",
      "text/plain": [
       "<Figure size 432x288 with 1 Axes>"
      ]
     },
     "metadata": {
      "needs_background": "light"
     },
     "output_type": "display_data"
    }
   ],
   "source": [
    "plt.boxplot(df['normal']);"
   ]
  },
  {
   "cell_type": "code",
   "execution_count": 6,
   "id": "c1dd4fde-e250-466b-b05a-e942541a8c97",
   "metadata": {},
   "outputs": [
    {
     "data": {
      "image/png": "[encoded data removed]",
      "text/plain": [
       "<Figure size 432x288 with 1 Axes>"
      ]
     },
     "metadata": {
      "needs_background": "light"
     },
     "output_type": "display_data"
    }
   ],
   "source": [
    "# to plot each column as its own boxplot, have to specify, cannot pass in df as is\n",
    "plt.boxplot([df['normal'], df['random'], df['gamma']], whis=[0,100]);"
   ]
  },
  {
   "cell_type": "code",
   "execution_count": 8,
   "id": "02df06e6-0565-4028-907e-21ca14ccb290",
   "metadata": {},
   "outputs": [
    {
     "data": {
      "image/png": "[encoded data removed]",
      "text/plain": [
       "<Figure size 432x288 with 1 Axes>"
      ]
     },
     "metadata": {
      "needs_background": "light"
     },
     "output_type": "display_data"
    }
   ],
   "source": [
    "plt.hist(df['gamma'], bins=100);"
   ]
  },
  {
   "cell_type": "markdown",
   "id": "758e0995-dc36-46f4-b675-1c71706493e0",
   "metadata": {},
   "source": [
    "The gamma distribution is skewed to the right.\n",
    "### Inset Plot\n",
    "can overlay an axis on top of another axis within a figure by calling `inset_axes()` on the figure itself and passing in details of the new axis we want to create.\n",
    "\n",
    "In this example, we want to provide a bounding box of `(0,0.6)` as the bottom left and `(0.6,0.4)` as width and height. These are ratios of the ax object."
   ]
  },
  {
   "cell_type": "code",
   "execution_count": 10,
   "id": "cf5fa952-7dd8-4b0e-b5f6-dc578ee187ef",
   "metadata": {},
   "outputs": [
    {
     "data": {
      "image/png": "[encoded data removed]",
      "text/plain": [
       "<Figure size 648x648 with 1 Axes>"
      ]
     },
     "metadata": {
      "needs_background": "light"
     },
     "output_type": "display_data"
    }
   ],
   "source": [
    "plt.figure(figsize=(9,9))\n",
    "\n",
    "plt.boxplot([df['normal'], df['random'], df['gamma']], whis=[0,100])\n",
    "\n",
    "ax2 = plt.gca().inset_axes([0,0.6,0.6,0.4]) # new inset_axis object\n",
    "ax2.hist(df['gamma'], bins=100, density=True) # plot the histogram on this new inset_axis\n",
    "\n",
    "# flip tick labels to the right so they don't clash with the main boxplot\n",
    "ax2.yaxis.tick_right()"
   ]
  },
  {
   "cell_type": "markdown",
   "id": "aac0802a-c893-4b97-a8dd-44f59776ff06",
   "metadata": {},
   "source": [
    "### Showing Outliers\n",
    "Now, we often want to look at a boxplot not by seeing the maximum and minimum values but instead by emphasizing outliers. \n",
    "How outliers are detected really depends, and there are various mechanisms to determine whether an observation is an outlier or not. If we look at the documentation though, the default for matplotlib is that outliers are all data points which are either greater than or less than the distance between the hinge (the bottom or top of the box, or first and third quartile), and 1.5 * the inter-quartile range (IQR). The interquartile range is the distance between the two hinges, which captures 50% of our data. So if we omit the `whis` parameter to the boxplot call we'll see the outliers using this method plotted."
   ]
  },
  {
   "cell_type": "code",
   "execution_count": 11,
   "id": "6de02769-5c0c-4bc9-b74f-d6eab763131b",
   "metadata": {},
   "outputs": [
    {
     "data": {
      "image/png": "[encoded data removed]",
      "text/plain": [
       "<Figure size 648x648 with 1 Axes>"
      ]
     },
     "metadata": {
      "needs_background": "light"
     },
     "output_type": "display_data"
    }
   ],
   "source": [
    "plt.figure(figsize=(9,9))\n",
    "plt.boxplot([ df['normal'], df['random'], df['gamma'] ]);"
   ]
  },
  {
   "cell_type": "markdown",
   "id": "973c9488-ae73-4c1b-9932-098e6f3bf8d9",
   "metadata": {},
   "source": [
    "Each circle is a single outlier observation.\n",
    "\n",
    "## Heat Maps\n",
    "Anything with 2D spatial aspects are prime for heat maps. Don't use with categorical data because it misleads the user into looking for patterns and order through spatial proximity.\n",
    "\n",
    "In Matplotlib, a heat map is basically a 2D histogram where `x` and `y` are points and the color represents the frequency of the observation. "
   ]
  },
  {
   "cell_type": "code",
   "execution_count": 1,
   "id": "ef595805-81cc-40be-af48-6d539c90926f",
   "metadata": {},
   "outputs": [],
   "source": [
    "import matplotlib.pyplot as plt\n",
    "import numpy as np\n",
    "import pandas as pd\n",
    "from datetime import datetime"
   ]
  },
  {
   "cell_type": "markdown",
   "id": "7595184a-1f89-4e1b-9def-3c39d005ba3a",
   "metadata": {},
   "source": [
    "Example: NYC traffic data\n",
    "\n",
    "* 'Plaza ID': where the different traffic cameras are set up\n",
    "* 'Direction': I (incoming), O (outgoing)\n",
    "* two different tolling systems (EZ Pass and VToll)"
   ]
  },
  {
   "cell_type": "code",
   "execution_count": 3,
   "id": "3c5ce7e6-1036-4476-866d-b14492f7e457",
   "metadata": {},
   "outputs": [
    {
     "data": {
      "text/html": [
       "<div>\n",
       "<style scoped>\n",
       "    .dataframe tbody tr th:only-of-type {\n",
       "        vertical-align: middle;\n",
       "    }\n",
       "\n",
       "    .dataframe tbody tr th {\n",
       "        vertical-align: top;\n",
       "    }\n",
       "\n",
       "    .dataframe thead th {\n",
       "        text-align: right;\n",
       "    }\n",
       "</style>\n",
       "<table border=\"1\" class=\"dataframe\">\n",
       "  <thead>\n",
       "    <tr style=\"text-align: right;\">\n",
       "      <th></th>\n",
       "      <th>Plaza ID</th>\n",
       "      <th>Date</th>\n",
       "      <th>Hour</th>\n",
       "      <th>Direction</th>\n",
       "      <th># Vehicles - E-ZPass</th>\n",
       "      <th># Vehicles - VToll</th>\n",
       "    </tr>\n",
       "  </thead>\n",
       "  <tbody>\n",
       "    <tr>\n",
       "      <th>0</th>\n",
       "      <td>21</td>\n",
       "      <td>2022-08-06</td>\n",
       "      <td>0</td>\n",
       "      <td>I</td>\n",
       "      <td>2820</td>\n",
       "      <td>649</td>\n",
       "    </tr>\n",
       "    <tr>\n",
       "      <th>1</th>\n",
       "      <td>21</td>\n",
       "      <td>2022-08-06</td>\n",
       "      <td>1</td>\n",
       "      <td>I</td>\n",
       "      <td>2124</td>\n",
       "      <td>474</td>\n",
       "    </tr>\n",
       "    <tr>\n",
       "      <th>2</th>\n",
       "      <td>21</td>\n",
       "      <td>2022-08-06</td>\n",
       "      <td>2</td>\n",
       "      <td>I</td>\n",
       "      <td>1617</td>\n",
       "      <td>391</td>\n",
       "    </tr>\n",
       "    <tr>\n",
       "      <th>3</th>\n",
       "      <td>21</td>\n",
       "      <td>2022-08-06</td>\n",
       "      <td>3</td>\n",
       "      <td>I</td>\n",
       "      <td>1228</td>\n",
       "      <td>358</td>\n",
       "    </tr>\n",
       "    <tr>\n",
       "      <th>4</th>\n",
       "      <td>21</td>\n",
       "      <td>2022-08-06</td>\n",
       "      <td>4</td>\n",
       "      <td>I</td>\n",
       "      <td>1604</td>\n",
       "      <td>368</td>\n",
       "    </tr>\n",
       "  </tbody>\n",
       "</table>\n",
       "</div>"
      ],
      "text/plain": [
       "   Plaza ID       Date  Hour Direction  # Vehicles - E-ZPass  \\\n",
       "0        21 2022-08-06     0         I                  2820   \n",
       "1        21 2022-08-06     1         I                  2124   \n",
       "2        21 2022-08-06     2         I                  1617   \n",
       "3        21 2022-08-06     3         I                  1228   \n",
       "4        21 2022-08-06     4         I                  1604   \n",
       "\n",
       "   # Vehicles - VToll  \n",
       "0                 649  \n",
       "1                 474  \n",
       "2                 391  \n",
       "3                 358  \n",
       "4                 368  "
      ]
     },
     "execution_count": 3,
     "metadata": {},
     "output_type": "execute_result"
    }
   ],
   "source": [
    "df = pd.read_csv(\"../assets/NYC hourly traffic.csv\")\n",
    "\n",
    "# convert Date to datetime\n",
    "df['Date'] = df['Date'].apply(pd.to_datetime)\n",
    "\n",
    "df.head() "
   ]
  },
  {
   "cell_type": "markdown",
   "id": "9e91eb0a-6579-4aea-a1dc-7f94981b723d",
   "metadata": {},
   "source": [
    "Narrow it down to one traffic camera in early 2017 using `numexpr` package (similar to SQL):"
   ]
  },
  {
   "cell_type": "code",
   "execution_count": 4,
   "id": "209ff4a3-5ed0-446a-aaa0-164c018cfda0",
   "metadata": {},
   "outputs": [
    {
     "data": {
      "text/html": [
       "<div>\n",
       "<style scoped>\n",
       "    .dataframe tbody tr th:only-of-type {\n",
       "        vertical-align: middle;\n",
       "    }\n",
       "\n",
       "    .dataframe tbody tr th {\n",
       "        vertical-align: top;\n",
       "    }\n",
       "\n",
       "    .dataframe thead th {\n",
       "        text-align: right;\n",
       "    }\n",
       "</style>\n",
       "<table border=\"1\" class=\"dataframe\">\n",
       "  <thead>\n",
       "    <tr style=\"text-align: right;\">\n",
       "      <th></th>\n",
       "      <th>Plaza ID</th>\n",
       "      <th>Date</th>\n",
       "      <th>Hour</th>\n",
       "      <th>Direction</th>\n",
       "      <th># Vehicles - E-ZPass</th>\n",
       "      <th># Vehicles - VToll</th>\n",
       "    </tr>\n",
       "  </thead>\n",
       "  <tbody>\n",
       "    <tr>\n",
       "      <th>735652</th>\n",
       "      <td>5</td>\n",
       "      <td>2017-04-29</td>\n",
       "      <td>0</td>\n",
       "      <td>I</td>\n",
       "      <td>216</td>\n",
       "      <td>25</td>\n",
       "    </tr>\n",
       "    <tr>\n",
       "      <th>735653</th>\n",
       "      <td>5</td>\n",
       "      <td>2017-04-29</td>\n",
       "      <td>0</td>\n",
       "      <td>O</td>\n",
       "      <td>100</td>\n",
       "      <td>23</td>\n",
       "    </tr>\n",
       "    <tr>\n",
       "      <th>735654</th>\n",
       "      <td>5</td>\n",
       "      <td>2017-04-29</td>\n",
       "      <td>1</td>\n",
       "      <td>I</td>\n",
       "      <td>111</td>\n",
       "      <td>21</td>\n",
       "    </tr>\n",
       "    <tr>\n",
       "      <th>735655</th>\n",
       "      <td>5</td>\n",
       "      <td>2017-04-29</td>\n",
       "      <td>1</td>\n",
       "      <td>O</td>\n",
       "      <td>53</td>\n",
       "      <td>18</td>\n",
       "    </tr>\n",
       "    <tr>\n",
       "      <th>735656</th>\n",
       "      <td>5</td>\n",
       "      <td>2017-04-29</td>\n",
       "      <td>2</td>\n",
       "      <td>I</td>\n",
       "      <td>72</td>\n",
       "      <td>16</td>\n",
       "    </tr>\n",
       "    <tr>\n",
       "      <th>...</th>\n",
       "      <td>...</td>\n",
       "      <td>...</td>\n",
       "      <td>...</td>\n",
       "      <td>...</td>\n",
       "      <td>...</td>\n",
       "      <td>...</td>\n",
       "    </tr>\n",
       "    <tr>\n",
       "      <th>773399</th>\n",
       "      <td>5</td>\n",
       "      <td>2016-12-31</td>\n",
       "      <td>21</td>\n",
       "      <td>O</td>\n",
       "      <td>234</td>\n",
       "      <td>54</td>\n",
       "    </tr>\n",
       "    <tr>\n",
       "      <th>773400</th>\n",
       "      <td>5</td>\n",
       "      <td>2016-12-31</td>\n",
       "      <td>22</td>\n",
       "      <td>I</td>\n",
       "      <td>180</td>\n",
       "      <td>46</td>\n",
       "    </tr>\n",
       "    <tr>\n",
       "      <th>773401</th>\n",
       "      <td>5</td>\n",
       "      <td>2016-12-31</td>\n",
       "      <td>22</td>\n",
       "      <td>O</td>\n",
       "      <td>177</td>\n",
       "      <td>40</td>\n",
       "    </tr>\n",
       "    <tr>\n",
       "      <th>773402</th>\n",
       "      <td>5</td>\n",
       "      <td>2016-12-31</td>\n",
       "      <td>23</td>\n",
       "      <td>I</td>\n",
       "      <td>126</td>\n",
       "      <td>30</td>\n",
       "    </tr>\n",
       "    <tr>\n",
       "      <th>773403</th>\n",
       "      <td>5</td>\n",
       "      <td>2016-12-31</td>\n",
       "      <td>23</td>\n",
       "      <td>O</td>\n",
       "      <td>143</td>\n",
       "      <td>37</td>\n",
       "    </tr>\n",
       "  </tbody>\n",
       "</table>\n",
       "<p>5760 rows × 6 columns</p>\n",
       "</div>"
      ],
      "text/plain": [
       "        Plaza ID       Date  Hour Direction  # Vehicles - E-ZPass  \\\n",
       "735652         5 2017-04-29     0         I                   216   \n",
       "735653         5 2017-04-29     0         O                   100   \n",
       "735654         5 2017-04-29     1         I                   111   \n",
       "735655         5 2017-04-29     1         O                    53   \n",
       "735656         5 2017-04-29     2         I                    72   \n",
       "...          ...        ...   ...       ...                   ...   \n",
       "773399         5 2016-12-31    21         O                   234   \n",
       "773400         5 2016-12-31    22         I                   180   \n",
       "773401         5 2016-12-31    22         O                   177   \n",
       "773402         5 2016-12-31    23         I                   126   \n",
       "773403         5 2016-12-31    23         O                   143   \n",
       "\n",
       "        # Vehicles - VToll  \n",
       "735652                  25  \n",
       "735653                  23  \n",
       "735654                  21  \n",
       "735655                  18  \n",
       "735656                  16  \n",
       "...                    ...  \n",
       "773399                  54  \n",
       "773400                  46  \n",
       "773401                  40  \n",
       "773402                  30  \n",
       "773403                  37  \n",
       "\n",
       "[5760 rows x 6 columns]"
      ]
     },
     "execution_count": 4,
     "metadata": {},
     "output_type": "execute_result"
    }
   ],
   "source": [
    "sample = df.query('`Plaza ID`==5 & Date>\"2016-12-30\" & Date<\"2017-05-01\"')\n",
    "sample"
   ]
  },
  {
   "cell_type": "code",
   "execution_count": 6,
   "id": "96911dd7-b3f9-4b49-9194-c65d3e80ccb0",
   "metadata": {},
   "outputs": [
    {
     "data": {
      "text/html": [
       "<div>\n",
       "<style scoped>\n",
       "    .dataframe tbody tr th:only-of-type {\n",
       "        vertical-align: middle;\n",
       "    }\n",
       "\n",
       "    .dataframe tbody tr th {\n",
       "        vertical-align: top;\n",
       "    }\n",
       "\n",
       "    .dataframe thead th {\n",
       "        text-align: right;\n",
       "    }\n",
       "</style>\n",
       "<table border=\"1\" class=\"dataframe\">\n",
       "  <thead>\n",
       "    <tr style=\"text-align: right;\">\n",
       "      <th></th>\n",
       "      <th>Plaza ID</th>\n",
       "      <th>Date</th>\n",
       "      <th>Hour</th>\n",
       "      <th>Direction</th>\n",
       "      <th># Vehicles - E-ZPass</th>\n",
       "      <th># Vehicles - VToll</th>\n",
       "    </tr>\n",
       "  </thead>\n",
       "  <tbody>\n",
       "    <tr>\n",
       "      <th>735652</th>\n",
       "      <td>5</td>\n",
       "      <td>2017-04-29</td>\n",
       "      <td>0</td>\n",
       "      <td>I</td>\n",
       "      <td>216</td>\n",
       "      <td>25</td>\n",
       "    </tr>\n",
       "    <tr>\n",
       "      <th>735653</th>\n",
       "      <td>5</td>\n",
       "      <td>2017-04-29</td>\n",
       "      <td>0</td>\n",
       "      <td>O</td>\n",
       "      <td>100</td>\n",
       "      <td>23</td>\n",
       "    </tr>\n",
       "    <tr>\n",
       "      <th>735654</th>\n",
       "      <td>5</td>\n",
       "      <td>2017-04-29</td>\n",
       "      <td>1</td>\n",
       "      <td>I</td>\n",
       "      <td>111</td>\n",
       "      <td>21</td>\n",
       "    </tr>\n",
       "    <tr>\n",
       "      <th>735655</th>\n",
       "      <td>5</td>\n",
       "      <td>2017-04-29</td>\n",
       "      <td>1</td>\n",
       "      <td>O</td>\n",
       "      <td>53</td>\n",
       "      <td>18</td>\n",
       "    </tr>\n",
       "    <tr>\n",
       "      <th>735656</th>\n",
       "      <td>5</td>\n",
       "      <td>2017-04-29</td>\n",
       "      <td>2</td>\n",
       "      <td>I</td>\n",
       "      <td>72</td>\n",
       "      <td>16</td>\n",
       "    </tr>\n",
       "    <tr>\n",
       "      <th>...</th>\n",
       "      <td>...</td>\n",
       "      <td>...</td>\n",
       "      <td>...</td>\n",
       "      <td>...</td>\n",
       "      <td>...</td>\n",
       "      <td>...</td>\n",
       "    </tr>\n",
       "    <tr>\n",
       "      <th>773399</th>\n",
       "      <td>5</td>\n",
       "      <td>2016-12-31</td>\n",
       "      <td>21</td>\n",
       "      <td>O</td>\n",
       "      <td>234</td>\n",
       "      <td>54</td>\n",
       "    </tr>\n",
       "    <tr>\n",
       "      <th>773400</th>\n",
       "      <td>5</td>\n",
       "      <td>2016-12-31</td>\n",
       "      <td>22</td>\n",
       "      <td>I</td>\n",
       "      <td>180</td>\n",
       "      <td>46</td>\n",
       "    </tr>\n",
       "    <tr>\n",
       "      <th>773401</th>\n",
       "      <td>5</td>\n",
       "      <td>2016-12-31</td>\n",
       "      <td>22</td>\n",
       "      <td>O</td>\n",
       "      <td>177</td>\n",
       "      <td>40</td>\n",
       "    </tr>\n",
       "    <tr>\n",
       "      <th>773402</th>\n",
       "      <td>5</td>\n",
       "      <td>2016-12-31</td>\n",
       "      <td>23</td>\n",
       "      <td>I</td>\n",
       "      <td>126</td>\n",
       "      <td>30</td>\n",
       "    </tr>\n",
       "    <tr>\n",
       "      <th>773403</th>\n",
       "      <td>5</td>\n",
       "      <td>2016-12-31</td>\n",
       "      <td>23</td>\n",
       "      <td>O</td>\n",
       "      <td>143</td>\n",
       "      <td>37</td>\n",
       "    </tr>\n",
       "  </tbody>\n",
       "</table>\n",
       "<p>5760 rows × 6 columns</p>\n",
       "</div>"
      ],
      "text/plain": [
       "        Plaza ID       Date  Hour Direction  # Vehicles - E-ZPass  \\\n",
       "735652         5 2017-04-29     0         I                   216   \n",
       "735653         5 2017-04-29     0         O                   100   \n",
       "735654         5 2017-04-29     1         I                   111   \n",
       "735655         5 2017-04-29     1         O                    53   \n",
       "735656         5 2017-04-29     2         I                    72   \n",
       "...          ...        ...   ...       ...                   ...   \n",
       "773399         5 2016-12-31    21         O                   234   \n",
       "773400         5 2016-12-31    22         I                   180   \n",
       "773401         5 2016-12-31    22         O                   177   \n",
       "773402         5 2016-12-31    23         I                   126   \n",
       "773403         5 2016-12-31    23         O                   143   \n",
       "\n",
       "        # Vehicles - VToll  \n",
       "735652                  25  \n",
       "735653                  23  \n",
       "735654                  21  \n",
       "735655                  18  \n",
       "735656                  16  \n",
       "...                    ...  \n",
       "773399                  54  \n",
       "773400                  46  \n",
       "773401                  40  \n",
       "773402                  30  \n",
       "773403                  37  \n",
       "\n",
       "[5760 rows x 6 columns]"
      ]
     },
     "execution_count": 6,
     "metadata": {},
     "output_type": "execute_result"
    }
   ],
   "source": [
    "sample = df[(df['Plaza ID'] == 5) & (df['Date'] > '2016-12-30') & (df['Date']<'2017-05-01')]\n",
    "sample"
   ]
  },
  {
   "cell_type": "markdown",
   "id": "84a53fac-ced8-4704-aebf-c9e6e1653848",
   "metadata": {},
   "source": [
    "Look at the activity over the day:"
   ]
  },
  {
   "cell_type": "code",
   "execution_count": 7,
   "id": "ef0351aa-c79c-4d0d-a25b-69d6a2991b2c",
   "metadata": {},
   "outputs": [
    {
     "data": {
      "image/png": "[encoded data removed]",
      "text/plain": [
       "<Figure size 432x288 with 1 Axes>"
      ]
     },
     "metadata": {
      "needs_background": "light"
     },
     "output_type": "display_data"
    }
   ],
   "source": [
    "# since there are 24 hours in a day, set the number of bins=24\n",
    "# want the frequency (the weights for each bin) as the number of vehicles which use EZ Pass\n",
    "plt.hist(sample['Hour'], bins=24, weights=sample['# Vehicles - E-ZPass']);"
   ]
  },
  {
   "cell_type": "markdown",
   "id": "7ecf5fa4-78d3-4629-b016-ebd100b561a0",
   "metadata": {},
   "source": [
    "Interpretation: rush hour traffic at 7am and 3-6 pm!\n",
    "\n",
    "Now let's look at day of the week:\n",
    "\n",
    "First need to make the Day of Week column. A dataframe column is a Series object which has the attribute `.dt` on it which allows you to do datetime transformations."
   ]
  },
  {
   "cell_type": "code",
   "execution_count": 9,
   "id": "67d8eeff-1fa5-4826-98f8-9865971fe886",
   "metadata": {},
   "outputs": [
    {
     "data": {
      "image/png": "[encoded data removed]",
      "text/plain": [
       "<Figure size 432x288 with 1 Axes>"
      ]
     },
     "metadata": {
      "needs_background": "light"
     },
     "output_type": "display_data"
    }
   ],
   "source": [
    "sample['Day of Week'] = sample['Date'].dt.dayofweek # returns an int 0-6\n",
    "\n",
    "plt.hist(sample['Day of Week'], bins=7, weights=sample['# Vehicles - E-ZPass']);"
   ]
  },
  {
   "cell_type": "markdown",
   "id": "4a346aca-39d2-45ec-84b4-5c0b38bf149a",
   "metadata": {},
   "source": [
    "Interpretation: traffic seems to be pretty steady except for days 5 and 6 which is the weekend (Saturday and Sunday, respectively)\n",
    "\n",
    "Make a heat map using `plt.hist2d()` to get a look at both hourly and daily traffic. This way you don't have to create histograms for the hourly data for each day of the week."
   ]
  },
  {
   "cell_type": "code",
   "execution_count": 13,
   "id": "b6285fc7-6ae0-428c-b5df-d15bd68f1678",
   "metadata": {},
   "outputs": [
    {
     "data": {
      "text/plain": [
       "<matplotlib.colorbar.Colorbar at 0x7fdaa81eaa30>"
      ]
     },
     "execution_count": 13,
     "metadata": {},
     "output_type": "execute_result"
    },
    {
     "data": {
      "image/png": "[encoded data removed]",
      "text/plain": [
       "<Figure size 864x576 with 2 Axes>"
      ]
     },
     "metadata": {
      "needs_background": "light"
     },
     "output_type": "display_data"
    }
   ],
   "source": [
    "plt.figure(figsize=(12,8))\n",
    "plt.hist2d(sample['Hour'],\n",
    "           sample['Day of Week'],\n",
    "           bins=[24,7],\n",
    "           weights=sample['# Vehicles - E-ZPass'])\n",
    "\n",
    "# add legend telling you value of each bin\n",
    "plt.colorbar()"
   ]
  },
  {
   "cell_type": "markdown",
   "id": "d6563271-7bce-4adf-b432-321d1fa6b48a",
   "metadata": {},
   "source": [
    "Do a heat map that looks at month vs week of the month with regards to E-Z Pass traffic:"
   ]
  },
  {
   "cell_type": "code",
   "execution_count": 18,
   "id": "574dbc92-f801-4ea0-9947-cb5555509a1d",
   "metadata": {},
   "outputs": [
    {
     "data": {
      "text/plain": [
       "<matplotlib.colorbar.Colorbar at 0x7fdaa81392b0>"
      ]
     },
     "execution_count": 18,
     "metadata": {},
     "output_type": "execute_result"
    },
    {
     "data": {
      "image/png": "[encoded data removed]",
      "text/plain": [
       "<Figure size 864x576 with 2 Axes>"
      ]
     },
     "metadata": {
      "needs_background": "light"
     },
     "output_type": "display_data"
    }
   ],
   "source": [
    "sample['Month'] = sample['Date'].dt.month\n",
    "sample['Week of Month'] = (sample['Date'].dt.day - 1) // 7 + 1\n",
    "\n",
    "plt.figure(figsize=(12,8))\n",
    "plt.hist2d(sample['Month'],\n",
    "           sample['Week of Month'],\n",
    "           bins=[24,7],\n",
    "           weights=sample['# Vehicles - E-ZPass'])\n",
    "\n",
    "plt.colorbar()"
   ]
  },
  {
   "cell_type": "markdown",
   "id": "7bff4264-bedc-4554-b870-489166dfada7",
   "metadata": {},
   "source": [
    "## Animation\n",
    "Need to turn on widget in the background to run animation. Can't change it once you set it.\n",
    "\n",
    "Use `FuncAnimation` to create your animation but first defining a function that iteratively gets called. This function clears axis object and redraws the next frame of animation. The frames are then stacked together to create a video."
   ]
  },
  {
   "cell_type": "code",
   "execution_count": 19,
   "id": "e7c17c29-87ad-426c-857e-243e1f544ee0",
   "metadata": {},
   "outputs": [],
   "source": [
    "%matplotlib widget\n",
    "\n",
    "import matplotlib.pyplot as plt\n",
    "import matplotlib.animation as animation\n",
    "import numpy as np"
   ]
  },
  {
   "cell_type": "markdown",
   "id": "38b65436-b670-4fee-9946-c8cc6279d247",
   "metadata": {},
   "source": [
    "Example: pull out 100 samples from normal distribution"
   ]
  },
  {
   "cell_type": "code",
   "execution_count": 20,
   "id": "ea645a88-9582-4db3-90b4-28b532e2f7c4",
   "metadata": {},
   "outputs": [],
   "source": [
    "n = 100\n",
    "x = np.random.randn(n) # randn == random normal distribution"
   ]
  },
  {
   "cell_type": "code",
   "execution_count": 23,
   "id": "9a28a4a7-bb7d-4293-aacb-92fef4c054ff",
   "metadata": {},
   "outputs": [],
   "source": [
    "# create the function that'll do the plotting, where 'curr' is the current frame\n",
    "def update(curr):\n",
    "    # stopping criteria (aka when we're at the end of our list)\n",
    "    if curr == n:\n",
    "        a.event_source.stop()\n",
    "        \n",
    "    # clear the current axes\n",
    "    plt.cla()\n",
    "    \n",
    "    # now plot the histogram\n",
    "    \n",
    "    # set bin numbers to a predictable value\n",
    "    bins = np.arange(-4,4,0.5)\n",
    "    \n",
    "    # use the current frame number to generate histogram\n",
    "    plt.hist(x[:curr], bins=bins) \n",
    "    \n",
    "    # set axes limits\n",
    "    plt.axis([-4,4,0,30])\n",
    "    \n",
    "    # add labels\n",
    "    plt.gca().set_title('Sampling the Normal Distribution')\n",
    "    plt.gca().set_ylabel('Frequency')\n",
    "    plt.gca().set_xlabel('Value')\n",
    "    plt.annotate(f\"n = {curr}\", [3,27])"
   ]
  },
  {
   "cell_type": "code",
   "execution_count": 24,
   "id": "b15c5c3e-da2b-48a3-8bb7-a97275e32735",
   "metadata": {},
   "outputs": [
    {
     "data": {
      "application/vnd.jupyter.widget-view+json": {
       "model_id": "6079c8593e7b49d8a2c363a9b77b9e30",
       "version_major": 2,
       "version_minor": 0
      },
      "image/png": "[encoded data removed]",
      "text/html": [
       "\n",
       "            <div style=\"display: inline-block;\">\n",
       "                <div class=\"jupyter-widgets widget-label\" style=\"text-align: center;\">\n",
       "                    Figure\n",
       "                </div>\n",
       "                <img src='data:image/png;base64,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' width=640.0/>\n",
       "            </div>\n",
       "        "
      ],
      "text/plain": [
       "Canvas(toolbar=Toolbar(toolitems=[('Home', 'Reset original view', 'home', 'home'), ('Back', 'Back to previous …"
      ]
     },
     "metadata": {},
     "output_type": "display_data"
    }
   ],
   "source": [
    "a = animation.FuncAnimation(plt.figure(), update, interval=100)\n",
    "\n",
    "# tell the widget back end to show\n",
    "plt.show() "
   ]
  },
  {
   "cell_type": "code",
   "execution_count": null,
   "id": "931ba75f-1ed1-46a9-9d6a-3e60653340f3",
   "metadata": {},
   "outputs": [],
   "source": []
  }
 ],
 "metadata": {
  "kernelspec": {
   "display_name": "Python 3 (ipykernel)",
   "language": "python",
   "name": "python3"
  },
  "language_info": {
   "codemirror_mode": {
    "name": "ipython",
    "version": 3
   },
   "file_extension": ".py",
   "mimetype": "text/x-python",
   "name": "python",
   "nbconvert_exporter": "python",
   "pygments_lexer": "ipython3",
   "version": "3.8.10"
  }
 },
 "nbformat": 4,
 "nbformat_minor": 5
}
