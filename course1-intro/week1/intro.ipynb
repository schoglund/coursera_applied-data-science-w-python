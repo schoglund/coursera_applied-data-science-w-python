{
 "cells": [
  {
   "cell_type": "markdown",
   "id": "1ba9cac5-d682-4a9d-9ab2-e986e35d5de8",
   "metadata": {},
   "source": [
    "# The Python Programming Language: Functions"
   ]
  },
  {
   "cell_type": "code",
   "execution_count": 1,
   "id": "eaddb9f0-5aa9-4e69-8abb-647f8be126f8",
   "metadata": {},
   "outputs": [
    {
     "data": {
      "text/plain": [
       "3"
      ]
     },
     "execution_count": 1,
     "metadata": {},
     "output_type": "execute_result"
    }
   ],
   "source": [
    "x = 1\n",
    "y = 2\n",
    "x + y"
   ]
  },
  {
   "cell_type": "code",
   "execution_count": 2,
   "id": "8fe63de6-1ef3-45bd-960a-2e3f4df1c0c3",
   "metadata": {},
   "outputs": [
    {
     "data": {
      "text/plain": [
       "1"
      ]
     },
     "execution_count": 2,
     "metadata": {},
     "output_type": "execute_result"
    }
   ],
   "source": [
    "x"
   ]
  },
  {
   "cell_type": "raw",
   "id": "36b45434-872f-407f-bdfb-d109fde3ce3e",
   "metadata": {},
   "source": [
    "Python interpreter is 'stateful' meaning it keeps tracks of variables between cells. So if you change a variable in one cell for testing, make sure you click 'Restart and Run All' to reset the state of the kernel."
   ]
  },
  {
   "cell_type": "code",
   "execution_count": 4,
   "id": "540d3355-c39b-4f2b-83f0-66d27f1aa163",
   "metadata": {},
   "outputs": [
    {
     "data": {
      "text/plain": [
       "6"
      ]
     },
     "execution_count": 4,
     "metadata": {},
     "output_type": "execute_result"
    }
   ],
   "source": [
    "def add_numbers(x, y):\n",
    "    return x + y\n",
    "\n",
    "add_numbers(1, 2)"
   ]
  },
  {
   "cell_type": "markdown",
   "id": "a10fd1c2-7d2d-44b6-a21d-a6b50ee43da0",
   "metadata": {},
   "source": [
    "Now make a function that takes 3 numbers and returns the sum. But we can make the third input optional by setting its default value to None, so function can also take 2 numbers. Optional parameters need to come at end of function definition"
   ]
  },
  {
   "cell_type": "code",
   "execution_count": 6,
   "id": "518b2df0-79d7-47d5-a557-1d0cdcf45549",
   "metadata": {},
   "outputs": [
    {
     "name": "stdout",
     "output_type": "stream",
     "text": [
      "3\n",
      "6\n"
     ]
    }
   ],
   "source": [
    "def add_numbers(x, y, z=None):\n",
    "    if z == None:\n",
    "        return x + y\n",
    "    else:\n",
    "        return x + y + z\n",
    "    \n",
    "print(add_numbers(1,2))\n",
    "print(add_numbers(1,2,3))"
   ]
  },
  {
   "cell_type": "code",
   "execution_count": 7,
   "id": "07137e50-f478-4c33-93ee-b614c6ea55d7",
   "metadata": {},
   "outputs": [
    {
     "name": "stdout",
     "output_type": "stream",
     "text": [
      "Flag is true!\n",
      "3\n"
     ]
    }
   ],
   "source": [
    "def add_numbers(x, y, z=None, flag=False):\n",
    "    if flag:\n",
    "        print(\"Flag is true!\")\n",
    "    if z == None:\n",
    "        return x + y\n",
    "    else:\n",
    "        return x + y + z\n",
    "    \n",
    "print(add_numbers(1,2, flag=True))"
   ]
  },
  {
   "cell_type": "markdown",
   "id": "f1eb98b9-5c5c-48f8-ac3d-647e872c0a72",
   "metadata": {},
   "source": [
    "# Types and Sequences"
   ]
  },
  {
   "cell_type": "code",
   "execution_count": 8,
   "id": "3426867e-d6ee-490b-b3fe-cb4f071f23e4",
   "metadata": {},
   "outputs": [
    {
     "data": {
      "text/plain": [
       "str"
      ]
     },
     "execution_count": 8,
     "metadata": {},
     "output_type": "execute_result"
    }
   ],
   "source": [
    "type(\"This is a string\")"
   ]
  },
  {
   "cell_type": "code",
   "execution_count": 9,
   "id": "e7376373-924a-49bf-9d7e-66a6ce138b94",
   "metadata": {},
   "outputs": [
    {
     "data": {
      "text/plain": [
       "NoneType"
      ]
     },
     "execution_count": 9,
     "metadata": {},
     "output_type": "execute_result"
    }
   ],
   "source": [
    "type(None)"
   ]
  },
  {
   "cell_type": "markdown",
   "id": "8ae65d22-613e-44d3-857d-de9071e291bc",
   "metadata": {},
   "source": [
    "## Tuples ()\n",
    "A tuple is a sequence of variables that are immutable. Items in an ordering and it cannot be changed. Can have mixed types in a tuple."
   ]
  },
  {
   "cell_type": "code",
   "execution_count": 10,
   "id": "f6413d7b-01af-4776-a452-909277d68cf7",
   "metadata": {},
   "outputs": [
    {
     "data": {
      "text/plain": [
       "tuple"
      ]
     },
     "execution_count": 10,
     "metadata": {},
     "output_type": "execute_result"
    }
   ],
   "source": [
    "x = (1, 'a', 2, 'b')\n",
    "type(x)"
   ]
  },
  {
   "cell_type": "markdown",
   "id": "7140946a-8926-4345-b297-2128f0943fd0",
   "metadata": {},
   "source": [
    "## List []\n",
    "A list is mutable and you can change its values."
   ]
  },
  {
   "cell_type": "code",
   "execution_count": 14,
   "id": "ef8d2ef9-0f20-407b-9b1f-9aea6a8d6568",
   "metadata": {},
   "outputs": [
    {
     "data": {
      "text/plain": [
       "list"
      ]
     },
     "execution_count": 14,
     "metadata": {},
     "output_type": "execute_result"
    }
   ],
   "source": [
    "x = [1, 'a', 2, 'b']\n",
    "type(x)"
   ]
  },
  {
   "cell_type": "code",
   "execution_count": 15,
   "id": "c9abccba-9c69-47cc-b75e-29d47f984730",
   "metadata": {},
   "outputs": [
    {
     "name": "stdout",
     "output_type": "stream",
     "text": [
      "[1, 'a', 2, 'b', 3.3]\n"
     ]
    }
   ],
   "source": [
    "x.append(3.3)\n",
    "print(x)"
   ]
  },
  {
   "cell_type": "code",
   "execution_count": 16,
   "id": "a5275a5a-326a-42a0-8c2e-f19304ad2015",
   "metadata": {},
   "outputs": [
    {
     "name": "stdout",
     "output_type": "stream",
     "text": [
      "1\n",
      "a\n",
      "2\n",
      "b\n",
      "3.3\n"
     ]
    }
   ],
   "source": [
    "for item in x:\n",
    "    print(item)"
   ]
  },
  {
   "cell_type": "markdown",
   "id": "32fca19e-e0f0-4647-b8ed-587f94b4d1a5",
   "metadata": {},
   "source": [
    "Lists and Tuples are iterable which indexing starting at 0."
   ]
  },
  {
   "cell_type": "code",
   "execution_count": 18,
   "id": "93cf5571-4432-402b-8316-4cdd23011ec4",
   "metadata": {},
   "outputs": [
    {
     "name": "stdout",
     "output_type": "stream",
     "text": [
      "1\n",
      "a\n",
      "2\n",
      "b\n",
      "3.3\n"
     ]
    }
   ],
   "source": [
    "i = 0\n",
    "while i != len(x):\n",
    "    print(x[i])\n",
    "    i = i+1"
   ]
  },
  {
   "cell_type": "code",
   "execution_count": 19,
   "id": "90bab5a3-f7f3-4df8-88e8-910bd5441f3c",
   "metadata": {},
   "outputs": [
    {
     "data": {
      "text/plain": [
       "[1, 2, 3, 4]"
      ]
     },
     "execution_count": 19,
     "metadata": {},
     "output_type": "execute_result"
    }
   ],
   "source": [
    "[1,2] + [3,4]"
   ]
  },
  {
   "cell_type": "code",
   "execution_count": 20,
   "id": "20d45090-d09d-41ed-b231-4c36f873ca0d",
   "metadata": {},
   "outputs": [
    {
     "data": {
      "text/plain": [
       "[1, 1, 1]"
      ]
     },
     "execution_count": 20,
     "metadata": {},
     "output_type": "execute_result"
    }
   ],
   "source": [
    "[1]*3"
   ]
  },
  {
   "cell_type": "code",
   "execution_count": 21,
   "id": "01ce3df9-1ae5-4aba-9734-3f1e41685ab9",
   "metadata": {},
   "outputs": [
    {
     "data": {
      "text/plain": [
       "True"
      ]
     },
     "execution_count": 21,
     "metadata": {},
     "output_type": "execute_result"
    }
   ],
   "source": [
    "1 in [1,2,3]"
   ]
  },
  {
   "cell_type": "markdown",
   "id": "dcd31e5c-b666-4d78-851c-a39075799c31",
   "metadata": {
    "tags": []
   },
   "source": [
    "### Slicing: to manipulate strings\n",
    "[start_position:end_position]\n",
    "if you omit on of the positions, then you get everything up until end or from the start to the end"
   ]
  },
  {
   "cell_type": "code",
   "execution_count": 22,
   "id": "1590bc40-538c-4e7c-aeaa-46c406257199",
   "metadata": {},
   "outputs": [
    {
     "name": "stdout",
     "output_type": "stream",
     "text": [
      "T\n",
      "T\n",
      "Th\n"
     ]
    }
   ],
   "source": [
    "x = \"This is a string\"\n",
    "print(x[0])\n",
    "print(x[0:1])\n",
    "print(x[0:2])"
   ]
  },
  {
   "cell_type": "markdown",
   "id": "a6420ec9-1d30-4f37-95c7-3326a2ed0948",
   "metadata": {},
   "source": [
    "Negative indexing allows you to work at the end of the string. "
   ]
  },
  {
   "cell_type": "code",
   "execution_count": 23,
   "id": "7cff73cd-6d00-4ad8-b547-9b8b37788c35",
   "metadata": {},
   "outputs": [
    {
     "data": {
      "text/plain": [
       "'g'"
      ]
     },
     "execution_count": 23,
     "metadata": {},
     "output_type": "execute_result"
    }
   ],
   "source": [
    "x[-1]"
   ]
  },
  {
   "cell_type": "markdown",
   "id": "04ca56a1-49cf-4f89-afce-15fc775c8dfb",
   "metadata": {},
   "source": [
    "Fourth last to second last positions"
   ]
  },
  {
   "cell_type": "code",
   "execution_count": 24,
   "id": "fa0b8434-a6b6-41e9-94fc-2ffdc641d622",
   "metadata": {},
   "outputs": [
    {
     "data": {
      "text/plain": [
       "'ri'"
      ]
     },
     "execution_count": 24,
     "metadata": {},
     "output_type": "execute_result"
    }
   ],
   "source": [
    "x[-4:-2]"
   ]
  },
  {
   "cell_type": "code",
   "execution_count": 25,
   "id": "230bea9a-5f71-4ed0-b8b7-208f4c28f49b",
   "metadata": {},
   "outputs": [
    {
     "data": {
      "text/plain": [
       "'Thi'"
      ]
     },
     "execution_count": 25,
     "metadata": {},
     "output_type": "execute_result"
    }
   ],
   "source": [
    "x[:3]"
   ]
  },
  {
   "cell_type": "code",
   "execution_count": 26,
   "id": "92a55121-0863-4a71-a5ac-e1f5d27f6582",
   "metadata": {},
   "outputs": [
    {
     "data": {
      "text/plain": [
       "'s is a string'"
      ]
     },
     "execution_count": 26,
     "metadata": {},
     "output_type": "execute_result"
    }
   ],
   "source": [
    "x[3:]"
   ]
  },
  {
   "cell_type": "code",
   "execution_count": 28,
   "id": "e11afbc9-f95f-42df-835c-f2c3495e722a",
   "metadata": {},
   "outputs": [
    {
     "name": "stdout",
     "output_type": "stream",
     "text": [
      "Stephanie Hoglund\n",
      "StephanieStephanieStephanie\n",
      "True\n"
     ]
    }
   ],
   "source": [
    "firstname=\"Stephanie\"\n",
    "lastname = \"Hoglund\"\n",
    "print(firstname + ' ' + lastname)\n",
    "print(firstname * 3)\n",
    "print(\"Steph\" in firstname)"
   ]
  },
  {
   "cell_type": "code",
   "execution_count": 29,
   "id": "e95ddf4e-4577-4152-89d3-05329ed0a726",
   "metadata": {},
   "outputs": [
    {
     "name": "stdout",
     "output_type": "stream",
     "text": [
      "Stephanie\n",
      "Hoglund\n"
     ]
    }
   ],
   "source": [
    "firstname = \"Stephanie Christine Hoglund\".split()[0]\n",
    "lastname = \"Stephanie Christine Hoglund\".split()[-1]\n",
    "print(firstname)\n",
    "print(lastname)"
   ]
  },
  {
   "cell_type": "markdown",
   "id": "80a592d8-fffe-4c6a-93c3-cab28ac98cb2",
   "metadata": {},
   "source": [
    "## Dictionaries {}\n",
    "Hold collection of items, but labeled collections with no ordering. Need key to extract a value."
   ]
  },
  {
   "cell_type": "code",
   "execution_count": 30,
   "id": "a15a1a0a-7ba5-4096-80d6-b6f87d62f86f",
   "metadata": {},
   "outputs": [
    {
     "data": {
      "text/plain": [
       "'brooksch@umich.edu'"
      ]
     },
     "execution_count": 30,
     "metadata": {},
     "output_type": "execute_result"
    }
   ],
   "source": [
    "x={\"Christopher Brooks\": \"brooksch@umich.edu\", \"Bill Gates\": \"billg@microsoft.com\"}\n",
    "x[\"Christopher Brooks\"]"
   ]
  },
  {
   "cell_type": "code",
   "execution_count": 31,
   "id": "d2819068-eb84-4632-bc5e-7c5658b7ee63",
   "metadata": {},
   "outputs": [],
   "source": [
    "x[\"Stephanie Hoglund\"] = None\n",
    "x[\"Stephanie Hoglund\"]"
   ]
  },
  {
   "cell_type": "code",
   "execution_count": 32,
   "id": "6a7fac6c-1ac6-450e-b892-ab6dd6827596",
   "metadata": {},
   "outputs": [
    {
     "name": "stdout",
     "output_type": "stream",
     "text": [
      "brooksch@umich.edu\n",
      "billg@microsoft.com\n",
      "None\n"
     ]
    }
   ],
   "source": [
    "for name in x:\n",
    "    print(x[name])"
   ]
  },
  {
   "cell_type": "code",
   "execution_count": 34,
   "id": "d87450e5-9dde-4a50-98c5-818d855c6235",
   "metadata": {},
   "outputs": [
    {
     "name": "stdout",
     "output_type": "stream",
     "text": [
      "brooksch@umich.edu\n",
      "billg@microsoft.com\n",
      "None\n"
     ]
    }
   ],
   "source": [
    "for email in x.values():\n",
    "    print(email)"
   ]
  },
  {
   "cell_type": "code",
   "execution_count": 33,
   "id": "f597068c-a66c-4732-8e48-213210ef8060",
   "metadata": {},
   "outputs": [
    {
     "name": "stdout",
     "output_type": "stream",
     "text": [
      "Christopher Brooks\n",
      "brooksch@umich.edu\n",
      "Bill Gates\n",
      "billg@microsoft.com\n",
      "Stephanie Hoglund\n",
      "None\n"
     ]
    }
   ],
   "source": [
    "for name, email in x.items():\n",
    "    print(name)\n",
    "    print(email)"
   ]
  },
  {
   "cell_type": "markdown",
   "id": "a101aa24-9c15-4bd1-9305-e0b444370ea2",
   "metadata": {},
   "source": [
    "Unpacking\n",
    "split out a list or tuple into own variables through assignment"
   ]
  },
  {
   "cell_type": "code",
   "execution_count": 35,
   "id": "ddcf008d-f909-430f-83a1-461aa4b66241",
   "metadata": {},
   "outputs": [],
   "source": [
    "x= (\"Stephanie\", \"Hoglund\", \"shoglund@umich.edu\")\n",
    "fname, lname, email = x"
   ]
  },
  {
   "cell_type": "code",
   "execution_count": 36,
   "id": "68dceca6-aa12-4a6f-9177-50131c02ba5f",
   "metadata": {},
   "outputs": [
    {
     "data": {
      "text/plain": [
       "'Stephanie'"
      ]
     },
     "execution_count": 36,
     "metadata": {},
     "output_type": "execute_result"
    }
   ],
   "source": [
    "fname"
   ]
  },
  {
   "cell_type": "code",
   "execution_count": 37,
   "id": "0abc98a6-6199-456c-a8ad-48f6c5c202a0",
   "metadata": {},
   "outputs": [
    {
     "data": {
      "text/plain": [
       "'Hoglund'"
      ]
     },
     "execution_count": 37,
     "metadata": {},
     "output_type": "execute_result"
    }
   ],
   "source": [
    "lname"
   ]
  },
  {
   "cell_type": "code",
   "execution_count": 38,
   "id": "a30c29fe-3733-4daf-8561-0b43331df1b7",
   "metadata": {},
   "outputs": [
    {
     "ename": "ValueError",
     "evalue": "too many values to unpack (expected 3)",
     "output_type": "error",
     "traceback": [
      "\u001b[0;31m---------------------------------------------------------------------------\u001b[0m",
      "\u001b[0;31mValueError\u001b[0m                                Traceback (most recent call last)",
      "Input \u001b[0;32mIn [38]\u001b[0m, in \u001b[0;36m<cell line: 2>\u001b[0;34m()\u001b[0m\n\u001b[1;32m      1\u001b[0m x\u001b[38;5;241m=\u001b[39m (\u001b[38;5;124m\"\u001b[39m\u001b[38;5;124mStephanie\u001b[39m\u001b[38;5;124m\"\u001b[39m, \u001b[38;5;124m\"\u001b[39m\u001b[38;5;124mHoglund\u001b[39m\u001b[38;5;124m\"\u001b[39m, \u001b[38;5;124m\"\u001b[39m\u001b[38;5;124mshoglund@umich.edu\u001b[39m\u001b[38;5;124m\"\u001b[39m, \u001b[38;5;124m\"\u001b[39m\u001b[38;5;124mAnn Arbor\u001b[39m\u001b[38;5;124m\"\u001b[39m)\n\u001b[0;32m----> 2\u001b[0m fname, lname, email \u001b[38;5;241m=\u001b[39m x\n",
      "\u001b[0;31mValueError\u001b[0m: too many values to unpack (expected 3)"
     ]
    }
   ],
   "source": [
    "x= (\"Stephanie\", \"Hoglund\", \"shoglund@umich.edu\", \"Ann Arbor\")\n",
    "fname, lname, email = x"
   ]
  },
  {
   "cell_type": "markdown",
   "id": "13457965-d940-400f-905a-036082ee484d",
   "metadata": {},
   "source": [
    "# More on Strings"
   ]
  },
  {
   "cell_type": "code",
   "execution_count": 39,
   "id": "16c107c8-f830-483a-a3d1-488dbba452aa",
   "metadata": {},
   "outputs": [
    {
     "ename": "TypeError",
     "evalue": "can only concatenate str (not \"int\") to str",
     "output_type": "error",
     "traceback": [
      "\u001b[0;31m---------------------------------------------------------------------------\u001b[0m",
      "\u001b[0;31mTypeError\u001b[0m                                 Traceback (most recent call last)",
      "Input \u001b[0;32mIn [39]\u001b[0m, in \u001b[0;36m<cell line: 1>\u001b[0;34m()\u001b[0m\n\u001b[0;32m----> 1\u001b[0m \u001b[38;5;28mprint\u001b[39m(\u001b[38;5;124;43m\"\u001b[39;49m\u001b[38;5;124;43mStephanie\u001b[39;49m\u001b[38;5;124;43m\"\u001b[39;49m\u001b[43m \u001b[49m\u001b[38;5;241;43m+\u001b[39;49m\u001b[43m \u001b[49m\u001b[38;5;241;43m2\u001b[39;49m)\n",
      "\u001b[0;31mTypeError\u001b[0m: can only concatenate str (not \"int\") to str"
     ]
    }
   ],
   "source": [
    "print(\"Stephanie\" + 2)"
   ]
  },
  {
   "cell_type": "code",
   "execution_count": 40,
   "id": "c0f68f7f-45b4-4656-a630-a9e69806a028",
   "metadata": {},
   "outputs": [
    {
     "name": "stdout",
     "output_type": "stream",
     "text": [
      "Stephanie2\n"
     ]
    }
   ],
   "source": [
    "print(\"Stephanie\" + str(2))"
   ]
  },
  {
   "cell_type": "markdown",
   "id": "f6a27047-a334-47e4-bc0c-15cf06f09877",
   "metadata": {},
   "source": [
    "Annoying to use str() around a value, so use `str.format()` to insert value of variable into your print function or use `f` strings"
   ]
  },
  {
   "cell_type": "code",
   "execution_count": 42,
   "id": "c0202138-b20a-4438-bbf0-906706595e22",
   "metadata": {},
   "outputs": [
    {
     "name": "stdout",
     "output_type": "stream",
     "text": [
      "Steph bought 4 item(s) at a price of 3.24 each for a total of 12.96\n"
     ]
    }
   ],
   "source": [
    "sales_record = {\"price\": 3.24,\n",
    "                \"num_items\": 4,\n",
    "                'person': 'Steph'}\n",
    "\n",
    "sales_statement = '{} bought {} item(s) at a price of {} each for a total of {}'\n",
    "\n",
    "print(sales_statement.format(sales_record['person'],\n",
    "                             sales_record['num_items'],\n",
    "                             sales_record['price'],\n",
    "                             sales_record['num_items']*sales_record['price']))"
   ]
  },
  {
   "cell_type": "code",
   "execution_count": 44,
   "id": "59b2e671-5d2a-40b2-9676-3ba2625d0f12",
   "metadata": {},
   "outputs": [
    {
     "name": "stdout",
     "output_type": "stream",
     "text": [
      "Steph bought 4 at a price of 3.24 each for a total of 12.96\n"
     ]
    }
   ],
   "source": [
    "print(f\"{sales_record['person']} bought {sales_record['num_items']} at a price of {sales_record['price']} each for a total of {sales_record['price']*sales_record['num_items']}\")"
   ]
  },
  {
   "cell_type": "markdown",
   "id": "64d1237e-9cde-49c4-83f9-1cd8fe1cedf1",
   "metadata": {},
   "source": [
    "# Reading and Writing CSV Files\n",
    "`csv.DictReader()` has the column names as keys. Each records is stored as its own dictionary. DictReader returns a list of dictionaries."
   ]
  },
  {
   "cell_type": "code",
   "execution_count": 56,
   "id": "b692286c-a0aa-4c9e-ac1e-553f992215bd",
   "metadata": {},
   "outputs": [
    {
     "data": {
      "text/plain": [
       "[{'': '1',\n",
       "  'manufacturer': 'audi',\n",
       "  'model': 'a4',\n",
       "  'displ': '1.8',\n",
       "  'year': '1999',\n",
       "  'cyl': '4',\n",
       "  'trans': 'auto(l5)',\n",
       "  'drv': 'f',\n",
       "  'cty': '18',\n",
       "  'hwy': '29',\n",
       "  'fl': 'p',\n",
       "  'class': 'compact'},\n",
       " {'': '2',\n",
       "  'manufacturer': 'audi',\n",
       "  'model': 'a4',\n",
       "  'displ': '1.8',\n",
       "  'year': '1999',\n",
       "  'cyl': '4',\n",
       "  'trans': 'manual(m5)',\n",
       "  'drv': 'f',\n",
       "  'cty': '21',\n",
       "  'hwy': '29',\n",
       "  'fl': 'p',\n",
       "  'class': 'compact'},\n",
       " {'': '3',\n",
       "  'manufacturer': 'audi',\n",
       "  'model': 'a4',\n",
       "  'displ': '2',\n",
       "  'year': '2008',\n",
       "  'cyl': '4',\n",
       "  'trans': 'manual(m6)',\n",
       "  'drv': 'f',\n",
       "  'cty': '20',\n",
       "  'hwy': '31',\n",
       "  'fl': 'p',\n",
       "  'class': 'compact'}]"
      ]
     },
     "execution_count": 56,
     "metadata": {},
     "output_type": "execute_result"
    }
   ],
   "source": [
    "import csv\n",
    "\n",
    "%precision 2\n",
    "\n",
    "with open('datasets/mpg.csv') as csvfile:\n",
    "    mpg = list(csv.DictReader(csvfile))\n",
    "    \n",
    "mpg[:3]"
   ]
  },
  {
   "cell_type": "code",
   "execution_count": 50,
   "id": "55f1c6ce-8d4f-47ed-adf5-49812a46ae31",
   "metadata": {},
   "outputs": [
    {
     "data": {
      "text/plain": [
       "234"
      ]
     },
     "execution_count": 50,
     "metadata": {},
     "output_type": "execute_result"
    }
   ],
   "source": [
    "len(mpg)"
   ]
  },
  {
   "cell_type": "markdown",
   "id": "09c9c43e-1eda-4a05-9c84-e7c500c9cc3e",
   "metadata": {},
   "source": [
    "Column names:"
   ]
  },
  {
   "cell_type": "code",
   "execution_count": 51,
   "id": "0620afed-9fe1-4372-90f4-d30b09e9c553",
   "metadata": {},
   "outputs": [
    {
     "data": {
      "text/plain": [
       "dict_keys(['', 'manufacturer', 'model', 'displ', 'year', 'cyl', 'trans', 'drv', 'cty', 'hwy', 'fl', 'class'])"
      ]
     },
     "execution_count": 51,
     "metadata": {},
     "output_type": "execute_result"
    }
   ],
   "source": [
    "mpg[0].keys()"
   ]
  },
  {
   "cell_type": "markdown",
   "id": "c2e5f666-09e7-4d08-9875-cff5cd23066c",
   "metadata": {},
   "source": [
    "Find the average City mpg across all cars. All values are read in as `str` so need `float()` to convert to numeric float to do math."
   ]
  },
  {
   "cell_type": "code",
   "execution_count": 57,
   "id": "b105753a-b535-4c48-98f5-c074895bfbfd",
   "metadata": {},
   "outputs": [
    {
     "data": {
      "text/plain": [
       "16.86"
      ]
     },
     "execution_count": 57,
     "metadata": {},
     "output_type": "execute_result"
    }
   ],
   "source": [
    "sum(float(d['cty']) for d in mpg) / len(mpg)"
   ]
  },
  {
   "cell_type": "code",
   "execution_count": 58,
   "id": "7b409d6d-eff0-424b-ad4e-5fd5689472fb",
   "metadata": {},
   "outputs": [
    {
     "data": {
      "text/plain": [
       "23.44"
      ]
     },
     "execution_count": 58,
     "metadata": {},
     "output_type": "execute_result"
    }
   ],
   "source": [
    "sum(float(d['hwy']) for d in mpg) / len(mpg)"
   ]
  },
  {
   "cell_type": "markdown",
   "id": "53d5f49b-2bf5-422f-936b-10bd1ff3584b",
   "metadata": {},
   "source": [
    "What's average city mpg grouped by car cylinder?"
   ]
  },
  {
   "cell_type": "code",
   "execution_count": 59,
   "id": "c9764e7b-f35b-484e-a156-8449c540954d",
   "metadata": {},
   "outputs": [
    {
     "data": {
      "text/plain": [
       "{'4', '5', '6', '8'}"
      ]
     },
     "execution_count": 59,
     "metadata": {},
     "output_type": "execute_result"
    }
   ],
   "source": [
    "cylinders = set(d['cyl'] for d in mpg)\n",
    "cylinders"
   ]
  },
  {
   "cell_type": "code",
   "execution_count": 61,
   "id": "95617e0c-6996-40c7-957f-930480a1b1be",
   "metadata": {},
   "outputs": [
    {
     "data": {
      "text/plain": [
       "[('4', 21.01), ('5', 20.50), ('6', 16.22), ('8', 12.57)]"
      ]
     },
     "execution_count": 61,
     "metadata": {},
     "output_type": "execute_result"
    }
   ],
   "source": [
    "CtyMpgByCyl = [] # store calculations\n",
    "\n",
    "# iterate through each cylinder type\n",
    "for c in cylinders:\n",
    "    summpg = 0\n",
    "    # iterate through each dictionary for that cylinder\n",
    "    cyltypecount = 0\n",
    "    for d in mpg:\n",
    "        if d['cyl'] == c:\n",
    "            summpg += float(d['cty'])\n",
    "            cyltypecount += 1\n",
    "    CtyMpgByCyl.append((c, summpg/cyltypecount))\n",
    "\n",
    "CtyMpgByCyl.sort(key=lambda x: x[0])\n",
    "CtyMpgByCyl    "
   ]
  },
  {
   "cell_type": "markdown",
   "id": "10c3bd72-cd4b-481f-9223-b52f3c898393",
   "metadata": {},
   "source": [
    "The City fuel economy level decreases as you increase the number of cylinders."
   ]
  },
  {
   "cell_type": "markdown",
   "id": "736c6a50-13bf-4f08-af24-fd9752e878f1",
   "metadata": {},
   "source": [
    "Find average Highway MPG for different vehicle classes."
   ]
  },
  {
   "cell_type": "code",
   "execution_count": 65,
   "id": "04a1cde8-959b-4d46-8abc-102c83dc7771",
   "metadata": {},
   "outputs": [
    {
     "data": {
      "text/plain": [
       "{'2seater', 'compact', 'midsize', 'minivan', 'pickup', 'subcompact', 'suv'}"
      ]
     },
     "execution_count": 65,
     "metadata": {},
     "output_type": "execute_result"
    }
   ],
   "source": [
    "vehicleClass = set(d['class'] for d in mpg)\n",
    "vehicleClass"
   ]
  },
  {
   "cell_type": "code",
   "execution_count": 67,
   "id": "3853bd9f-7172-4615-ae36-32bb309413cd",
   "metadata": {},
   "outputs": [
    {
     "data": {
      "text/plain": [
       "[('compact', 28.30),\n",
       " ('subcompact', 28.14),\n",
       " ('midsize', 27.29),\n",
       " ('2seater', 24.80),\n",
       " ('minivan', 22.36),\n",
       " ('suv', 18.13),\n",
       " ('pickup', 16.88)]"
      ]
     },
     "execution_count": 67,
     "metadata": {},
     "output_type": "execute_result"
    }
   ],
   "source": [
    "HwyMpgByClass = []\n",
    "\n",
    "# iterate through all vehicle classes\n",
    "for t in vehicleClass:\n",
    "    summpg = 0\n",
    "    vclasscount = 0\n",
    "    for d in mpg:\n",
    "        if d['class'] == t:\n",
    "            summpg += float(d['hwy'])\n",
    "            vclasscount += 1\n",
    "    HwyMpgByClass.append((t, summpg/vclasscount)) # perform average calculation and add to list\n",
    "    \n",
    "HwyMpgByClass.sort(key = lambda x: x[1], reverse=True)\n",
    "HwyMpgByClass\n",
    "    "
   ]
  },
  {
   "cell_type": "markdown",
   "id": "7fc98f4f-afe9-49f5-919a-1448ba3c95ab",
   "metadata": {},
   "source": [
    "Pickup has the worst highway fuel economy and the compact has the best."
   ]
  },
  {
   "cell_type": "markdown",
   "id": "a2a02475-c859-4e7a-a22a-e37474a887c7",
   "metadata": {},
   "source": [
    "This may have been an inefficient way of calculating averages by groups because we have not explored Pandas and NumPy libraries yet."
   ]
  },
  {
   "cell_type": "markdown",
   "id": "3f5a7065-558f-4c5a-a33f-8392b7342c4e",
   "metadata": {},
   "source": [
    "# Python Dates and Times\n",
    "Jan 1, 1970 = systems use this as the baseline for dates"
   ]
  },
  {
   "cell_type": "code",
   "execution_count": 68,
   "id": "338d3759-c0fc-4359-82ad-f617dd9b7328",
   "metadata": {},
   "outputs": [],
   "source": [
    "import datetime as dt\n",
    "import time as tm"
   ]
  },
  {
   "cell_type": "code",
   "execution_count": 69,
   "id": "26e2d32c-b0ed-49cb-9bc5-ce931ae49234",
   "metadata": {},
   "outputs": [
    {
     "data": {
      "text/plain": [
       "1686511360.34"
      ]
     },
     "execution_count": 69,
     "metadata": {},
     "output_type": "execute_result"
    }
   ],
   "source": [
    "tm.time()"
   ]
  },
  {
   "cell_type": "code",
   "execution_count": 71,
   "id": "48416947-75d1-4124-8e8d-04df467ab16e",
   "metadata": {},
   "outputs": [
    {
     "data": {
      "text/plain": [
       "datetime.datetime(2023, 6, 11, 19, 23, 8, 500731)"
      ]
     },
     "execution_count": 71,
     "metadata": {},
     "output_type": "execute_result"
    }
   ],
   "source": [
    "dtnow = dt.datetime.fromtimestamp(tm.time())\n",
    "dtnow"
   ]
  },
  {
   "cell_type": "code",
   "execution_count": 72,
   "id": "990420d7-b916-4616-9e2e-111128c997c1",
   "metadata": {},
   "outputs": [
    {
     "data": {
      "text/plain": [
       "(2023, 6, 11, 19, 23, 8)"
      ]
     },
     "execution_count": 72,
     "metadata": {},
     "output_type": "execute_result"
    }
   ],
   "source": [
    "dtnow.year, dtnow.month, dtnow.day, dtnow.hour, dtnow.minute, dtnow.second"
   ]
  },
  {
   "cell_type": "markdown",
   "id": "c7fe91f7-e5c1-44cc-9367-10217a205791",
   "metadata": {},
   "source": [
    "Time Difference"
   ]
  },
  {
   "cell_type": "code",
   "execution_count": 73,
   "id": "caa4dd45-75ec-4bbe-8d63-7c3f96940fc3",
   "metadata": {},
   "outputs": [
    {
     "data": {
      "text/plain": [
       "datetime.timedelta(days=100)"
      ]
     },
     "execution_count": 73,
     "metadata": {},
     "output_type": "execute_result"
    }
   ],
   "source": [
    "delta = dt.timedelta(days = 100)\n",
    "delta"
   ]
  },
  {
   "cell_type": "code",
   "execution_count": 74,
   "id": "e2fd74d6-5ffc-4543-b953-461d9d5897bf",
   "metadata": {},
   "outputs": [],
   "source": [
    "today = dt.date.today()"
   ]
  },
  {
   "cell_type": "code",
   "execution_count": 75,
   "id": "343197fa-5139-4890-957d-2b06012e6e7f",
   "metadata": {},
   "outputs": [
    {
     "data": {
      "text/plain": [
       "datetime.date(2023, 3, 3)"
      ]
     },
     "execution_count": 75,
     "metadata": {},
     "output_type": "execute_result"
    }
   ],
   "source": [
    "today-delta"
   ]
  },
  {
   "cell_type": "code",
   "execution_count": 76,
   "id": "41c35365-576f-4972-85c4-edcf55acef4c",
   "metadata": {},
   "outputs": [
    {
     "data": {
      "text/plain": [
       "True"
      ]
     },
     "execution_count": 76,
     "metadata": {},
     "output_type": "execute_result"
    }
   ],
   "source": [
    "today > today-delta"
   ]
  },
  {
   "cell_type": "markdown",
   "id": "6d37601d-c822-4e0e-bef7-4c8b5d747d76",
   "metadata": {},
   "source": [
    "# Advanced Python: Objects and map()"
   ]
  },
  {
   "cell_type": "markdown",
   "id": "96b60221-ce36-4a68-a6c5-6495b9821dfb",
   "metadata": {},
   "source": [
    "## Classes"
   ]
  },
  {
   "cell_type": "code",
   "execution_count": 78,
   "id": "9446be79-a7fa-40ce-9ed1-b0a102d87c49",
   "metadata": {},
   "outputs": [],
   "source": [
    "class Person:\n",
    "    department = \"College of Engineering\" # default\n",
    "    \n",
    "    def set_name(self, new_name):\n",
    "        self.name = new_name\n",
    "    def set_location(self, new_location):\n",
    "        self.location = new_location"
   ]
  },
  {
   "cell_type": "code",
   "execution_count": 80,
   "id": "42e722f6-78bd-4a46-b3b0-95b1e77cc5cb",
   "metadata": {},
   "outputs": [
    {
     "name": "stdout",
     "output_type": "stream",
     "text": [
      "Stephanie Hoglund lives in Ann Arbor, MI, USA and works in the department College of Engineering\n"
     ]
    }
   ],
   "source": [
    "person = Person()\n",
    "person.set_name(\"Stephanie Hoglund\")\n",
    "person.set_location(\"Ann Arbor, MI, USA\")\n",
    "print(f\"{person.name} lives in {person.location} and works in the department {person.department}\")"
   ]
  },
  {
   "cell_type": "markdown",
   "id": "3fdc13a8-4063-43ec-9164-18362218685a",
   "metadata": {},
   "source": [
    "## map()\n",
    "Functional programming where you explicitly define all parameters that can change through execution. Referred to as 'side-effect-free.' Allows you to chain functions together.\n",
    "`map(function, iterable, ...)`: returns an iterator that applies `function` to every item in `iterable`, yielding the results."
   ]
  },
  {
   "cell_type": "markdown",
   "id": "54e3e83c-d0a2-4d91-b845-d68e05d13b0d",
   "metadata": {},
   "source": [
    "Find which store has the cheapest price for each of the 4 items."
   ]
  },
  {
   "cell_type": "code",
   "execution_count": 81,
   "id": "2f8452e9-c04b-46e7-9d92-de04bc914f5f",
   "metadata": {},
   "outputs": [
    {
     "data": {
      "text/plain": [
       "<map at 0x7f4d3ac2e7c0>"
      ]
     },
     "execution_count": 81,
     "metadata": {},
     "output_type": "execute_result"
    }
   ],
   "source": [
    "store1 = [10.00, 11.00, 12.34, 2.34]\n",
    "store2 = [9.00, 11.10, 12.34, 2.01]\n",
    "cheapest = map(min, store1, store2)\n",
    "cheapest"
   ]
  },
  {
   "cell_type": "code",
   "execution_count": 82,
   "id": "b0ee6275-f5a2-46d6-87ce-7af739758211",
   "metadata": {},
   "outputs": [
    {
     "data": {
      "text/plain": [
       "['Dr. Brooks', 'Dr. Collins-Thompson', 'Dr. Vydiswaran', 'Dr. Romero']"
      ]
     },
     "execution_count": 82,
     "metadata": {},
     "output_type": "execute_result"
    }
   ],
   "source": [
    "people = [\"Dr. Christopher Brooks\", \"Dr. Kevyn Collins-Thompson\", \"Dr. VG Vinod Vydiswaran\", \"Dr. Daniel Romero\"]\n",
    "\n",
    "def split_title_and_name(person):\n",
    "    return f\"{person.split()[0]} {person.split()[-1]}\"\n",
    "\n",
    "list(map(split_title_and_name, people))"
   ]
  },
  {
   "cell_type": "markdown",
   "id": "dac681c6-9436-4bae-be9d-14f2247118f7",
   "metadata": {},
   "source": [
    "# Lambda and List Comprehensions\n",
    "## Lambda\n",
    "returns a function reference; limited to single expression so can't have anything too complex; useful for simple data cleaning"
   ]
  },
  {
   "cell_type": "code",
   "execution_count": 83,
   "id": "63f02810-158f-47df-8513-c0db1d838370",
   "metadata": {},
   "outputs": [],
   "source": [
    "my_function = lambda a, b, c: a + b"
   ]
  },
  {
   "cell_type": "code",
   "execution_count": 84,
   "id": "4c1f33f2-e2a9-419b-be20-917dd01f00c9",
   "metadata": {},
   "outputs": [
    {
     "data": {
      "text/plain": [
       "3"
      ]
     },
     "execution_count": 84,
     "metadata": {},
     "output_type": "execute_result"
    }
   ],
   "source": [
    "my_function(1,2,3)"
   ]
  },
  {
   "cell_type": "code",
   "execution_count": 88,
   "id": "c369bd4d-cbb0-4d20-a126-2edf832bccf8",
   "metadata": {},
   "outputs": [
    {
     "name": "stdout",
     "output_type": "stream",
     "text": [
      "True\n",
      "True\n",
      "True\n",
      "True\n"
     ]
    },
    {
     "data": {
      "text/plain": [
       "True"
      ]
     },
     "execution_count": 88,
     "metadata": {},
     "output_type": "execute_result"
    }
   ],
   "source": [
    "people = [\"Dr. Christopher Brooks\", \"Dr. Kevyn Collins-Thompson\", \"Dr. VG Vinod Vydiswaran\", \"Dr. Daniel Romero\"]\n",
    "\n",
    "def split_title_and_name(person):\n",
    "    return person.split()[0] + \" \" + person.split()[-1]\n",
    "\n",
    "# option 1\n",
    "for person in people:\n",
    "    print(split_title_and_name(person) == (lambda x: x.split()[0] + \" \" + x.split()[-1])(person))\n",
    "    \n",
    "# option 2\n",
    "list(map(split_title_and_name, people)) == list(map(lambda person: person.split()[0] + \" \" + person.split()[-1], people))"
   ]
  },
  {
   "cell_type": "markdown",
   "id": "37f1d3b8-38bd-4877-bd2f-4d001b0c0474",
   "metadata": {},
   "source": [
    "## List Comprehension\n",
    "put function in one line instead of intializing an empty list and then doing `for` loop\n",
    "\n",
    "Old Way:"
   ]
  },
  {
   "cell_type": "code",
   "execution_count": 91,
   "id": "d78bcfc7-4816-4c0f-a217-5d6649b2833f",
   "metadata": {},
   "outputs": [
    {
     "data": {
      "text/plain": [
       "[0,\n",
       " 2,\n",
       " 4,\n",
       " 6,\n",
       " 8,\n",
       " 10,\n",
       " 12,\n",
       " 14,\n",
       " 16,\n",
       " 18,\n",
       " 20,\n",
       " 22,\n",
       " 24,\n",
       " 26,\n",
       " 28,\n",
       " 30,\n",
       " 32,\n",
       " 34,\n",
       " 36,\n",
       " 38,\n",
       " 40,\n",
       " 42,\n",
       " 44,\n",
       " 46,\n",
       " 48,\n",
       " 50,\n",
       " 52,\n",
       " 54,\n",
       " 56,\n",
       " 58,\n",
       " 60,\n",
       " 62,\n",
       " 64,\n",
       " 66,\n",
       " 68,\n",
       " 70,\n",
       " 72,\n",
       " 74,\n",
       " 76,\n",
       " 78,\n",
       " 80,\n",
       " 82,\n",
       " 84,\n",
       " 86,\n",
       " 88,\n",
       " 90,\n",
       " 92,\n",
       " 94,\n",
       " 96,\n",
       " 98]"
      ]
     },
     "execution_count": 91,
     "metadata": {},
     "output_type": "execute_result"
    }
   ],
   "source": [
    "my_list = []\n",
    "for number in range(0,100):\n",
    "    if number % 2 == 0: # an even number\n",
    "        my_list.append(number)\n",
    "        \n",
    "my_list"
   ]
  },
  {
   "cell_type": "code",
   "execution_count": 92,
   "id": "2eb0d1cb-3123-44e8-bd1e-d797f2c0eb92",
   "metadata": {},
   "outputs": [
    {
     "data": {
      "text/plain": [
       "[0,\n",
       " 2,\n",
       " 4,\n",
       " 6,\n",
       " 8,\n",
       " 10,\n",
       " 12,\n",
       " 14,\n",
       " 16,\n",
       " 18,\n",
       " 20,\n",
       " 22,\n",
       " 24,\n",
       " 26,\n",
       " 28,\n",
       " 30,\n",
       " 32,\n",
       " 34,\n",
       " 36,\n",
       " 38,\n",
       " 40,\n",
       " 42,\n",
       " 44,\n",
       " 46,\n",
       " 48,\n",
       " 50,\n",
       " 52,\n",
       " 54,\n",
       " 56,\n",
       " 58,\n",
       " 60,\n",
       " 62,\n",
       " 64,\n",
       " 66,\n",
       " 68,\n",
       " 70,\n",
       " 72,\n",
       " 74,\n",
       " 76,\n",
       " 78,\n",
       " 80,\n",
       " 82,\n",
       " 84,\n",
       " 86,\n",
       " 88,\n",
       " 90,\n",
       " 92,\n",
       " 94,\n",
       " 96,\n",
       " 98]"
      ]
     },
     "execution_count": 92,
     "metadata": {},
     "output_type": "execute_result"
    }
   ],
   "source": [
    "# New Way\n",
    "my_list = [number for number in range(0,100) if number % 2 == 0]\n",
    "my_list"
   ]
  },
  {
   "cell_type": "code",
   "execution_count": 99,
   "id": "261cdf40-fcbe-409f-b63b-f9aeaeb50cc5",
   "metadata": {},
   "outputs": [
    {
     "data": {
      "text/plain": [
       "['aa00', 'aa01', 'aa02', 'aa03', 'aa04']"
      ]
     },
     "execution_count": 99,
     "metadata": {},
     "output_type": "execute_result"
    }
   ],
   "source": [
    "lowercase = \"abcdefghijklmnopqrstuvwxyz\"\n",
    "digits = '0123456789'\n",
    "\n",
    "answer = [letter1 + letter2 + num1 + num2 for letter1 in lowercase for letter2 in lowercase for num1 in digits for num2 in digits]\n",
    "answer[:5]"
   ]
  },
  {
   "cell_type": "code",
   "execution_count": 102,
   "id": "736117c9-a79c-4d92-b939-84f36c26412a",
   "metadata": {},
   "outputs": [
    {
     "data": {
      "text/plain": [
       "True"
      ]
     },
     "execution_count": 102,
     "metadata": {},
     "output_type": "execute_result"
    }
   ],
   "source": [
    "# Their solution\n",
    "def times_tables():\n",
    "    lst = []\n",
    "    for i in range(10):\n",
    "        for j in range(10):\n",
    "            lst.append(i*j)\n",
    "    return lst\n",
    "\n",
    "times_tables() == [j*i for i in range(10) for j in range(10)]"
   ]
  },
  {
   "cell_type": "code",
   "execution_count": null,
   "id": "9ff047d7-0349-4c06-8ac7-7b2a33fe6d39",
   "metadata": {},
   "outputs": [],
   "source": []
  }
 ],
 "metadata": {
  "kernelspec": {
   "display_name": "Python 3 (ipykernel)",
   "language": "python",
   "name": "python3"
  },
  "language_info": {
   "codemirror_mode": {
    "name": "ipython",
    "version": 3
   },
   "file_extension": ".py",
   "mimetype": "text/x-python",
   "name": "python",
   "nbconvert_exporter": "python",
   "pygments_lexer": "ipython3",
   "version": "3.8.10"
  }
 },
 "nbformat": 4,
 "nbformat_minor": 5
}
