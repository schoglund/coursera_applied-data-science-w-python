{
 "cells": [
  {
   "cell_type": "markdown",
   "id": "b94e1999-c3ec-4568-8fd7-316ba1e2555e",
   "metadata": {},
   "source": [
    "# Intro to Pandas with Series\n",
    "**Series**: cross between a list and dictionary, where the first column is the index and second is your actual data. Data column has its own label and can be accessed by `.names` attribute."
   ]
  },
  {
   "cell_type": "code",
   "execution_count": 1,
   "id": "9924a09b-defc-4d91-a083-97b07f0add79",
   "metadata": {},
   "outputs": [
    {
     "data": {
      "text/plain": [
       "0    Alice\n",
       "1     Jack\n",
       "2    Molly\n",
       "dtype: object"
      ]
     },
     "execution_count": 1,
     "metadata": {},
     "output_type": "execute_result"
    }
   ],
   "source": [
    "import pandas as pd\n",
    "\n",
    "# initialize series with array-like object\n",
    "\n",
    "students = ['Alice', 'Jack', 'Molly']\n",
    "\n",
    "pd.Series(students) # default data type is object"
   ]
  },
  {
   "cell_type": "markdown",
   "id": "20a16bcb-3735-4a46-acfc-240acb142b92",
   "metadata": {},
   "source": [
    "Pandas stores `Series` values in a typed array using the Numpy library."
   ]
  },
  {
   "cell_type": "code",
   "execution_count": 3,
   "id": "bbeacf15-9eb1-4d88-9f50-52ffc41ef324",
   "metadata": {},
   "outputs": [
    {
     "data": {
      "text/plain": [
       "0    1\n",
       "1    2\n",
       "2    3\n",
       "dtype: int64"
      ]
     },
     "execution_count": 3,
     "metadata": {},
     "output_type": "execute_result"
    }
   ],
   "source": [
    "numbers = [1,2,3]\n",
    "pd.Series(numbers)"
   ]
  },
  {
   "cell_type": "markdown",
   "id": "7b1684f7-c72a-44ae-b546-94f79bd5eedc",
   "metadata": {},
   "source": [
    "## Missing Data\n",
    "Python uses None type to indicate a lack of data. Pandas does some type conversion where the one element is None type but uses type obkect for the underlying array."
   ]
  },
  {
   "cell_type": "code",
   "execution_count": 4,
   "id": "95e58f7f-11ff-4e00-a91c-762ca6c514a4",
   "metadata": {},
   "outputs": [
    {
     "data": {
      "text/plain": [
       "0    Alice\n",
       "1     Jack\n",
       "2     None\n",
       "dtype: object"
      ]
     },
     "execution_count": 4,
     "metadata": {},
     "output_type": "execute_result"
    }
   ],
   "source": [
    "students = ['Alice', 'Jack', None]\n",
    "\n",
    "pd.Series(students)"
   ]
  },
  {
   "cell_type": "markdown",
   "id": "91679370-b6cd-4047-8cd1-eea1be5e006f",
   "metadata": {},
   "source": [
    "Pandas converts a None in a list of integer/floats/numbers as a `NaN`"
   ]
  },
  {
   "cell_type": "code",
   "execution_count": 5,
   "id": "70f67129-2933-4828-80b2-45d6c7b102e0",
   "metadata": {},
   "outputs": [
    {
     "data": {
      "text/plain": [
       "0    1.0\n",
       "1    2.0\n",
       "2    NaN\n",
       "dtype: float64"
      ]
     },
     "execution_count": 5,
     "metadata": {},
     "output_type": "execute_result"
    }
   ],
   "source": [
    "numbers = [1,2,None]\n",
    "\n",
    "pd.Series(numbers)"
   ]
  },
  {
   "cell_type": "markdown",
   "id": "0947ee91-fb85-4c74-827d-3359fd506bfc",
   "metadata": {},
   "source": [
    "Converted to float not int because Pandas represents `NaN` as a floating point number and integers can be typecast to floats, so Pandas just converts integers to floats. Helpful when you have a list of integers and it gets typecast as float, you know you have missing data.\n",
    "\n",
    "However, `NaN` != `None` when you're checking for missing data:"
   ]
  },
  {
   "cell_type": "code",
   "execution_count": 6,
   "id": "ac975c41-f163-475c-97f6-9f71f3422a59",
   "metadata": {},
   "outputs": [
    {
     "data": {
      "text/plain": [
       "False"
      ]
     },
     "execution_count": 6,
     "metadata": {},
     "output_type": "execute_result"
    }
   ],
   "source": [
    "import numpy as np\n",
    "\n",
    "np.nan == None"
   ]
  },
  {
   "cell_type": "markdown",
   "id": "b0e44dea-dc62-45f6-8f5a-1a6ed8056b6a",
   "metadata": {},
   "source": [
    "... you can't even do an equality test of `NaN` to itself."
   ]
  },
  {
   "cell_type": "code",
   "execution_count": 7,
   "id": "06b4aa49-932c-4752-b2f4-9d67c737335d",
   "metadata": {},
   "outputs": [
    {
     "data": {
      "text/plain": [
       "False"
      ]
     },
     "execution_count": 7,
     "metadata": {},
     "output_type": "execute_result"
    }
   ],
   "source": [
    "np.nan == np.nan"
   ]
  },
  {
   "cell_type": "markdown",
   "id": "e18598c6-1aa1-426d-94be-ea55ff10b4d5",
   "metadata": {},
   "source": [
    "Therefore, you need to use special functions to check for the presence of not a number:"
   ]
  },
  {
   "cell_type": "code",
   "execution_count": 8,
   "id": "c211f52f-df6e-4905-b0f5-2ffba56d06b7",
   "metadata": {},
   "outputs": [
    {
     "data": {
      "text/plain": [
       "True"
      ]
     },
     "execution_count": 8,
     "metadata": {},
     "output_type": "execute_result"
    }
   ],
   "source": [
    "np.isnan(np.nan)"
   ]
  },
  {
   "cell_type": "markdown",
   "id": "3e02edad-2b4c-48b5-9e5a-e3c4b8fdb432",
   "metadata": {},
   "source": [
    "All in all, `NaN`'s meaning is similar to `None`, but it's a numeric value and treated differently for efficiency reasons.\n",
    "\n",
    "## How else can Series be created?\n",
    "From dictionary data if have label data. The index of `Series` is automatically assigned to the dictionary keys"
   ]
  },
  {
   "cell_type": "code",
   "execution_count": 9,
   "id": "f2a53c29-fa36-4dec-ae40-dee3963a4fc3",
   "metadata": {},
   "outputs": [
    {
     "data": {
      "text/plain": [
       "Alice      Physics\n",
       "Jack     Chemistry\n",
       "Molly      English\n",
       "dtype: object"
      ]
     },
     "execution_count": 9,
     "metadata": {},
     "output_type": "execute_result"
    }
   ],
   "source": [
    "students_scores = {'Alice': 'Physics',\n",
    "                   'Jack': 'Chemistry',\n",
    "                   'Molly': 'English'}\n",
    "s = pd.Series(students_scores)\n",
    "s"
   ]
  },
  {
   "cell_type": "markdown",
   "id": "0f9ba63d-1ee1-4103-a5fc-ab244ce903bb",
   "metadata": {},
   "source": [
    "Pandas sets string data to 'object'.\n",
    "\n",
    "Once series has been created, get the index using `.index` attribute:"
   ]
  },
  {
   "cell_type": "code",
   "execution_count": 10,
   "id": "a2dfe461-7e9b-4c1d-b26a-ff80499e1538",
   "metadata": {},
   "outputs": [
    {
     "data": {
      "text/plain": [
       "Index(['Alice', 'Jack', 'Molly'], dtype='object')"
      ]
     },
     "execution_count": 10,
     "metadata": {},
     "output_type": "execute_result"
    }
   ],
   "source": [
    "s.index"
   ]
  },
  {
   "cell_type": "markdown",
   "id": "ba83c3d3-c772-49a5-b291-6693d5baa85d",
   "metadata": {},
   "source": [
    "## Object `dtype`\n",
    "Not just for strings but also for arbitrary objects, like a list of tuples."
   ]
  },
  {
   "cell_type": "code",
   "execution_count": 11,
   "id": "1dfa8103-25a8-4fad-b40c-3827c5f5092e",
   "metadata": {},
   "outputs": [
    {
     "data": {
      "text/plain": [
       "0    (Alice, Brown)\n",
       "1     (Jack, White)\n",
       "2    (Molly, Green)\n",
       "dtype: object"
      ]
     },
     "execution_count": 11,
     "metadata": {},
     "output_type": "execute_result"
    }
   ],
   "source": [
    "students = [('Alice', 'Brown'), ('Jack', 'White'), ('Molly', 'Green')]\n",
    "pd.Series(students)"
   ]
  },
  {
   "cell_type": "markdown",
   "id": "081705c4-f140-4036-9f0d-af517d343a6c",
   "metadata": {},
   "source": [
    "## Automatic Index Creation\n",
    "Separate index creation from data by passing in a list explicitly:"
   ]
  },
  {
   "cell_type": "code",
   "execution_count": 12,
   "id": "b30a1d05-0b15-43aa-b924-681c055daa08",
   "metadata": {},
   "outputs": [
    {
     "data": {
      "text/plain": [
       "Alice      Physics\n",
       "Jack     Chemistry\n",
       "Molly      English\n",
       "dtype: object"
      ]
     },
     "execution_count": 12,
     "metadata": {},
     "output_type": "execute_result"
    }
   ],
   "source": [
    "s = pd.Series(['Physics', 'Chemistry', 'English'], index = ['Alice', 'Jack', 'Molly'])\n",
    "s"
   ]
  },
  {
   "cell_type": "markdown",
   "id": "fdf70fe6-b41d-4726-b8bd-7168a67128d3",
   "metadata": {},
   "source": [
    "Pandas overrides automatic creation to favor only and all of the indices values you provide with dictionary keys. Pandas will ignore from your dictionary all keys which are not in your index, and add `None` or `NaN` type valyes for any index value you provide, which is not in your dictionary key list."
   ]
  },
  {
   "cell_type": "code",
   "execution_count": 14,
   "id": "63959f2d-eea3-42ff-b90a-02dde5db1809",
   "metadata": {},
   "outputs": [
    {
     "data": {
      "text/plain": [
       "Alice    Physics\n",
       "Molly    English\n",
       "Sam          NaN\n",
       "dtype: object"
      ]
     },
     "execution_count": 14,
     "metadata": {},
     "output_type": "execute_result"
    }
   ],
   "source": [
    "students_scores = {'Alice': 'Physics',\n",
    "                   'Jack': 'Chemistry',\n",
    "                   'Molly': 'English'}\n",
    "\n",
    "s = pd.Series(students_scores, index = ['Alice', 'Molly', 'Sam'])\n",
    "s"
   ]
  },
  {
   "cell_type": "markdown",
   "id": "d52b5faa-8d52-4ffb-83e0-bc34deb74eb6",
   "metadata": {},
   "source": [
    "## Querying a Series\n",
    "Query either by index position using `.iloc` or index label using `.loc`. If an index is not provided to the series when querying, the position and label are the same values."
   ]
  },
  {
   "cell_type": "markdown",
   "id": "ef62a2fa-46d5-4c8b-a30b-93a4aea96d00",
   "metadata": {},
   "source": [
    "### Query by Position"
   ]
  },
  {
   "cell_type": "code",
   "execution_count": 15,
   "id": "aaa643ea-4b7e-4100-ab3d-1537a14c28c8",
   "metadata": {},
   "outputs": [],
   "source": [
    "import pandas as pd\n"
   ]
  },
  {
   "cell_type": "code",
   "execution_count": 41,
   "id": "0394702f-89b8-43c1-9976-e35d3ebc720b",
   "metadata": {},
   "outputs": [
    {
     "data": {
      "text/plain": [
       "Alice      Physics\n",
       "Jack     Chemistry\n",
       "Molly      English\n",
       "Sam        History\n",
       "dtype: object"
      ]
     },
     "execution_count": 41,
     "metadata": {},
     "output_type": "execute_result"
    }
   ],
   "source": [
    "students_classes = {'Alice': 'Physics',\n",
    "                   'Jack': 'Chemistry',\n",
    "                   'Molly': 'English',\n",
    "                   'Sam': 'History'}\n",
    "\n",
    "s = pd.Series(students_classes)\n",
    "s"
   ]
  },
  {
   "cell_type": "code",
   "execution_count": 17,
   "id": "af51427c-66a4-467d-98e2-adf227be9911",
   "metadata": {},
   "outputs": [
    {
     "data": {
      "text/plain": [
       "'History'"
      ]
     },
     "execution_count": 17,
     "metadata": {},
     "output_type": "execute_result"
    }
   ],
   "source": [
    "s.iloc[3]"
   ]
  },
  {
   "cell_type": "markdown",
   "id": "76576c3f-625f-4fc8-ba38-7671a32939ee",
   "metadata": {},
   "source": [
    "### Query by Label"
   ]
  },
  {
   "cell_type": "code",
   "execution_count": 18,
   "id": "ef8c1bd2-21a3-4011-9285-0aa7c5c4df19",
   "metadata": {},
   "outputs": [
    {
     "data": {
      "text/plain": [
       "'English'"
      ]
     },
     "execution_count": 18,
     "metadata": {},
     "output_type": "execute_result"
    }
   ],
   "source": [
    "s.loc['Molly']"
   ]
  },
  {
   "cell_type": "markdown",
   "id": "0201b70b-8cc2-404c-96e0-fac79dcbf721",
   "metadata": {},
   "source": [
    "### Smart Syntax using Index Operator Directly\n",
    "If you pass in an **integer** parameter to `[]`, the operator will act like the `.iloc` attribute:"
   ]
  },
  {
   "cell_type": "code",
   "execution_count": 21,
   "id": "4f09828f-e05b-4ac2-ac10-fd0e6a9173e8",
   "metadata": {},
   "outputs": [
    {
     "data": {
      "text/plain": [
       "'History'"
      ]
     },
     "execution_count": 21,
     "metadata": {},
     "output_type": "execute_result"
    }
   ],
   "source": [
    "s[3]"
   ]
  },
  {
   "cell_type": "code",
   "execution_count": 22,
   "id": "d1ea3b5d-abc2-42f9-9136-3e49d5da308d",
   "metadata": {},
   "outputs": [
    {
     "data": {
      "text/plain": [
       "True"
      ]
     },
     "execution_count": 22,
     "metadata": {},
     "output_type": "execute_result"
    }
   ],
   "source": [
    "s[3] == s.iloc[3]"
   ]
  },
  {
   "cell_type": "markdown",
   "id": "256951a3-e4ce-4253-985b-5ef5d2250a83",
   "metadata": {},
   "source": [
    "If you pass in an **object** parameter to `[]`, the operator will act like the `.loc` label attribute:"
   ]
  },
  {
   "cell_type": "code",
   "execution_count": 23,
   "id": "2fab0e5a-7498-4a2e-a210-83dd0a197435",
   "metadata": {},
   "outputs": [
    {
     "data": {
      "text/plain": [
       "'English'"
      ]
     },
     "execution_count": 23,
     "metadata": {},
     "output_type": "execute_result"
    }
   ],
   "source": [
    "s['Molly']"
   ]
  },
  {
   "cell_type": "code",
   "execution_count": 24,
   "id": "e58bb36d-99e8-4407-8437-2f4f529625c8",
   "metadata": {},
   "outputs": [
    {
     "data": {
      "text/plain": [
       "True"
      ]
     },
     "execution_count": 24,
     "metadata": {},
     "output_type": "execute_result"
    }
   ],
   "source": [
    "s['Molly'] == s.loc['Molly']"
   ]
  },
  {
   "cell_type": "code",
   "execution_count": 25,
   "id": "2de602e1-94f2-4d82-9aa0-f8200aa3dd4a",
   "metadata": {},
   "outputs": [],
   "source": [
    "class_code = {99: 'Physics',\n",
    "              100: 'Chemistry',\n",
    "              101: 'History',\n",
    "              102: 'English'}\n",
    "s = pd.Series(class_code)"
   ]
  },
  {
   "cell_type": "markdown",
   "id": "3aad62c3-69e2-4c9a-bf4a-d43e1b6dae61",
   "metadata": {},
   "source": [
    "Try calling `s[0]` if we want the first item:"
   ]
  },
  {
   "cell_type": "code",
   "execution_count": 26,
   "id": "c425ca12-e33d-4704-86f3-02ebbe93c16c",
   "metadata": {},
   "outputs": [
    {
     "ename": "KeyError",
     "evalue": "0",
     "output_type": "error",
     "traceback": [
      "\u001b[0;31m---------------------------------------------------------------------------\u001b[0m",
      "\u001b[0;31mKeyError\u001b[0m                                  Traceback (most recent call last)",
      "File \u001b[0;32m/opt/conda/lib/python3.8/site-packages/pandas/core/indexes/base.py:3803\u001b[0m, in \u001b[0;36mIndex.get_loc\u001b[0;34m(self, key, method, tolerance)\u001b[0m\n\u001b[1;32m   3802\u001b[0m \u001b[38;5;28;01mtry\u001b[39;00m:\n\u001b[0;32m-> 3803\u001b[0m     \u001b[38;5;28;01mreturn\u001b[39;00m \u001b[38;5;28;43mself\u001b[39;49m\u001b[38;5;241;43m.\u001b[39;49m\u001b[43m_engine\u001b[49m\u001b[38;5;241;43m.\u001b[39;49m\u001b[43mget_loc\u001b[49m\u001b[43m(\u001b[49m\u001b[43mcasted_key\u001b[49m\u001b[43m)\u001b[49m\n\u001b[1;32m   3804\u001b[0m \u001b[38;5;28;01mexcept\u001b[39;00m \u001b[38;5;167;01mKeyError\u001b[39;00m \u001b[38;5;28;01mas\u001b[39;00m err:\n",
      "File \u001b[0;32m/opt/conda/lib/python3.8/site-packages/pandas/_libs/index.pyx:138\u001b[0m, in \u001b[0;36mpandas._libs.index.IndexEngine.get_loc\u001b[0;34m()\u001b[0m\n",
      "File \u001b[0;32m/opt/conda/lib/python3.8/site-packages/pandas/_libs/index.pyx:165\u001b[0m, in \u001b[0;36mpandas._libs.index.IndexEngine.get_loc\u001b[0;34m()\u001b[0m\n",
      "File \u001b[0;32mpandas/_libs/hashtable_class_helper.pxi:2263\u001b[0m, in \u001b[0;36mpandas._libs.hashtable.Int64HashTable.get_item\u001b[0;34m()\u001b[0m\n",
      "File \u001b[0;32mpandas/_libs/hashtable_class_helper.pxi:2273\u001b[0m, in \u001b[0;36mpandas._libs.hashtable.Int64HashTable.get_item\u001b[0;34m()\u001b[0m\n",
      "\u001b[0;31mKeyError\u001b[0m: 0",
      "\nThe above exception was the direct cause of the following exception:\n",
      "\u001b[0;31mKeyError\u001b[0m                                  Traceback (most recent call last)",
      "Input \u001b[0;32mIn [26]\u001b[0m, in \u001b[0;36m<cell line: 1>\u001b[0;34m()\u001b[0m\n\u001b[0;32m----> 1\u001b[0m \u001b[43ms\u001b[49m\u001b[43m[\u001b[49m\u001b[38;5;241;43m0\u001b[39;49m\u001b[43m]\u001b[49m\n",
      "File \u001b[0;32m/opt/conda/lib/python3.8/site-packages/pandas/core/series.py:981\u001b[0m, in \u001b[0;36mSeries.__getitem__\u001b[0;34m(self, key)\u001b[0m\n\u001b[1;32m    978\u001b[0m     \u001b[38;5;28;01mreturn\u001b[39;00m \u001b[38;5;28mself\u001b[39m\u001b[38;5;241m.\u001b[39m_values[key]\n\u001b[1;32m    980\u001b[0m \u001b[38;5;28;01melif\u001b[39;00m key_is_scalar:\n\u001b[0;32m--> 981\u001b[0m     \u001b[38;5;28;01mreturn\u001b[39;00m \u001b[38;5;28;43mself\u001b[39;49m\u001b[38;5;241;43m.\u001b[39;49m\u001b[43m_get_value\u001b[49m\u001b[43m(\u001b[49m\u001b[43mkey\u001b[49m\u001b[43m)\u001b[49m\n\u001b[1;32m    983\u001b[0m \u001b[38;5;28;01mif\u001b[39;00m is_hashable(key):\n\u001b[1;32m    984\u001b[0m     \u001b[38;5;66;03m# Otherwise index.get_value will raise InvalidIndexError\u001b[39;00m\n\u001b[1;32m    985\u001b[0m     \u001b[38;5;28;01mtry\u001b[39;00m:\n\u001b[1;32m    986\u001b[0m         \u001b[38;5;66;03m# For labels that don't resolve as scalars like tuples and frozensets\u001b[39;00m\n",
      "File \u001b[0;32m/opt/conda/lib/python3.8/site-packages/pandas/core/series.py:1089\u001b[0m, in \u001b[0;36mSeries._get_value\u001b[0;34m(self, label, takeable)\u001b[0m\n\u001b[1;32m   1086\u001b[0m     \u001b[38;5;28;01mreturn\u001b[39;00m \u001b[38;5;28mself\u001b[39m\u001b[38;5;241m.\u001b[39m_values[label]\n\u001b[1;32m   1088\u001b[0m \u001b[38;5;66;03m# Similar to Index.get_value, but we do not fall back to positional\u001b[39;00m\n\u001b[0;32m-> 1089\u001b[0m loc \u001b[38;5;241m=\u001b[39m \u001b[38;5;28;43mself\u001b[39;49m\u001b[38;5;241;43m.\u001b[39;49m\u001b[43mindex\u001b[49m\u001b[38;5;241;43m.\u001b[39;49m\u001b[43mget_loc\u001b[49m\u001b[43m(\u001b[49m\u001b[43mlabel\u001b[49m\u001b[43m)\u001b[49m\n\u001b[1;32m   1090\u001b[0m \u001b[38;5;28;01mreturn\u001b[39;00m \u001b[38;5;28mself\u001b[39m\u001b[38;5;241m.\u001b[39mindex\u001b[38;5;241m.\u001b[39m_get_values_for_loc(\u001b[38;5;28mself\u001b[39m, loc, label)\n",
      "File \u001b[0;32m/opt/conda/lib/python3.8/site-packages/pandas/core/indexes/base.py:3805\u001b[0m, in \u001b[0;36mIndex.get_loc\u001b[0;34m(self, key, method, tolerance)\u001b[0m\n\u001b[1;32m   3803\u001b[0m     \u001b[38;5;28;01mreturn\u001b[39;00m \u001b[38;5;28mself\u001b[39m\u001b[38;5;241m.\u001b[39m_engine\u001b[38;5;241m.\u001b[39mget_loc(casted_key)\n\u001b[1;32m   3804\u001b[0m \u001b[38;5;28;01mexcept\u001b[39;00m \u001b[38;5;167;01mKeyError\u001b[39;00m \u001b[38;5;28;01mas\u001b[39;00m err:\n\u001b[0;32m-> 3805\u001b[0m     \u001b[38;5;28;01mraise\u001b[39;00m \u001b[38;5;167;01mKeyError\u001b[39;00m(key) \u001b[38;5;28;01mfrom\u001b[39;00m \u001b[38;5;21;01merr\u001b[39;00m\n\u001b[1;32m   3806\u001b[0m \u001b[38;5;28;01mexcept\u001b[39;00m \u001b[38;5;167;01mTypeError\u001b[39;00m:\n\u001b[1;32m   3807\u001b[0m     \u001b[38;5;66;03m# If we have a listlike key, _check_indexing_error will raise\u001b[39;00m\n\u001b[1;32m   3808\u001b[0m     \u001b[38;5;66;03m#  InvalidIndexError. Otherwise we fall through and re-raise\u001b[39;00m\n\u001b[1;32m   3809\u001b[0m     \u001b[38;5;66;03m#  the TypeError.\u001b[39;00m\n\u001b[1;32m   3810\u001b[0m     \u001b[38;5;28mself\u001b[39m\u001b[38;5;241m.\u001b[39m_check_indexing_error(key)\n",
      "\u001b[0;31mKeyError\u001b[0m: 0"
     ]
    }
   ],
   "source": [
    "s[0]"
   ]
  },
  {
   "cell_type": "markdown",
   "id": "6085e2aa-1e23-4424-a545-0f85c0784df1",
   "metadata": {},
   "source": [
    "Gives us a `KeyError` because there are no items in the `class_codes` list with an index of zero, since the indices are the scores themselves. Therefore, we have to use `iloc` explicitly if we want the first item:"
   ]
  },
  {
   "cell_type": "code",
   "execution_count": 27,
   "id": "32f3ead7-36ac-4020-884c-d3cb35cb4861",
   "metadata": {},
   "outputs": [
    {
     "data": {
      "text/plain": [
       "'Physics'"
      ]
     },
     "execution_count": 27,
     "metadata": {},
     "output_type": "execute_result"
    }
   ],
   "source": [
    "s.iloc[0]"
   ]
  },
  {
   "cell_type": "markdown",
   "id": "e8a97e48-18bb-4212-bae0-c61df43e31d9",
   "metadata": {},
   "source": [
    "## Working with Data\n",
    "Types of tasks: find a certain number, summarizing data, transform data\n",
    "\n",
    "Iterate over all items in the series and invoke an operation.\n",
    "Example) find the average grade for a Series of student grades."
   ]
  },
  {
   "cell_type": "code",
   "execution_count": 28,
   "id": "89b95a5a-2b6d-4cd7-a93c-abd8cd262eef",
   "metadata": {},
   "outputs": [
    {
     "name": "stdout",
     "output_type": "stream",
     "text": [
      "75.0\n"
     ]
    }
   ],
   "source": [
    "# slow way\n",
    "grades = pd.Series([90, 80, 70, 60])\n",
    "\n",
    "total = 0\n",
    "for grade in grades:\n",
    "    total += grade\n",
    "print(total/len(grades))"
   ]
  },
  {
   "cell_type": "code",
   "execution_count": 34,
   "id": "2a2309a9-f867-46b4-aca8-853b9c793c4d",
   "metadata": {},
   "outputs": [
    {
     "name": "stdout",
     "output_type": "stream",
     "text": [
      "75.0\n"
     ]
    }
   ],
   "source": [
    "# vectorization way using Pandas and Numpy\n",
    "import numpy as np\n",
    "\n",
    "total = np.sum(grades)\n",
    "print(total/len(grades))"
   ]
  },
  {
   "cell_type": "markdown",
   "id": "60399f99-3f5a-43a1-810f-ed572cbc7810",
   "metadata": {},
   "source": [
    "### How to check which way was faster?\n",
    "Jupyter Notebook has magic functions using `%`."
   ]
  },
  {
   "cell_type": "code",
   "execution_count": 30,
   "id": "3f3a6f53-1851-43a6-97a1-89733d758aba",
   "metadata": {},
   "outputs": [
    {
     "data": {
      "text/plain": [
       "0    463\n",
       "1    960\n",
       "2    460\n",
       "3    338\n",
       "4     88\n",
       "dtype: int64"
      ]
     },
     "execution_count": 30,
     "metadata": {},
     "output_type": "execute_result"
    }
   ],
   "source": [
    "# create big series of 10k random numbers with values between 0 and 1000 (inclusive)\n",
    "numbers = pd.Series(np.random.randint(0,1000,10000))\n",
    "\n",
    "numbers.head()"
   ]
  },
  {
   "cell_type": "code",
   "execution_count": 31,
   "id": "2abd642a-b801-456a-b100-b03a243392db",
   "metadata": {},
   "outputs": [
    {
     "data": {
      "text/plain": [
       "10000"
      ]
     },
     "execution_count": 31,
     "metadata": {},
     "output_type": "execute_result"
    }
   ],
   "source": [
    "len(numbers)"
   ]
  },
  {
   "cell_type": "markdown",
   "id": "8fb51f57-f1d6-4f5a-94f0-e5905676589e",
   "metadata": {},
   "source": [
    "Use a **cellular magic function** with 2 `%` signs called `timeit`. In a Jupyter Notebook, it must be the first line of the cell."
   ]
  },
  {
   "cell_type": "code",
   "execution_count": 32,
   "id": "b503608c-0bad-45d1-b24f-de103a1e132f",
   "metadata": {},
   "outputs": [
    {
     "name": "stdout",
     "output_type": "stream",
     "text": [
      "1.09 ms ± 16.8 µs per loop (mean ± std. dev. of 7 runs, 100 loops each)\n"
     ]
    }
   ],
   "source": [
    "%%timeit -n 100 # pass in 100 for the number of loops\n",
    "total = 0\n",
    "for number in numbers:\n",
    "    total += number\n",
    "    \n",
    "total/len(numbers)"
   ]
  },
  {
   "cell_type": "code",
   "execution_count": 33,
   "id": "b62eac0c-bb17-466c-914b-0c3e57e55b51",
   "metadata": {},
   "outputs": [
    {
     "name": "stdout",
     "output_type": "stream",
     "text": [
      "51.5 µs ± 3.87 µs per loop (mean ± std. dev. of 7 runs, 100 loops each)\n"
     ]
    }
   ],
   "source": [
    "%%timeit -n 100\n",
    "total = np.sum(numbers)\n",
    "total/len(numbers)"
   ]
  },
  {
   "cell_type": "markdown",
   "id": "de6171ae-52ea-42a0-8d46-7f8449d14a5c",
   "metadata": {},
   "source": [
    "### Broadcasting\n",
    "Applying an operation to every value in the series, changing the series."
   ]
  },
  {
   "cell_type": "code",
   "execution_count": 35,
   "id": "defec591-a0fa-4f85-9910-4d87d7fcedff",
   "metadata": {},
   "outputs": [
    {
     "data": {
      "text/plain": [
       "0    463\n",
       "1    960\n",
       "2    460\n",
       "3    338\n",
       "4     88\n",
       "dtype: int64"
      ]
     },
     "execution_count": 35,
     "metadata": {},
     "output_type": "execute_result"
    }
   ],
   "source": [
    "numbers.head()"
   ]
  },
  {
   "cell_type": "code",
   "execution_count": 36,
   "id": "c6f0d960-aa7f-4c31-9ee8-3264ab5af878",
   "metadata": {},
   "outputs": [
    {
     "data": {
      "text/plain": [
       "0    465\n",
       "1    962\n",
       "2    462\n",
       "3    340\n",
       "4     90\n",
       "dtype: int64"
      ]
     },
     "execution_count": 36,
     "metadata": {},
     "output_type": "execute_result"
    }
   ],
   "source": [
    "numbers += 2\n",
    "numbers.head()"
   ]
  },
  {
   "cell_type": "markdown",
   "id": "cfc7e126-15b8-4480-9e5f-3ccedf0cf84b",
   "metadata": {},
   "source": [
    "The procedural way is to iterate through all items in series and increase values directly using `.iteritems()`. Pandas supports iterating through series like a dictionary."
   ]
  },
  {
   "cell_type": "code",
   "execution_count": 37,
   "id": "2d684d47-cbd6-418d-8d1d-a1dbad085502",
   "metadata": {},
   "outputs": [
    {
     "data": {
      "text/plain": [
       "0    467\n",
       "1    964\n",
       "2    464\n",
       "3    342\n",
       "4     92\n",
       "dtype: int64"
      ]
     },
     "execution_count": 37,
     "metadata": {},
     "output_type": "execute_result"
    }
   ],
   "source": [
    "for label, value in numbers.iteritems():\n",
    "    #numbers.set_value(label value+2)    # old way\n",
    "    numbers.at[label] = value+2\n",
    "    \n",
    "numbers.head()"
   ]
  },
  {
   "cell_type": "markdown",
   "id": "11f39438-318e-4c4f-a417-1470a2e0129b",
   "metadata": {},
   "source": [
    "### Should You Be Iterating?\n",
    "If you find yourself iterating any time in pandas, you should question whether you're doing things in the best possible way."
   ]
  },
  {
   "cell_type": "code",
   "execution_count": 38,
   "id": "74f7bac3-6e08-439a-9fda-cb01b332b193",
   "metadata": {},
   "outputs": [
    {
     "name": "stdout",
     "output_type": "stream",
     "text": [
      "38.7 ms ± 805 µs per loop (mean ± std. dev. of 7 runs, 10 loops each)\n"
     ]
    }
   ],
   "source": [
    "%%timeit -n 10\n",
    "s = pd.Series(np.random.randint(0,1000,1000))\n",
    "\n",
    "for label, value in s.iteritems():\n",
    "    s.loc[label] = value + 2"
   ]
  },
  {
   "cell_type": "code",
   "execution_count": 39,
   "id": "d1143166-5416-4245-9482-cb4d8df3341e",
   "metadata": {},
   "outputs": [
    {
     "name": "stdout",
     "output_type": "stream",
     "text": [
      "155 µs ± 45.2 µs per loop (mean ± std. dev. of 7 runs, 10 loops each)\n"
     ]
    }
   ],
   "source": [
    "%%timeit -n 10\n",
    "s = pd.Series(np.random.randint(0,1000,1000))\n",
    "s+=2"
   ]
  },
  {
   "cell_type": "markdown",
   "id": "7f4fd592-d2ba-4655-b709-ca6ea368b22f",
   "metadata": {},
   "source": [
    "### One Last Note\n",
    "The `.loc` attribute lets you modify data in place and add new data. If the value you pass in as the index doesn't exist, the new entry will be added. Indices can have mixed types. Pandas will automatically change the underlying NumPy types as appropriate."
   ]
  },
  {
   "cell_type": "code",
   "execution_count": 40,
   "id": "202374e7-c551-440f-9c92-9cfb9864e144",
   "metadata": {},
   "outputs": [
    {
     "data": {
      "text/plain": [
       "0            1\n",
       "1            2\n",
       "2            3\n",
       "History    102\n",
       "dtype: int64"
      ]
     },
     "execution_count": 40,
     "metadata": {},
     "output_type": "execute_result"
    }
   ],
   "source": [
    "s = pd.Series([1,2,3])\n",
    "\n",
    "s.loc['History'] = 102\n",
    "\n",
    "s"
   ]
  },
  {
   "cell_type": "markdown",
   "id": "8e2985dd-449e-4ff6-a478-129cf01aa260",
   "metadata": {},
   "source": [
    "### Non-Unique Indicies"
   ]
  },
  {
   "cell_type": "code",
   "execution_count": 43,
   "id": "7f6c2832-e277-4312-8e34-6792c0cb5c1e",
   "metadata": {},
   "outputs": [
    {
     "data": {
      "text/plain": [
       "Alice      Physics\n",
       "Jack     Chemistry\n",
       "Molly      English\n",
       "Sam        History\n",
       "dtype: object"
      ]
     },
     "execution_count": 43,
     "metadata": {},
     "output_type": "execute_result"
    }
   ],
   "source": [
    "students_classes = pd.Series({'Alice': 'Physics',\n",
    "                   'Jack': 'Chemistry',\n",
    "                   'Molly': 'English',\n",
    "                   'Sam': 'History'})\n",
    "\n",
    "students_classes"
   ]
  },
  {
   "cell_type": "code",
   "execution_count": 44,
   "id": "09b111c9-c394-4481-9f96-8f8f02aed469",
   "metadata": {},
   "outputs": [
    {
     "data": {
      "text/plain": [
       "Kelly    Philosophy\n",
       "Kelly          Arts\n",
       "Kelly          Math\n",
       "dtype: object"
      ]
     },
     "execution_count": 44,
     "metadata": {},
     "output_type": "execute_result"
    }
   ],
   "source": [
    "kelly_classes = pd.Series(['Philosophy', 'Arts', 'Math'], index = ['Kelly','Kelly','Kelly'])\n",
    "kelly_classes"
   ]
  },
  {
   "cell_type": "code",
   "execution_count": 45,
   "id": "40e6d530-5202-4edc-9da3-52f59b58d0a5",
   "metadata": {},
   "outputs": [
    {
     "data": {
      "text/plain": [
       "Alice       Physics\n",
       "Jack      Chemistry\n",
       "Molly       English\n",
       "Sam         History\n",
       "Kelly    Philosophy\n",
       "Kelly          Arts\n",
       "Kelly          Math\n",
       "dtype: object"
      ]
     },
     "execution_count": 45,
     "metadata": {},
     "output_type": "execute_result"
    }
   ],
   "source": [
    "all_students_classes = students_classes.append(kelly_classes)\n",
    "all_students_classes"
   ]
  },
  {
   "cell_type": "markdown",
   "id": "91a72cb6-ce2b-4a5f-a9d6-da98142b91e5",
   "metadata": {},
   "source": [
    "When you append two series together, Pandas will infer the best data types to use. The `append()` doesn't change the underlying series `students_classes`, it returns a new Series made up of the two appended series. Pandas by default returns a new object, not modifying the one in place."
   ]
  },
  {
   "cell_type": "code",
   "execution_count": 46,
   "id": "89bc7827-2111-40e0-91aa-802374ca4a00",
   "metadata": {},
   "outputs": [
    {
     "data": {
      "text/plain": [
       "Alice      Physics\n",
       "Jack     Chemistry\n",
       "Molly      English\n",
       "Sam        History\n",
       "dtype: object"
      ]
     },
     "execution_count": 46,
     "metadata": {},
     "output_type": "execute_result"
    }
   ],
   "source": [
    "students_classes"
   ]
  },
  {
   "cell_type": "code",
   "execution_count": 47,
   "id": "646e6575-2bce-4f6a-89c6-9b9e1ff7e057",
   "metadata": {},
   "outputs": [
    {
     "data": {
      "text/plain": [
       "Kelly    Philosophy\n",
       "Kelly          Arts\n",
       "Kelly          Math\n",
       "dtype: object"
      ]
     },
     "execution_count": 47,
     "metadata": {},
     "output_type": "execute_result"
    }
   ],
   "source": [
    "all_students_classes.loc['Kelly']"
   ]
  },
  {
   "cell_type": "markdown",
   "id": "1ac54e5a-cb07-4bb0-aa3e-9140dd760fdd",
   "metadata": {},
   "source": [
    "# Topics Discussed:\n",
    "- how to query\n",
    "- `.loc` and `.iloc`\n",
    "- `Series` is an indexed data structure\n",
    "- how to merge two `Series` with `append()`\n",
    "- vectorization"
   ]
  },
  {
   "cell_type": "code",
   "execution_count": null,
   "id": "6defb263-f0c8-4e05-b610-5b8df4055af3",
   "metadata": {},
   "outputs": [],
   "source": []
  }
 ],
 "metadata": {
  "kernelspec": {
   "display_name": "Python 3 (ipykernel)",
   "language": "python",
   "name": "python3"
  },
  "language_info": {
   "codemirror_mode": {
    "name": "ipython",
    "version": 3
   },
   "file_extension": ".py",
   "mimetype": "text/x-python",
   "name": "python",
   "nbconvert_exporter": "python",
   "pygments_lexer": "ipython3",
   "version": "3.8.10"
  }
 },
 "nbformat": 4,
 "nbformat_minor": 5
}
